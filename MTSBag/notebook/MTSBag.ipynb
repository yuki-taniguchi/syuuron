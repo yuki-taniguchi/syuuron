{
 "cells": [
  {
   "cell_type": "code",
   "execution_count": 1,
   "metadata": {},
   "outputs": [],
   "source": [
    "import pandas as pd\n",
    "import numpy as np\n",
    "\n",
    "import math\n",
    "import random\n",
    "\n",
    "from sklearn.preprocessing import StandardScaler\n",
    "from sklearn.model_selection import train_test_split\n",
    "from sklearn.metrics import roc_auc_score\n",
    "\n",
    "from sklearn.utils import resample\n",
    "\n",
    "from tqdm import tqdm \n"
   ]
  },
  {
   "cell_type": "code",
   "execution_count": 2,
   "metadata": {},
   "outputs": [],
   "source": [
    "n_estimators = 10\n",
    "max_samples = 0.5\n",
    "select_data = 'letter'"
   ]
  },
  {
   "cell_type": "code",
   "execution_count": 3,
   "metadata": {},
   "outputs": [],
   "source": [
    "if select_data == 'letter':\n",
    "    # データの取得\n",
    "    df = pd.read_csv('../data/letter_recognition.csv', header=None)\n",
    "\n",
    "    # Aのみを判定するため，Aを0，A以外を1にした．\n",
    "    # 少数派のAを正常，その他を異常データと定義\n",
    "    df[0] = df[0].apply(lambda x: 0 if x == 'A' else 1)\n",
    "\n",
    "    #Xとyを入力\n",
    "    X = df[range(1,17)]\n",
    "    y = df[0]\n",
    "\n",
    "elif select_data == 'wine':\n",
    "\n",
    "    import tensorflow as tf\n",
    "\n",
    "    dataset_url = \"https://archive.ics.uci.edu/ml/machine-learning-databases/wine/wine.data\"\n",
    "\n",
    "    # ファイルのダウンロード\n",
    "    dataset_path = tf.keras.utils.get_file('wine.data', dataset_url)\n",
    "\n",
    "    print(dataset_path)\n",
    "\n",
    "    column_names = ['Alcohol',\n",
    "    'Malic acid',\n",
    "    'Ash',\n",
    "    'Alcalinity of ash',\n",
    "    'Magnesium',\n",
    "    'Total phenols',\n",
    "    'Flavanoids',\n",
    "    'Nonflavanoid phenols',\n",
    "    'Proanthocyanins',\n",
    "    'Color intensity',\n",
    "    'Hue',\n",
    "    'OD280/OD315 of diluted wines',\n",
    "    'Proline' \n",
    "    ]\n",
    "\n",
    "    raw_data = pd.read_csv(dataset_path, names=column_names)\n",
    "    raw_data['y'] = raw_data.index\n",
    "    raw_data = raw_data.reset_index(drop=True)\n",
    "\n",
    "    raw_data['y'] = raw_data['y'].apply(lambda x: 0 if x == 3 else 1)\n",
    "\n",
    "    X = raw_data.drop('y', axis=1)\n",
    "    y = raw_data['y']\n",
    "\n",
    "else:\n",
    "    print('そのデータはありません')"
   ]
  },
  {
   "cell_type": "code",
   "execution_count": 4,
   "metadata": {},
   "outputs": [],
   "source": [
    "X_train, X_test, y_train, y_test = train_test_split(X, y, test_size=0.2)"
   ]
  },
  {
   "cell_type": "code",
   "execution_count": 5,
   "metadata": {},
   "outputs": [],
   "source": [
    "# 必要な関数の定義\n",
    "\n",
    "# 共分散行列の逆行列\n",
    "def inv_cov(Z):\n",
    "    #標準化後のベクトルを入力する\n",
    "    #標準化した後なので相関行列と分散共分散行列は一致する\n",
    "    c = np.cov(Z.T)\n",
    "    return np.linalg.inv(c)\n",
    "\n",
    "#マハラノビス汎距離\n",
    "def cal_MD(Z, inv_C):\n",
    "    '''\n",
    "    Z:標準化したベクトル\n",
    "    inv_C:標準化後の共分散行列\n",
    "    '''\n",
    "    MD = []\n",
    "    for i in range(len(Z)):\n",
    "        _a = np.dot(Z[i], inv_C)\n",
    "        _MD = np.dot(_a, Z[i].T)\n",
    "        _MD = _MD / Z.shape[1]\n",
    "        MD.append(_MD)\n",
    "    return MD\n",
    "\n",
    "# MTSを実行\n",
    "def fit_MTS(X, y):\n",
    "    \n",
    "    # 正常データのみを使用して標準化\n",
    "    scaler = StandardScaler()\n",
    "    scaler.fit(X[y == 0])\n",
    "    normal_Z = scaler.transform(X[y == 0])\n",
    "    anomaly_Z = scaler.transform(X[y == 1])\n",
    "\n",
    "    # 正常データのみを使用して共分散行列を計算\n",
    "    inv_C = inv_cov(normal_Z)\n",
    "\n",
    "    # いったん飛ばす，削除の基準は？削除しない方法もあるっぽい？\n",
    "        #１度目の仮のマハラノビス距離を計算\n",
    "        # MD_1st = cal_MD(normal_Z, inv_C)\n",
    "        # もしもマハラノビス距離が余りにも大きいサンプルがあれば任意で削除する\n",
    "        # 削除後のデータを使用して標準化と共分散行列を計算\n",
    "\n",
    "    # 異常データと直交表を用いてSN比を計算\n",
    "    #L8直行表\n",
    "    df_l8 = pd.DataFrame([[1,1,1,1,1,1,1],[1,1,1,2,2,2,2],[1,2,2,1,1,2,2],[1,2,2,2,2,1,1],[2,1,2,1,2,1,2],[2,1,2,2,1,2,1],[2,2,1,1,2,2,1],[2,2,1,2,1,1,2]])\n",
    "    l8 = (df_l8==1).values\n",
    "\n",
    "    #異常データのマハラノビス距離\n",
    "    result = np.zeros((l8.shape[0], anomaly_Z.shape[0]))\n",
    "    for x, l8_row in enumerate(l8):\n",
    "        result[x] = cal_MD(anomaly_Z[:, l8_row], inv_C[l8_row][:,l8_row])\n",
    "\n",
    "    #SN比\n",
    "    sn = np.zeros(l8.shape[0])\n",
    "    for idx, row in enumerate(result):\n",
    "        sum_MD = 0\n",
    "        for i in range(len(row)):\n",
    "            sum_MD += 1 / row[i]\n",
    "        sn[idx] = -10 * math.log10(sum_MD / len(row))\n",
    "        \n",
    "    # SN比を利用し，不要と思われる変数を削除する\n",
    "    #変数選択\n",
    "    df_sn = pd.DataFrame(index=X.columns, columns=['SN比','残す'])\n",
    "    for i, clm in enumerate(X.columns):\n",
    "        df_sn.loc[df_sn.index == clm, 'SN比'] = sum(sn[l8.T[i]]) - sum(sn[~l8.T[i]])\n",
    "        df_sn.loc[df_sn.index == clm, '残す'] = sum(sn[l8.T[i]]) - sum(sn[~l8.T[i]]) > 0\n",
    "    select_columns = df_sn[df_sn['残す']].index\n",
    "    \n",
    "    if len(select_columns) > 1:\n",
    "        # 選択変数でのスケーラーと共分散行列を計算\n",
    "        result_scaler = StandardScaler()\n",
    "        result_scaler.fit(X[select_columns][y == 0])\n",
    "        result_Z = result_scaler.transform(X[select_columns][y == 0])\n",
    "        result_inv_C = inv_cov(result_Z)\n",
    "    else:\n",
    "        select_columns = df_sn['SN比'].astype(float).idxmax()\n",
    "        result_scaler = 0\n",
    "        result_inv_C = 0\n",
    "\n",
    "    # 単位空間のスケーラーと共分散行列と選択した変数を出力\n",
    "    return result_scaler, result_inv_C, select_columns\n",
    "\n",
    "# 新しいデータのマハラノビス距離を計算する\n",
    "def predict_MTS(X, scaler, inv_C, select_columns):\n",
    "    Z = scaler.transform(X[select_columns])\n",
    "    MD = cal_MD(Z, inv_C)\n",
    "    return MD\n",
    "\n",
    "def determine_threshold(y_true, y_pred):\n",
    "    df_pred = pd.DataFrame(y_true)\n",
    "    df_pred['pred'] = y_pred\n",
    "    df_pred = df_pred.sort_values('pred').reset_index(drop=True)\n",
    "\n",
    "\n",
    "    min_gini = np.inf\n",
    "    threshold = 0\n",
    "    for i in range(len(df_pred)):\n",
    "        \n",
    "        neg = df_pred.iloc[:i+1]\n",
    "        pos = df_pred.iloc[i:]\n",
    "\n",
    "        p_neg = sum(neg[y_true.name]) / len(neg)\n",
    "        gini_neg = 1 - ( p_neg ** 2 + ( 1 - p_neg ) ** 2 )\n",
    "\n",
    "        p_pos = sum(pos[y_true.name]) / len(pos)\n",
    "        gini_pos = 1 - ( p_pos ** 2 + ( 1 - p_pos ) ** 2 )\n",
    "\n",
    "        gini_split = (len(neg) / len(df_pred) * gini_neg) + (len(pos) / len(df_pred) * gini_pos)\n",
    "\n",
    "        if min_gini > gini_split:\n",
    "            min_gini = gini_split\n",
    "            threshold = df_pred.iloc[i]['pred']\n",
    "            threshold_idx = i\n",
    "        # print(i, gini_split, df_pred.iloc[i]['pred'])\n",
    "\n",
    "    print('~~~~~~~~~~~~~~~~~~~~~~~~~~~~~~~~~~~~~~~~~~~~~~~')\n",
    "    print('Best paramater')\n",
    "    print(threshold_idx, min_gini, threshold)\n",
    "    print('~~~~~~~~~~~~~~~~~~~~~~~~~~~~~~~~~~~~~~~~~~~~~~~')\n",
    "\n",
    "    print('AUC : ', roc_auc_score(y_true.values, y_pred))\n",
    "\n",
    "    recall = df_pred.iloc[threshold_idx + 1:][y_true.name].sum() / df_pred[y_true.name].sum()\n",
    "    print('recall : ', recall)\n",
    "\n",
    "    precision = df_pred.iloc[threshold_idx + 1:][y_true.name].mean()\n",
    "    print('precision :', precision)\n",
    "\n",
    "    g_mean = np.sqrt(recall * precision)\n",
    "    print('g_mean : ', g_mean)\n",
    "\n",
    "    RS = recall / precision\n",
    "    print('RS : ', RS)\n",
    "    return threshold"
   ]
  },
  {
   "cell_type": "code",
   "execution_count": 6,
   "metadata": {},
   "outputs": [
    {
     "name": "stderr",
     "output_type": "stream",
     "text": [
      " 10%|█         | 1/10 [00:09<01:22,  9.17s/it]"
     ]
    },
    {
     "name": "stdout",
     "output_type": "stream",
     "text": [
      "~~~~~~~~~~~~~~~~~~~~~~~~~~~~~~~~~~~~~~~~~~~~~~~\n",
      "Best paramater\n",
      "355 0.047789998660306116 0.43411119245419666\n",
      "~~~~~~~~~~~~~~~~~~~~~~~~~~~~~~~~~~~~~~~~~~~~~~~\n",
      "AUC :  0.8859121038961039\n",
      "recall :  0.9856623376623377\n",
      "precision : 0.98372044794691\n",
      "g_mean :  0.9846909141093937\n",
      "RS :  1.001974025974026\n"
     ]
    },
    {
     "name": "stderr",
     "output_type": "stream",
     "text": [
      " 20%|██        | 2/10 [00:18<01:13,  9.17s/it]"
     ]
    },
    {
     "name": "stdout",
     "output_type": "stream",
     "text": [
      "~~~~~~~~~~~~~~~~~~~~~~~~~~~~~~~~~~~~~~~~~~~~~~~\n",
      "Best paramater\n",
      "373 0.05167271527438706 0.5984283956204773\n",
      "~~~~~~~~~~~~~~~~~~~~~~~~~~~~~~~~~~~~~~~~~~~~~~~\n",
      "AUC :  0.9275144420109076\n",
      "recall :  0.9888958726168029\n",
      "precision : 0.9806773322252234\n",
      "g_mean :  0.9847780289011228\n",
      "RS :  1.0083804734967525\n"
     ]
    },
    {
     "name": "stderr",
     "output_type": "stream",
     "text": [
      " 30%|███       | 3/10 [00:27<01:04,  9.14s/it]"
     ]
    },
    {
     "name": "stdout",
     "output_type": "stream",
     "text": [
      "~~~~~~~~~~~~~~~~~~~~~~~~~~~~~~~~~~~~~~~~~~~~~~~\n",
      "Best paramater\n",
      "447 0.055602051711504355 0.534150118068655\n",
      "~~~~~~~~~~~~~~~~~~~~~~~~~~~~~~~~~~~~~~~~~~~~~~~\n",
      "AUC :  0.8920185424591007\n",
      "recall :  0.9766836681586343\n",
      "precision : 0.9823073701842546\n",
      "g_mean :  0.9794914831537941\n",
      "RS :  0.9942750078068074\n"
     ]
    },
    {
     "name": "stderr",
     "output_type": "stream",
     "text": [
      " 40%|████      | 4/10 [00:36<00:54,  9.16s/it]"
     ]
    },
    {
     "name": "stdout",
     "output_type": "stream",
     "text": [
      "~~~~~~~~~~~~~~~~~~~~~~~~~~~~~~~~~~~~~~~~~~~~~~~\n",
      "Best paramater\n",
      "1777 0.07139598581279125 1.0292427080788324\n",
      "~~~~~~~~~~~~~~~~~~~~~~~~~~~~~~~~~~~~~~~~~~~~~~~\n",
      "AUC :  0.8450689981278832\n",
      "recall :  0.8446065659197499\n",
      "precision : 0.9856482607638044\n",
      "g_mean :  0.9124061555735422\n",
      "RS :  0.8569046378322044\n"
     ]
    },
    {
     "name": "stderr",
     "output_type": "stream",
     "text": [
      " 50%|█████     | 5/10 [00:45<00:45,  9.16s/it]"
     ]
    },
    {
     "name": "stdout",
     "output_type": "stream",
     "text": [
      "~~~~~~~~~~~~~~~~~~~~~~~~~~~~~~~~~~~~~~~~~~~~~~~\n",
      "Best paramater\n",
      "446 0.06214180101427473 0.584504087514846\n",
      "~~~~~~~~~~~~~~~~~~~~~~~~~~~~~~~~~~~~~~~~~~~~~~~\n",
      "AUC :  0.9055693176326967\n",
      "recall :  0.9748696558915537\n",
      "precision : 0.9786454516905684\n",
      "g_mean :  0.9767557293046295\n",
      "RS :  0.9961418143899896\n"
     ]
    },
    {
     "name": "stderr",
     "output_type": "stream",
     "text": [
      " 60%|██████    | 6/10 [00:55<00:36,  9.23s/it]"
     ]
    },
    {
     "name": "stdout",
     "output_type": "stream",
     "text": [
      "~~~~~~~~~~~~~~~~~~~~~~~~~~~~~~~~~~~~~~~~~~~~~~~\n",
      "Best paramater\n",
      "180 0.04707046831924932 0.2793961908815195\n",
      "~~~~~~~~~~~~~~~~~~~~~~~~~~~~~~~~~~~~~~~~~~~~~~~\n",
      "AUC :  0.8758935605646133\n",
      "recall :  0.9977130977130977\n",
      "precision : 0.9774926163560445\n",
      "g_mean :  0.9875511056427762\n",
      "RS :  1.0206860706860705\n"
     ]
    },
    {
     "name": "stderr",
     "output_type": "stream",
     "text": [
      " 70%|███████   | 7/10 [01:04<00:27,  9.23s/it]"
     ]
    },
    {
     "name": "stdout",
     "output_type": "stream",
     "text": [
      "~~~~~~~~~~~~~~~~~~~~~~~~~~~~~~~~~~~~~~~~~~~~~~~\n",
      "Best paramater\n",
      "560 0.061512970784615886 0.6288478406275305\n",
      "~~~~~~~~~~~~~~~~~~~~~~~~~~~~~~~~~~~~~~~~~~~~~~~\n",
      "AUC :  0.9013422623301346\n",
      "recall :  0.9676307820820716\n",
      "precision : 0.9817777306918106\n",
      "g_mean :  0.9746785897823335\n",
      "RS :  0.9855904771849222\n"
     ]
    },
    {
     "name": "stderr",
     "output_type": "stream",
     "text": [
      " 80%|████████  | 8/10 [01:13<00:18,  9.21s/it]"
     ]
    },
    {
     "name": "stdout",
     "output_type": "stream",
     "text": [
      "~~~~~~~~~~~~~~~~~~~~~~~~~~~~~~~~~~~~~~~~~~~~~~~\n",
      "Best paramater\n",
      "251 0.04145617792301046 0.6463003168164578\n",
      "~~~~~~~~~~~~~~~~~~~~~~~~~~~~~~~~~~~~~~~~~~~~~~~\n",
      "AUC :  0.9577856328030845\n",
      "recall :  0.9965621418897802\n",
      "precision : 0.9813295034878949\n",
      "g_mean :  0.9889164938939643\n",
      "RS :  1.015522450255235\n"
     ]
    },
    {
     "name": "stderr",
     "output_type": "stream",
     "text": [
      " 90%|█████████ | 9/10 [01:22<00:09,  9.20s/it]"
     ]
    },
    {
     "name": "stdout",
     "output_type": "stream",
     "text": [
      "~~~~~~~~~~~~~~~~~~~~~~~~~~~~~~~~~~~~~~~~~~~~~~~\n",
      "Best paramater\n",
      "556 0.057006899177766676 0.8884778332703787\n",
      "~~~~~~~~~~~~~~~~~~~~~~~~~~~~~~~~~~~~~~~~~~~~~~~\n",
      "AUC :  0.9326604231703088\n",
      "recall :  0.9669094693028095\n",
      "precision : 0.9840093190723287\n",
      "g_mean :  0.9754219233199777\n",
      "RS :  0.9826222684703434\n"
     ]
    },
    {
     "name": "stderr",
     "output_type": "stream",
     "text": [
      "100%|██████████| 10/10 [01:31<00:00,  9.19s/it]"
     ]
    },
    {
     "name": "stdout",
     "output_type": "stream",
     "text": [
      "~~~~~~~~~~~~~~~~~~~~~~~~~~~~~~~~~~~~~~~~~~~~~~~\n",
      "Best paramater\n",
      "481 0.050132251374080845 0.7192746037762818\n",
      "~~~~~~~~~~~~~~~~~~~~~~~~~~~~~~~~~~~~~~~~~~~~~~~\n",
      "AUC :  0.9175100952380953\n",
      "recall :  0.9751688311688311\n",
      "precision : 0.9861315402395461\n",
      "g_mean :  0.9806348665400988\n",
      "RS :  0.9888831168831169\n"
     ]
    },
    {
     "name": "stderr",
     "output_type": "stream",
     "text": [
      "\n"
     ]
    }
   ],
   "source": [
    "\n",
    "# K:再標本化の回数 SIZE:再標本化されたもののサンプルサイズ\n",
    "K = n_estimators\n",
    "SIZE = int(len(X) * max_samples)\n",
    "\n",
    "# 予測に必要なパラメータ\n",
    "select_columns = [0] * K\n",
    "result_scaler = [0] * K\n",
    "result_inv_C = [0] * K\n",
    "threshold = [0] * K\n",
    "\n",
    "for i in tqdm(range(K)):\n",
    "    # bootstrap sampling\n",
    "    resampled_data_x, resampled_data_y = resample(X_train, y_train, n_samples = SIZE)\n",
    "    random_s = random.sample(list(resampled_data_x.columns), 7)\n",
    "    resampled_data_x = resampled_data_x[random_s]\n",
    "\n",
    "    result_scaler[i], result_inv_C[i], select_columns[i] = fit_MTS(resampled_data_x, resampled_data_y)\n",
    "\n",
    "    if result_scaler[i] != 0:\n",
    "        y_pred = predict_MTS(resampled_data_x, result_scaler[i], result_inv_C[i], select_columns[i])\n",
    "    else:\n",
    "        y_pred = resampled_data_x[select_columns[i]]\n",
    "\n",
    "    threshold[i] = determine_threshold(resampled_data_y, y_pred)\n",
    "    "
   ]
  },
  {
   "cell_type": "code",
   "execution_count": 7,
   "metadata": {},
   "outputs": [
    {
     "name": "stdout",
     "output_type": "stream",
     "text": [
      "[Int64Index([8, 7, 11], dtype='int64'), Int64Index([14, 11, 13, 15], dtype='int64'), Int64Index([1, 11, 7], dtype='int64'), Int64Index([15, 4, 1, 6, 12], dtype='int64'), Int64Index([10, 7, 12], dtype='int64'), Int64Index([12, 15, 14, 13], dtype='int64'), Int64Index([7, 1, 11], dtype='int64'), Int64Index([11, 15, 7, 9], dtype='int64'), Int64Index([13, 16, 7, 10], dtype='int64'), Int64Index([7, 15, 3, 11], dtype='int64')]\n"
     ]
    }
   ],
   "source": [
    "print(select_columns)\n",
    "# print(result_scaler)\n",
    "# print(result_inv_C)\n",
    "# print(threshold)"
   ]
  },
  {
   "cell_type": "markdown",
   "metadata": {},
   "source": [
    "## とりあえずあとは予測だけ"
   ]
  },
  {
   "cell_type": "code",
   "execution_count": 8,
   "metadata": {},
   "outputs": [],
   "source": [
    "def predict_MTSBag(X, scaler, inv_C, select_columns, threshold):\n",
    "    result = []\n",
    "    for i in range(K):\n",
    "        Z = scaler[i].transform(X[select_columns[i]])\n",
    "        MD = cal_MD(Z, inv_C[i])\n",
    "        if MD > threshold[i]:\n",
    "            result.append(True)\n",
    "        else:\n",
    "            result.append(False)\n",
    "    return sum(result) / K"
   ]
  },
  {
   "cell_type": "code",
   "execution_count": null,
   "metadata": {},
   "outputs": [],
   "source": []
  }
 ],
 "metadata": {
  "interpreter": {
   "hash": "c7e6621f5c0e725993c5f5dd1734f3da8dc8c958ed2c46496e37b878d46070df"
  },
  "kernelspec": {
   "display_name": "Python 3.8.10 64-bit ('convenient': conda)",
   "language": "python",
   "name": "python3"
  },
  "language_info": {
   "codemirror_mode": {
    "name": "ipython",
    "version": 3
   },
   "file_extension": ".py",
   "mimetype": "text/x-python",
   "name": "python",
   "nbconvert_exporter": "python",
   "pygments_lexer": "ipython3",
   "version": "3.8.10"
  },
  "orig_nbformat": 4
 },
 "nbformat": 4,
 "nbformat_minor": 2
}
