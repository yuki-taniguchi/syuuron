{
 "cells": [
  {
   "cell_type": "markdown",
   "metadata": {},
   "source": [
    "# 分析結果を集計するノートブック\n",
    "- 一旦AUCだけで比較してみる\n",
    "- output/ファイルから各手法の各データの結果をまとめる\n",
    "- それらの平均をまとめる\n",
    "- 分散分析とかグラフとかにして表示する"
   ]
  },
  {
   "cell_type": "code",
   "execution_count": 1,
   "metadata": {},
   "outputs": [],
   "source": [
    "from glob import glob\n",
    "\n",
    "import pandas as pd\n",
    "import numpy as np"
   ]
  },
  {
   "cell_type": "code",
   "execution_count": 2,
   "metadata": {},
   "outputs": [],
   "source": [
    "ex_name = '0514'"
   ]
  },
  {
   "cell_type": "code",
   "execution_count": 5,
   "metadata": {},
   "outputs": [
    {
     "data": {
      "text/plain": [
       "['../data/output\\\\0514_MTGS_1504_result.csv',\n",
       " '../data/output\\\\0514_MTS_1504_result.csv',\n",
       " '../data/output\\\\0514_WMTGS_1504_result.csv',\n",
       " '../data/output\\\\0514_WMTS_1504_result.csv']"
      ]
     },
     "execution_count": 5,
     "metadata": {},
     "output_type": "execute_result"
    }
   ],
   "source": [
    "file_list = glob(f'../data/output/{ex_name}*')\n",
    "file_list"
   ]
  },
  {
   "cell_type": "code",
   "execution_count": 6,
   "metadata": {},
   "outputs": [
    {
     "data": {
      "text/plain": [
       "['MTGS', 'WMTS', 'WMTGS', 'MTS']"
      ]
     },
     "execution_count": 6,
     "metadata": {},
     "output_type": "execute_result"
    }
   ],
   "source": [
    "e_index = ['AUC', 'accuracy', 'recall', 'Specificity', 'precision', 'gmeans', 'RS']\n",
    "\n",
    "method = list(set([file.split('\\\\')[1].split('_')[1] for file in file_list]))\n",
    "method = list(set(method)- set(e_index))\n",
    "method"
   ]
  },
  {
   "cell_type": "code",
   "execution_count": 10,
   "metadata": {},
   "outputs": [
    {
     "data": {
      "text/plain": [
       "['1504']"
      ]
     },
     "execution_count": 10,
     "metadata": {},
     "output_type": "execute_result"
    }
   ],
   "source": [
    "data = list(set([file.split('\\\\')[1].split('_')[2] for file in file_list]))\n",
    "data"
   ]
  },
  {
   "cell_type": "code",
   "execution_count": 11,
   "metadata": {},
   "outputs": [],
   "source": [
    "e_index = ['AUC', 'accuracy', 'recall', 'Specificity', 'precision', 'gmeans', 'RS']\n",
    "multi_columns = [\n",
    "    np.array(\n",
    "        [method[0]] * 2 + \n",
    "        [method[1]] * 2 + \n",
    "        [method[2]] * 2 + \n",
    "        [method[3]] * 2 \n",
    "        # +\n",
    "        # [method[4]] * 2 +\n",
    "        # [method[5]] * 2 \n",
    "        ),\n",
    "    np.array([\"mean\", \"std\"] * len(method))\n",
    "]"
   ]
  },
  {
   "cell_type": "code",
   "execution_count": 12,
   "metadata": {},
   "outputs": [
    {
     "name": "stdout",
     "output_type": "stream",
     "text": [
      "AUC\n"
     ]
    },
    {
     "data": {
      "text/html": [
       "<div>\n",
       "<style scoped>\n",
       "    .dataframe tbody tr th:only-of-type {\n",
       "        vertical-align: middle;\n",
       "    }\n",
       "\n",
       "    .dataframe tbody tr th {\n",
       "        vertical-align: top;\n",
       "    }\n",
       "\n",
       "    .dataframe thead tr th {\n",
       "        text-align: left;\n",
       "    }\n",
       "</style>\n",
       "<table border=\"1\" class=\"dataframe\">\n",
       "  <thead>\n",
       "    <tr>\n",
       "      <th></th>\n",
       "      <th colspan=\"2\" halign=\"left\">MTGS</th>\n",
       "      <th colspan=\"2\" halign=\"left\">WMTS</th>\n",
       "      <th colspan=\"2\" halign=\"left\">WMTGS</th>\n",
       "      <th colspan=\"2\" halign=\"left\">MTS</th>\n",
       "    </tr>\n",
       "    <tr>\n",
       "      <th></th>\n",
       "      <th>mean</th>\n",
       "      <th>std</th>\n",
       "      <th>mean</th>\n",
       "      <th>std</th>\n",
       "      <th>mean</th>\n",
       "      <th>std</th>\n",
       "      <th>mean</th>\n",
       "      <th>std</th>\n",
       "    </tr>\n",
       "  </thead>\n",
       "  <tbody>\n",
       "    <tr>\n",
       "      <th>1504</th>\n",
       "      <td>0.522222</td>\n",
       "      <td>0.432081</td>\n",
       "      <td>0.477778</td>\n",
       "      <td>0.409255</td>\n",
       "      <td>0.511111</td>\n",
       "      <td>0.374788</td>\n",
       "      <td>0.427778</td>\n",
       "      <td>0.379562</td>\n",
       "    </tr>\n",
       "    <tr>\n",
       "      <th>whole_mean</th>\n",
       "      <td>0.522222</td>\n",
       "      <td>0.432081</td>\n",
       "      <td>0.477778</td>\n",
       "      <td>0.409255</td>\n",
       "      <td>0.511111</td>\n",
       "      <td>0.374788</td>\n",
       "      <td>0.427778</td>\n",
       "      <td>0.379562</td>\n",
       "    </tr>\n",
       "  </tbody>\n",
       "</table>\n",
       "</div>"
      ],
      "text/plain": [
       "                MTGS                WMTS               WMTGS            \\\n",
       "                mean       std      mean       std      mean       std   \n",
       "1504        0.522222  0.432081  0.477778  0.409255  0.511111  0.374788   \n",
       "whole_mean  0.522222  0.432081  0.477778  0.409255  0.511111  0.374788   \n",
       "\n",
       "                 MTS            \n",
       "                mean       std  \n",
       "1504        0.427778  0.379562  \n",
       "whole_mean  0.427778  0.379562  "
      ]
     },
     "metadata": {},
     "output_type": "display_data"
    },
    {
     "name": "stdout",
     "output_type": "stream",
     "text": [
      "accuracy\n"
     ]
    },
    {
     "data": {
      "text/html": [
       "<div>\n",
       "<style scoped>\n",
       "    .dataframe tbody tr th:only-of-type {\n",
       "        vertical-align: middle;\n",
       "    }\n",
       "\n",
       "    .dataframe tbody tr th {\n",
       "        vertical-align: top;\n",
       "    }\n",
       "\n",
       "    .dataframe thead tr th {\n",
       "        text-align: left;\n",
       "    }\n",
       "</style>\n",
       "<table border=\"1\" class=\"dataframe\">\n",
       "  <thead>\n",
       "    <tr>\n",
       "      <th></th>\n",
       "      <th colspan=\"2\" halign=\"left\">MTGS</th>\n",
       "      <th colspan=\"2\" halign=\"left\">WMTS</th>\n",
       "      <th colspan=\"2\" halign=\"left\">WMTGS</th>\n",
       "      <th colspan=\"2\" halign=\"left\">MTS</th>\n",
       "    </tr>\n",
       "    <tr>\n",
       "      <th></th>\n",
       "      <th>mean</th>\n",
       "      <th>std</th>\n",
       "      <th>mean</th>\n",
       "      <th>std</th>\n",
       "      <th>mean</th>\n",
       "      <th>std</th>\n",
       "      <th>mean</th>\n",
       "      <th>std</th>\n",
       "    </tr>\n",
       "  </thead>\n",
       "  <tbody>\n",
       "    <tr>\n",
       "      <th>1504</th>\n",
       "      <td>0.85</td>\n",
       "      <td>0.070711</td>\n",
       "      <td>0.73</td>\n",
       "      <td>0.216282</td>\n",
       "      <td>0.62</td>\n",
       "      <td>0.269979</td>\n",
       "      <td>0.73</td>\n",
       "      <td>0.200278</td>\n",
       "    </tr>\n",
       "    <tr>\n",
       "      <th>whole_mean</th>\n",
       "      <td>0.85</td>\n",
       "      <td>0.070711</td>\n",
       "      <td>0.73</td>\n",
       "      <td>0.216282</td>\n",
       "      <td>0.62</td>\n",
       "      <td>0.269979</td>\n",
       "      <td>0.73</td>\n",
       "      <td>0.200278</td>\n",
       "    </tr>\n",
       "  </tbody>\n",
       "</table>\n",
       "</div>"
      ],
      "text/plain": [
       "            MTGS            WMTS           WMTGS             MTS          \n",
       "            mean       std  mean       std  mean       std  mean       std\n",
       "1504        0.85  0.070711  0.73  0.216282  0.62  0.269979  0.73  0.200278\n",
       "whole_mean  0.85  0.070711  0.73  0.216282  0.62  0.269979  0.73  0.200278"
      ]
     },
     "metadata": {},
     "output_type": "display_data"
    },
    {
     "name": "stdout",
     "output_type": "stream",
     "text": [
      "recall\n"
     ]
    },
    {
     "data": {
      "text/html": [
       "<div>\n",
       "<style scoped>\n",
       "    .dataframe tbody tr th:only-of-type {\n",
       "        vertical-align: middle;\n",
       "    }\n",
       "\n",
       "    .dataframe tbody tr th {\n",
       "        vertical-align: top;\n",
       "    }\n",
       "\n",
       "    .dataframe thead tr th {\n",
       "        text-align: left;\n",
       "    }\n",
       "</style>\n",
       "<table border=\"1\" class=\"dataframe\">\n",
       "  <thead>\n",
       "    <tr>\n",
       "      <th></th>\n",
       "      <th colspan=\"2\" halign=\"left\">MTGS</th>\n",
       "      <th colspan=\"2\" halign=\"left\">WMTS</th>\n",
       "      <th colspan=\"2\" halign=\"left\">WMTGS</th>\n",
       "      <th colspan=\"2\" halign=\"left\">MTS</th>\n",
       "    </tr>\n",
       "    <tr>\n",
       "      <th></th>\n",
       "      <th>mean</th>\n",
       "      <th>std</th>\n",
       "      <th>mean</th>\n",
       "      <th>std</th>\n",
       "      <th>mean</th>\n",
       "      <th>std</th>\n",
       "      <th>mean</th>\n",
       "      <th>std</th>\n",
       "    </tr>\n",
       "  </thead>\n",
       "  <tbody>\n",
       "    <tr>\n",
       "      <th>1504</th>\n",
       "      <td>0.922222</td>\n",
       "      <td>0.105409</td>\n",
       "      <td>0.8</td>\n",
       "      <td>0.233069</td>\n",
       "      <td>0.655556</td>\n",
       "      <td>0.34921</td>\n",
       "      <td>0.788889</td>\n",
       "      <td>0.230999</td>\n",
       "    </tr>\n",
       "    <tr>\n",
       "      <th>whole_mean</th>\n",
       "      <td>0.922222</td>\n",
       "      <td>0.105409</td>\n",
       "      <td>0.8</td>\n",
       "      <td>0.233069</td>\n",
       "      <td>0.655556</td>\n",
       "      <td>0.34921</td>\n",
       "      <td>0.788889</td>\n",
       "      <td>0.230999</td>\n",
       "    </tr>\n",
       "  </tbody>\n",
       "</table>\n",
       "</div>"
      ],
      "text/plain": [
       "                MTGS           WMTS               WMTGS                MTS  \\\n",
       "                mean       std mean       std      mean      std      mean   \n",
       "1504        0.922222  0.105409  0.8  0.233069  0.655556  0.34921  0.788889   \n",
       "whole_mean  0.922222  0.105409  0.8  0.233069  0.655556  0.34921  0.788889   \n",
       "\n",
       "                      \n",
       "                 std  \n",
       "1504        0.230999  \n",
       "whole_mean  0.230999  "
      ]
     },
     "metadata": {},
     "output_type": "display_data"
    },
    {
     "name": "stdout",
     "output_type": "stream",
     "text": [
      "Specificity\n"
     ]
    },
    {
     "data": {
      "text/html": [
       "<div>\n",
       "<style scoped>\n",
       "    .dataframe tbody tr th:only-of-type {\n",
       "        vertical-align: middle;\n",
       "    }\n",
       "\n",
       "    .dataframe tbody tr th {\n",
       "        vertical-align: top;\n",
       "    }\n",
       "\n",
       "    .dataframe thead tr th {\n",
       "        text-align: left;\n",
       "    }\n",
       "</style>\n",
       "<table border=\"1\" class=\"dataframe\">\n",
       "  <thead>\n",
       "    <tr>\n",
       "      <th></th>\n",
       "      <th colspan=\"2\" halign=\"left\">MTGS</th>\n",
       "      <th colspan=\"2\" halign=\"left\">WMTS</th>\n",
       "      <th colspan=\"2\" halign=\"left\">WMTGS</th>\n",
       "      <th colspan=\"2\" halign=\"left\">MTS</th>\n",
       "    </tr>\n",
       "    <tr>\n",
       "      <th></th>\n",
       "      <th>mean</th>\n",
       "      <th>std</th>\n",
       "      <th>mean</th>\n",
       "      <th>std</th>\n",
       "      <th>mean</th>\n",
       "      <th>std</th>\n",
       "      <th>mean</th>\n",
       "      <th>std</th>\n",
       "    </tr>\n",
       "  </thead>\n",
       "  <tbody>\n",
       "    <tr>\n",
       "      <th>1504</th>\n",
       "      <td>0.2</td>\n",
       "      <td>0.421637</td>\n",
       "      <td>0.1</td>\n",
       "      <td>0.316228</td>\n",
       "      <td>0.3</td>\n",
       "      <td>0.483046</td>\n",
       "      <td>0.2</td>\n",
       "      <td>0.421637</td>\n",
       "    </tr>\n",
       "    <tr>\n",
       "      <th>whole_mean</th>\n",
       "      <td>0.2</td>\n",
       "      <td>0.421637</td>\n",
       "      <td>0.1</td>\n",
       "      <td>0.316228</td>\n",
       "      <td>0.3</td>\n",
       "      <td>0.483046</td>\n",
       "      <td>0.2</td>\n",
       "      <td>0.421637</td>\n",
       "    </tr>\n",
       "  </tbody>\n",
       "</table>\n",
       "</div>"
      ],
      "text/plain": [
       "           MTGS           WMTS           WMTGS            MTS          \n",
       "           mean       std mean       std  mean       std mean       std\n",
       "1504        0.2  0.421637  0.1  0.316228   0.3  0.483046  0.2  0.421637\n",
       "whole_mean  0.2  0.421637  0.1  0.316228   0.3  0.483046  0.2  0.421637"
      ]
     },
     "metadata": {},
     "output_type": "display_data"
    },
    {
     "name": "stdout",
     "output_type": "stream",
     "text": [
      "precision\n"
     ]
    },
    {
     "data": {
      "text/html": [
       "<div>\n",
       "<style scoped>\n",
       "    .dataframe tbody tr th:only-of-type {\n",
       "        vertical-align: middle;\n",
       "    }\n",
       "\n",
       "    .dataframe tbody tr th {\n",
       "        vertical-align: top;\n",
       "    }\n",
       "\n",
       "    .dataframe thead tr th {\n",
       "        text-align: left;\n",
       "    }\n",
       "</style>\n",
       "<table border=\"1\" class=\"dataframe\">\n",
       "  <thead>\n",
       "    <tr>\n",
       "      <th></th>\n",
       "      <th colspan=\"2\" halign=\"left\">MTGS</th>\n",
       "      <th colspan=\"2\" halign=\"left\">WMTS</th>\n",
       "      <th colspan=\"2\" halign=\"left\">WMTGS</th>\n",
       "      <th colspan=\"2\" halign=\"left\">MTS</th>\n",
       "    </tr>\n",
       "    <tr>\n",
       "      <th></th>\n",
       "      <th>mean</th>\n",
       "      <th>std</th>\n",
       "      <th>mean</th>\n",
       "      <th>std</th>\n",
       "      <th>mean</th>\n",
       "      <th>std</th>\n",
       "      <th>mean</th>\n",
       "      <th>std</th>\n",
       "    </tr>\n",
       "  </thead>\n",
       "  <tbody>\n",
       "    <tr>\n",
       "      <th>1504</th>\n",
       "      <td>0.916389</td>\n",
       "      <td>0.044799</td>\n",
       "      <td>0.879722</td>\n",
       "      <td>0.058766</td>\n",
       "      <td>0.910185</td>\n",
       "      <td>0.051614</td>\n",
       "      <td>0.894722</td>\n",
       "      <td>0.072583</td>\n",
       "    </tr>\n",
       "    <tr>\n",
       "      <th>whole_mean</th>\n",
       "      <td>0.916389</td>\n",
       "      <td>0.044799</td>\n",
       "      <td>0.879722</td>\n",
       "      <td>0.058766</td>\n",
       "      <td>0.910185</td>\n",
       "      <td>0.051614</td>\n",
       "      <td>0.894722</td>\n",
       "      <td>0.072583</td>\n",
       "    </tr>\n",
       "  </tbody>\n",
       "</table>\n",
       "</div>"
      ],
      "text/plain": [
       "                MTGS                WMTS               WMTGS            \\\n",
       "                mean       std      mean       std      mean       std   \n",
       "1504        0.916389  0.044799  0.879722  0.058766  0.910185  0.051614   \n",
       "whole_mean  0.916389  0.044799  0.879722  0.058766  0.910185  0.051614   \n",
       "\n",
       "                 MTS            \n",
       "                mean       std  \n",
       "1504        0.894722  0.072583  \n",
       "whole_mean  0.894722  0.072583  "
      ]
     },
     "metadata": {},
     "output_type": "display_data"
    },
    {
     "name": "stdout",
     "output_type": "stream",
     "text": [
      "gmeans\n"
     ]
    },
    {
     "data": {
      "text/html": [
       "<div>\n",
       "<style scoped>\n",
       "    .dataframe tbody tr th:only-of-type {\n",
       "        vertical-align: middle;\n",
       "    }\n",
       "\n",
       "    .dataframe tbody tr th {\n",
       "        vertical-align: top;\n",
       "    }\n",
       "\n",
       "    .dataframe thead tr th {\n",
       "        text-align: left;\n",
       "    }\n",
       "</style>\n",
       "<table border=\"1\" class=\"dataframe\">\n",
       "  <thead>\n",
       "    <tr>\n",
       "      <th></th>\n",
       "      <th colspan=\"2\" halign=\"left\">MTGS</th>\n",
       "      <th colspan=\"2\" halign=\"left\">WMTS</th>\n",
       "      <th colspan=\"2\" halign=\"left\">WMTGS</th>\n",
       "      <th colspan=\"2\" halign=\"left\">MTS</th>\n",
       "    </tr>\n",
       "    <tr>\n",
       "      <th></th>\n",
       "      <th>mean</th>\n",
       "      <th>std</th>\n",
       "      <th>mean</th>\n",
       "      <th>std</th>\n",
       "      <th>mean</th>\n",
       "      <th>std</th>\n",
       "      <th>mean</th>\n",
       "      <th>std</th>\n",
       "    </tr>\n",
       "  </thead>\n",
       "  <tbody>\n",
       "    <tr>\n",
       "      <th>1504</th>\n",
       "      <td>0.176383</td>\n",
       "      <td>0.371849</td>\n",
       "      <td>0.094281</td>\n",
       "      <td>0.298142</td>\n",
       "      <td>0.1</td>\n",
       "      <td>0.224983</td>\n",
       "      <td>0.163299</td>\n",
       "      <td>0.344265</td>\n",
       "    </tr>\n",
       "    <tr>\n",
       "      <th>whole_mean</th>\n",
       "      <td>0.176383</td>\n",
       "      <td>0.371849</td>\n",
       "      <td>0.094281</td>\n",
       "      <td>0.298142</td>\n",
       "      <td>0.1</td>\n",
       "      <td>0.224983</td>\n",
       "      <td>0.163299</td>\n",
       "      <td>0.344265</td>\n",
       "    </tr>\n",
       "  </tbody>\n",
       "</table>\n",
       "</div>"
      ],
      "text/plain": [
       "                MTGS                WMTS           WMTGS                 MTS  \\\n",
       "                mean       std      mean       std  mean       std      mean   \n",
       "1504        0.176383  0.371849  0.094281  0.298142   0.1  0.224983  0.163299   \n",
       "whole_mean  0.176383  0.371849  0.094281  0.298142   0.1  0.224983  0.163299   \n",
       "\n",
       "                      \n",
       "                 std  \n",
       "1504        0.344265  \n",
       "whole_mean  0.344265  "
      ]
     },
     "metadata": {},
     "output_type": "display_data"
    },
    {
     "name": "stdout",
     "output_type": "stream",
     "text": [
      "RS\n"
     ]
    },
    {
     "data": {
      "text/html": [
       "<div>\n",
       "<style scoped>\n",
       "    .dataframe tbody tr th:only-of-type {\n",
       "        vertical-align: middle;\n",
       "    }\n",
       "\n",
       "    .dataframe tbody tr th {\n",
       "        vertical-align: top;\n",
       "    }\n",
       "\n",
       "    .dataframe thead tr th {\n",
       "        text-align: left;\n",
       "    }\n",
       "</style>\n",
       "<table border=\"1\" class=\"dataframe\">\n",
       "  <thead>\n",
       "    <tr>\n",
       "      <th></th>\n",
       "      <th colspan=\"2\" halign=\"left\">MTGS</th>\n",
       "      <th colspan=\"2\" halign=\"left\">WMTS</th>\n",
       "      <th colspan=\"2\" halign=\"left\">WMTGS</th>\n",
       "      <th colspan=\"2\" halign=\"left\">MTS</th>\n",
       "    </tr>\n",
       "    <tr>\n",
       "      <th></th>\n",
       "      <th>mean</th>\n",
       "      <th>std</th>\n",
       "      <th>mean</th>\n",
       "      <th>std</th>\n",
       "      <th>mean</th>\n",
       "      <th>std</th>\n",
       "      <th>mean</th>\n",
       "      <th>std</th>\n",
       "    </tr>\n",
       "  </thead>\n",
       "  <tbody>\n",
       "    <tr>\n",
       "      <th>1504</th>\n",
       "      <td>inf</td>\n",
       "      <td>NaN</td>\n",
       "      <td>inf</td>\n",
       "      <td>NaN</td>\n",
       "      <td>inf</td>\n",
       "      <td>NaN</td>\n",
       "      <td>inf</td>\n",
       "      <td>NaN</td>\n",
       "    </tr>\n",
       "    <tr>\n",
       "      <th>whole_mean</th>\n",
       "      <td>inf</td>\n",
       "      <td>NaN</td>\n",
       "      <td>inf</td>\n",
       "      <td>NaN</td>\n",
       "      <td>inf</td>\n",
       "      <td>NaN</td>\n",
       "      <td>inf</td>\n",
       "      <td>NaN</td>\n",
       "    </tr>\n",
       "  </tbody>\n",
       "</table>\n",
       "</div>"
      ],
      "text/plain": [
       "           MTGS      WMTS      WMTGS       MTS     \n",
       "           mean  std mean  std  mean  std mean  std\n",
       "1504        inf  NaN  inf  NaN   inf  NaN  inf  NaN\n",
       "whole_mean  inf  NaN  inf  NaN   inf  NaN  inf  NaN"
      ]
     },
     "metadata": {},
     "output_type": "display_data"
    }
   ],
   "source": [
    "for e in e_index:\n",
    "    index_result_df = pd.DataFrame(\n",
    "                index=data,\n",
    "                columns=multi_columns,\n",
    "                )\n",
    "    for m in method:\n",
    "        for d in data:     \n",
    "            df = pd.read_csv(f'../data/output/{ex_name}_{m}_{d}_result.csv', index_col=0)\n",
    "            index_result_df.loc[d, m] = [df[e].mean(), df[e].std()]\n",
    "    index_result_df.loc['whole_mean'] = index_result_df.mean(axis=0)\n",
    "    print(e)\n",
    "    display(index_result_df)\n",
    "    index_result_df.to_csv(f'../data/output/{ex_name}_{e}_score.csv')"
   ]
  },
  {
   "cell_type": "code",
   "execution_count": null,
   "metadata": {},
   "outputs": [],
   "source": []
  },
  {
   "cell_type": "code",
   "execution_count": null,
   "metadata": {},
   "outputs": [],
   "source": []
  }
 ],
 "metadata": {
  "interpreter": {
   "hash": "c7e6621f5c0e725993c5f5dd1734f3da8dc8c958ed2c46496e37b878d46070df"
  },
  "kernelspec": {
   "display_name": "Python 3.8.10 64-bit ('convenient': conda)",
   "language": "python",
   "name": "python3"
  },
  "language_info": {
   "codemirror_mode": {
    "name": "ipython",
    "version": 3
   },
   "file_extension": ".py",
   "mimetype": "text/x-python",
   "name": "python",
   "nbconvert_exporter": "python",
   "pygments_lexer": "ipython3",
   "version": "3.8.10"
  },
  "orig_nbformat": 4
 },
 "nbformat": 4,
 "nbformat_minor": 2
}
