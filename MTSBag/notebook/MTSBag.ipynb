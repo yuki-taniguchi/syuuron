{
 "cells": [
  {
   "cell_type": "code",
   "execution_count": 104,
   "metadata": {},
   "outputs": [
    {
     "name": "stdout",
     "output_type": "stream",
     "text": [
      "Requirement already satisfied: tensorflow in c:\\users\\baseb\\anaconda3\\envs\\kenkyu\\lib\\site-packages (2.7.0)\n",
      "Requirement already satisfied: typing-extensions>=3.6.6 in c:\\users\\baseb\\anaconda3\\envs\\kenkyu\\lib\\site-packages (from tensorflow) (4.0.1)\n",
      "Requirement already satisfied: absl-py>=0.4.0 in c:\\users\\baseb\\anaconda3\\envs\\kenkyu\\lib\\site-packages (from tensorflow) (1.0.0)\n",
      "Requirement already satisfied: six>=1.12.0 in c:\\users\\baseb\\anaconda3\\envs\\kenkyu\\lib\\site-packages (from tensorflow) (1.15.0)\n",
      "Requirement already satisfied: termcolor>=1.1.0 in c:\\users\\baseb\\anaconda3\\envs\\kenkyu\\lib\\site-packages (from tensorflow) (1.1.0)\n",
      "Requirement already satisfied: opt-einsum>=2.3.2 in c:\\users\\baseb\\anaconda3\\envs\\kenkyu\\lib\\site-packages (from tensorflow) (3.3.0)\n",
      "Requirement already satisfied: astunparse>=1.6.0 in c:\\users\\baseb\\anaconda3\\envs\\kenkyu\\lib\\site-packages (from tensorflow) (1.6.3)\n",
      "Requirement already satisfied: protobuf>=3.9.2 in c:\\users\\baseb\\anaconda3\\envs\\kenkyu\\lib\\site-packages (from tensorflow) (3.14.0)\n",
      "Requirement already satisfied: h5py>=2.9.0 in c:\\users\\baseb\\anaconda3\\envs\\kenkyu\\lib\\site-packages (from tensorflow) (3.6.0)\n",
      "Requirement already satisfied: grpcio<2.0,>=1.24.3 in c:\\users\\baseb\\anaconda3\\envs\\kenkyu\\lib\\site-packages (from tensorflow) (1.43.0)\n",
      "Requirement already satisfied: keras<2.8,>=2.7.0rc0 in c:\\users\\baseb\\anaconda3\\envs\\kenkyu\\lib\\site-packages (from tensorflow) (2.7.0)\n",
      "Requirement already satisfied: tensorflow-io-gcs-filesystem>=0.21.0 in c:\\users\\baseb\\anaconda3\\envs\\kenkyu\\lib\\site-packages (from tensorflow) (0.23.1)\n",
      "Requirement already satisfied: google-pasta>=0.1.1 in c:\\users\\baseb\\anaconda3\\envs\\kenkyu\\lib\\site-packages (from tensorflow) (0.2.0)\n",
      "Requirement already satisfied: tensorflow-estimator<2.8,~=2.7.0rc0 in c:\\users\\baseb\\anaconda3\\envs\\kenkyu\\lib\\site-packages (from tensorflow) (2.7.0)\n",
      "Requirement already satisfied: gast<0.5.0,>=0.2.1 in c:\\users\\baseb\\anaconda3\\envs\\kenkyu\\lib\\site-packages (from tensorflow) (0.4.0)\n",
      "Requirement already satisfied: keras-preprocessing>=1.1.1 in c:\\users\\baseb\\anaconda3\\envs\\kenkyu\\lib\\site-packages (from tensorflow) (1.1.2)\n",
      "Requirement already satisfied: libclang>=9.0.1 in c:\\users\\baseb\\anaconda3\\envs\\kenkyu\\lib\\site-packages (from tensorflow) (12.0.0)\n",
      "Requirement already satisfied: tensorboard~=2.6 in c:\\users\\baseb\\anaconda3\\envs\\kenkyu\\lib\\site-packages (from tensorflow) (2.7.0)\n",
      "Requirement already satisfied: flatbuffers<3.0,>=1.12 in c:\\users\\baseb\\anaconda3\\envs\\kenkyu\\lib\\site-packages (from tensorflow) (2.0)\n",
      "Requirement already satisfied: numpy>=1.14.5 in c:\\users\\baseb\\anaconda3\\envs\\kenkyu\\lib\\site-packages (from tensorflow) (1.19.2)\n",
      "Requirement already satisfied: wheel<1.0,>=0.32.0 in c:\\users\\baseb\\anaconda3\\envs\\kenkyu\\lib\\site-packages (from tensorflow) (0.36.0)\n",
      "Requirement already satisfied: wrapt>=1.11.0 in c:\\users\\baseb\\anaconda3\\envs\\kenkyu\\lib\\site-packages (from tensorflow) (1.13.3)\n",
      "Requirement already satisfied: six>=1.12.0 in c:\\users\\baseb\\anaconda3\\envs\\kenkyu\\lib\\site-packages (from tensorflow) (1.15.0)\n",
      "Requirement already satisfied: wheel<1.0,>=0.32.0 in c:\\users\\baseb\\anaconda3\\envs\\kenkyu\\lib\\site-packages (from tensorflow) (0.36.0)\n",
      "Requirement already satisfied: six>=1.12.0 in c:\\users\\baseb\\anaconda3\\envs\\kenkyu\\lib\\site-packages (from tensorflow) (1.15.0)\n",
      "Requirement already satisfied: six>=1.12.0 in c:\\users\\baseb\\anaconda3\\envs\\kenkyu\\lib\\site-packages (from tensorflow) (1.15.0)\n",
      "Requirement already satisfied: six>=1.12.0 in c:\\users\\baseb\\anaconda3\\envs\\kenkyu\\lib\\site-packages (from tensorflow) (1.15.0)\n",
      "Requirement already satisfied: numpy>=1.14.5 in c:\\users\\baseb\\anaconda3\\envs\\kenkyu\\lib\\site-packages (from tensorflow) (1.19.2)\n",
      "Requirement already satisfied: numpy>=1.14.5 in c:\\users\\baseb\\anaconda3\\envs\\kenkyu\\lib\\site-packages (from tensorflow) (1.19.2)\n",
      "Requirement already satisfied: six>=1.12.0 in c:\\users\\baseb\\anaconda3\\envs\\kenkyu\\lib\\site-packages (from tensorflow) (1.15.0)\n",
      "Requirement already satisfied: numpy>=1.14.5 in c:\\users\\baseb\\anaconda3\\envs\\kenkyu\\lib\\site-packages (from tensorflow) (1.19.2)\n",
      "Requirement already satisfied: six>=1.12.0 in c:\\users\\baseb\\anaconda3\\envs\\kenkyu\\lib\\site-packages (from tensorflow) (1.15.0)\n",
      "Requirement already satisfied: markdown>=2.6.8 in c:\\users\\baseb\\anaconda3\\envs\\kenkyu\\lib\\site-packages (from tensorboard~=2.6->tensorflow) (3.3.6)\n",
      "Requirement already satisfied: google-auth-oauthlib<0.5,>=0.4.1 in c:\\users\\baseb\\anaconda3\\envs\\kenkyu\\lib\\site-packages (from tensorboard~=2.6->tensorflow) (0.4.6)\n",
      "Requirement already satisfied: setuptools>=41.0.0 in c:\\users\\baseb\\anaconda3\\envs\\kenkyu\\lib\\site-packages (from tensorboard~=2.6->tensorflow) (50.3.2.post20201202)\n",
      "Requirement already satisfied: absl-py>=0.4.0 in c:\\users\\baseb\\anaconda3\\envs\\kenkyu\\lib\\site-packages (from tensorflow) (1.0.0)\n",
      "Requirement already satisfied: werkzeug>=0.11.15 in c:\\users\\baseb\\anaconda3\\envs\\kenkyu\\lib\\site-packages (from tensorboard~=2.6->tensorflow) (1.0.1)\n",
      "Requirement already satisfied: protobuf>=3.9.2 in c:\\users\\baseb\\anaconda3\\envs\\kenkyu\\lib\\site-packages (from tensorflow) (3.14.0)\n",
      "Requirement already satisfied: wheel<1.0,>=0.32.0 in c:\\users\\baseb\\anaconda3\\envs\\kenkyu\\lib\\site-packages (from tensorflow) (0.36.0)\n",
      "Requirement already satisfied: google-auth<3,>=1.6.3 in c:\\users\\baseb\\anaconda3\\envs\\kenkyu\\lib\\site-packages (from tensorboard~=2.6->tensorflow) (2.3.3)\n",
      "Requirement already satisfied: requests<3,>=2.21.0 in c:\\users\\baseb\\anaconda3\\envs\\kenkyu\\lib\\site-packages (from tensorboard~=2.6->tensorflow) (2.25.0)\n",
      "Requirement already satisfied: tensorboard-plugin-wit>=1.6.0 in c:\\users\\baseb\\anaconda3\\envs\\kenkyu\\lib\\site-packages (from tensorboard~=2.6->tensorflow) (1.8.1)\n",
      "Requirement already satisfied: grpcio<2.0,>=1.24.3 in c:\\users\\baseb\\anaconda3\\envs\\kenkyu\\lib\\site-packages (from tensorflow) (1.43.0)\n",
      "Requirement already satisfied: tensorboard-data-server<0.7.0,>=0.6.0 in c:\\users\\baseb\\anaconda3\\envs\\kenkyu\\lib\\site-packages (from tensorboard~=2.6->tensorflow) (0.6.1)\n",
      "Requirement already satisfied: numpy>=1.14.5 in c:\\users\\baseb\\anaconda3\\envs\\kenkyu\\lib\\site-packages (from tensorflow) (1.19.2)\n",
      "Requirement already satisfied: rsa<5,>=3.1.4 in c:\\users\\baseb\\anaconda3\\envs\\kenkyu\\lib\\site-packages (from google-auth<3,>=1.6.3->tensorboard~=2.6->tensorflow) (4.8)\n",
      "Requirement already satisfied: pyasn1-modules>=0.2.1 in c:\\users\\baseb\\anaconda3\\envs\\kenkyu\\lib\\site-packages (from google-auth<3,>=1.6.3->tensorboard~=2.6->tensorflow) (0.2.8)\n",
      "Requirement already satisfied: six>=1.12.0 in c:\\users\\baseb\\anaconda3\\envs\\kenkyu\\lib\\site-packages (from tensorflow) (1.15.0)\n",
      "Requirement already satisfied: cachetools<5.0,>=2.0.0 in c:\\users\\baseb\\anaconda3\\envs\\kenkyu\\lib\\site-packages (from google-auth<3,>=1.6.3->tensorboard~=2.6->tensorflow) (4.2.1)\n",
      "Requirement already satisfied: setuptools>=41.0.0 in c:\\users\\baseb\\anaconda3\\envs\\kenkyu\\lib\\site-packages (from tensorboard~=2.6->tensorflow) (50.3.2.post20201202)\n",
      "Requirement already satisfied: requests-oauthlib>=0.7.0 in c:\\users\\baseb\\anaconda3\\envs\\kenkyu\\lib\\site-packages (from google-auth-oauthlib<0.5,>=0.4.1->tensorboard~=2.6->tensorflow) (1.3.0)\n",
      "Requirement already satisfied: google-auth<3,>=1.6.3 in c:\\users\\baseb\\anaconda3\\envs\\kenkyu\\lib\\site-packages (from tensorboard~=2.6->tensorflow) (2.3.3)\n",
      "Requirement already satisfied: importlib-metadata>=4.4 in c:\\users\\baseb\\anaconda3\\envs\\kenkyu\\lib\\site-packages (from markdown>=2.6.8->tensorboard~=2.6->tensorflow) (4.10.1)\n",
      "Requirement already satisfied: zipp>=0.5 in c:\\users\\baseb\\anaconda3\\envs\\kenkyu\\lib\\site-packages (from importlib-metadata>=4.4->markdown>=2.6.8->tensorboard~=2.6->tensorflow) (3.4.0)\n",
      "Requirement already satisfied: pyasn1<0.5.0,>=0.4.6 in c:\\users\\baseb\\anaconda3\\envs\\kenkyu\\lib\\site-packages (from pyasn1-modules>=0.2.1->google-auth<3,>=1.6.3->tensorboard~=2.6->tensorflow) (0.4.8)\n",
      "Requirement already satisfied: certifi>=2017.4.17 in c:\\users\\baseb\\anaconda3\\envs\\kenkyu\\lib\\site-packages (from requests<3,>=2.21.0->tensorboard~=2.6->tensorflow) (2020.12.5)\n",
      "Requirement already satisfied: idna<3,>=2.5 in c:\\users\\baseb\\anaconda3\\envs\\kenkyu\\lib\\site-packages (from requests<3,>=2.21.0->tensorboard~=2.6->tensorflow) (2.10)\n",
      "Requirement already satisfied: chardet<4,>=3.0.2 in c:\\users\\baseb\\anaconda3\\envs\\kenkyu\\lib\\site-packages (from requests<3,>=2.21.0->tensorboard~=2.6->tensorflow) (3.0.4)\n",
      "Requirement already satisfied: urllib3<1.27,>=1.21.1 in c:\\users\\baseb\\anaconda3\\envs\\kenkyu\\lib\\site-packages (from requests<3,>=2.21.0->tensorboard~=2.6->tensorflow) (1.25.11)\n",
      "Requirement already satisfied: oauthlib>=3.0.0 in c:\\users\\baseb\\anaconda3\\envs\\kenkyu\\lib\\site-packages (from requests-oauthlib>=0.7.0->google-auth-oauthlib<0.5,>=0.4.1->tensorboard~=2.6->tensorflow) (3.0.1)\n",
      "Requirement already satisfied: requests<3,>=2.21.0 in c:\\users\\baseb\\anaconda3\\envs\\kenkyu\\lib\\site-packages (from tensorboard~=2.6->tensorflow) (2.25.0)\n",
      "Requirement already satisfied: pyasn1<0.5.0,>=0.4.6 in c:\\users\\baseb\\anaconda3\\envs\\kenkyu\\lib\\site-packages (from pyasn1-modules>=0.2.1->google-auth<3,>=1.6.3->tensorboard~=2.6->tensorflow) (0.4.8)\n",
      "Note: you may need to restart the kernel to use updated packages.\n"
     ]
    }
   ],
   "source": [
    "pip install tensorflow"
   ]
  },
  {
   "cell_type": "code",
   "execution_count": 105,
   "metadata": {},
   "outputs": [],
   "source": [
    "import pandas as pd\n",
    "import numpy as np\n",
    "\n",
    "import math\n",
    "import random\n",
    "\n",
    "from sklearn.preprocessing import StandardScaler\n",
    "from sklearn.model_selection import train_test_split\n",
    "from sklearn.metrics import roc_auc_score\n",
    "\n",
    "from sklearn.utils import resample\n",
    "\n",
    "from tqdm import tqdm \n"
   ]
  },
  {
   "cell_type": "code",
   "execution_count": 106,
   "metadata": {},
   "outputs": [],
   "source": [
    "n_estimators = 10\n",
    "max_samples = 0.5\n",
    "select_data = 'abalone'"
   ]
  },
  {
   "cell_type": "code",
   "execution_count": 107,
   "metadata": {},
   "outputs": [
    {
     "name": "stdout",
     "output_type": "stream",
     "text": [
      "C:\\Users\\baseb\\.keras\\datasets\\abalone.data\n"
     ]
    }
   ],
   "source": [
    "if select_data == 'letter':\n",
    "    # データの取得\n",
    "    df = pd.read_csv('../data/letter_recognition.csv', header=None)\n",
    "\n",
    "    # Aのみを判定するため，Aを0，A以外を1にした．\n",
    "    # 少数派のAを正常，その他を異常データと定義\n",
    "    df[0] = df[0].apply(lambda x: 0 if x == 'A' else 1)\n",
    "\n",
    "    #Xとyを入力\n",
    "    X = df[range(1,17)]\n",
    "    y = df[0]\n",
    "\n",
    "elif select_data == 'wine':\n",
    "\n",
    "    import tensorflow as tf\n",
    "\n",
    "    dataset_url = \"https://archive.ics.uci.edu/ml/machine-learning-databases/wine/wine.data\"\n",
    "\n",
    "    # ファイルのダウンロード\n",
    "    dataset_path = tf.keras.utils.get_file('wine.data', dataset_url)\n",
    "\n",
    "    print(dataset_path)\n",
    "\n",
    "    column_names = ['Alcohol',\n",
    "    'Malic acid',\n",
    "    'Ash',\n",
    "    'Alcalinity of ash',\n",
    "    'Magnesium',\n",
    "    'Total phenols',\n",
    "    'Flavanoids',\n",
    "    'Nonflavanoid phenols',\n",
    "    'Proanthocyanins',\n",
    "    'Color intensity',\n",
    "    'Hue',\n",
    "    'OD280/OD315 of diluted wines',\n",
    "    'Proline' \n",
    "    ]\n",
    "\n",
    "    raw_data = pd.read_csv(dataset_path, names=column_names)\n",
    "    raw_data['y'] = raw_data.index\n",
    "    raw_data = raw_data.reset_index(drop=True)\n",
    "\n",
    "    raw_data['y'] = raw_data['y'].apply(lambda x: 0 if x == 3 else 1)\n",
    "\n",
    "    X = raw_data.drop('y', axis=1)\n",
    "    y = raw_data['y']\n",
    "\n",
    "elif select_data == 'abalone':\n",
    "\n",
    "    dataset_url = \"https://archive.ics.uci.edu/ml/machine-learning-databases/abalone/abalone.data\"\n",
    "\n",
    "    # ファイルのダウンロード\n",
    "    dataset_path = tf.keras.utils.get_file('abalone.data', dataset_url)\n",
    "\n",
    "    print(dataset_path)\n",
    "\n",
    "    raw_data = pd.read_csv(dataset_path, names=range(8)).reset_index(drop=True)\n",
    "\n",
    "    raw_data[7] = raw_data[7].apply(lambda x: 1 if x > 4 else 0)\n",
    "\n",
    "\n",
    "    X = raw_data.drop(7, axis=1)\n",
    "    y = raw_data[7]\n",
    "\n",
    "else:\n",
    "    print('そのデータはありません')"
   ]
  },
  {
   "cell_type": "code",
   "execution_count": 108,
   "metadata": {},
   "outputs": [],
   "source": [
    "X_train, X_test, y_train, y_test = train_test_split(X, y, test_size=0.2)"
   ]
  },
  {
   "cell_type": "code",
   "execution_count": 109,
   "metadata": {},
   "outputs": [],
   "source": [
    "# 必要な関数の定義\n",
    "\n",
    "# 共分散行列の逆行列\n",
    "def inv_cov(Z):\n",
    "    #標準化後のベクトルを入力する\n",
    "    #標準化した後なので相関行列と分散共分散行列は一致する\n",
    "    c = np.cov(Z.T)\n",
    "    return np.linalg.inv(c)\n",
    "\n",
    "#マハラノビス汎距離\n",
    "def cal_MD(Z, inv_C):\n",
    "    '''\n",
    "    Z:標準化したベクトル\n",
    "    inv_C:標準化後の共分散行列\n",
    "    '''\n",
    "    MD = []\n",
    "    for i in range(len(Z)):\n",
    "        _a = np.dot(Z[i], inv_C)\n",
    "        _MD = np.dot(_a, Z[i].T)\n",
    "        _MD = _MD / Z.shape[1]\n",
    "        MD.append(_MD)\n",
    "    return MD\n",
    "\n",
    "# MTSを実行\n",
    "def fit_MTS(X, y):\n",
    "    \n",
    "    # 正常データのみを使用して標準化\n",
    "    scaler = StandardScaler()\n",
    "    scaler.fit(X[y == 0])\n",
    "    normal_Z = scaler.transform(X[y == 0])\n",
    "    anomaly_Z = scaler.transform(X[y == 1])\n",
    "\n",
    "    # 正常データのみを使用して共分散行列を計算\n",
    "    inv_C = inv_cov(normal_Z)\n",
    "\n",
    "    # いったん飛ばす，削除の基準は？削除しない方法もあるっぽい？\n",
    "        #１度目の仮のマハラノビス距離を計算\n",
    "        # MD_1st = cal_MD(normal_Z, inv_C)\n",
    "        # もしもマハラノビス距離が余りにも大きいサンプルがあれば任意で削除する\n",
    "        # 削除後のデータを使用して標準化と共分散行列を計算\n",
    "\n",
    "    # 異常データと直交表を用いてSN比を計算\n",
    "    #L8直行表\n",
    "    df_l8 = pd.DataFrame([[1,1,1,1,1,1,1],[1,1,1,2,2,2,2],[1,2,2,1,1,2,2],[1,2,2,2,2,1,1],[2,1,2,1,2,1,2],[2,1,2,2,1,2,1],[2,2,1,1,2,2,1],[2,2,1,2,1,1,2]])\n",
    "    l8 = (df_l8==1).values\n",
    "\n",
    "    #異常データのマハラノビス距離\n",
    "    result = np.zeros((l8.shape[0], anomaly_Z.shape[0]))\n",
    "    for x, l8_row in enumerate(l8):\n",
    "        result[x] = cal_MD(anomaly_Z[:, l8_row], inv_C[l8_row][:,l8_row])\n",
    "\n",
    "    #SN比\n",
    "    sn = np.zeros(l8.shape[0])\n",
    "    for idx, row in enumerate(result):\n",
    "        sum_MD = 0\n",
    "        for i in range(len(row)):\n",
    "            sum_MD += 1 / row[i]\n",
    "        sn[idx] = -10 * math.log10(sum_MD / len(row))\n",
    "        \n",
    "    # SN比を利用し，不要と思われる変数を削除する\n",
    "    #変数選択\n",
    "    df_sn = pd.DataFrame(index=X.columns, columns=['SN比','残す'])\n",
    "    for i, clm in enumerate(X.columns):\n",
    "        df_sn.loc[df_sn.index == clm, 'SN比'] = sum(sn[l8.T[i]]) - sum(sn[~l8.T[i]])\n",
    "        df_sn.loc[df_sn.index == clm, '残す'] = sum(sn[l8.T[i]]) - sum(sn[~l8.T[i]]) > 0\n",
    "    select_columns = df_sn[df_sn['残す']].index\n",
    "    \n",
    "    if len(select_columns) > 1:\n",
    "        # 選択変数でのスケーラーと共分散行列を計算\n",
    "        result_scaler = StandardScaler()\n",
    "        result_scaler.fit(X[select_columns][y == 0])\n",
    "        result_Z = result_scaler.transform(X[select_columns][y == 0])\n",
    "        result_inv_C = inv_cov(result_Z)\n",
    "    else:\n",
    "        select_columns = df_sn['SN比'].astype(float).idxmax()\n",
    "        result_scaler = 0\n",
    "        result_inv_C = 0\n",
    "\n",
    "    # 単位空間のスケーラーと共分散行列と選択した変数を出力\n",
    "    return result_scaler, result_inv_C, select_columns\n",
    "\n",
    "# 新しいデータのマハラノビス距離を計算する\n",
    "def predict_MTS(X, scaler, inv_C, select_columns):\n",
    "    Z = scaler.transform(X[select_columns])\n",
    "    MD = cal_MD(Z, inv_C)\n",
    "    return MD\n",
    "\n",
    "def determine_threshold(y_true, y_pred):\n",
    "    df_pred = pd.DataFrame(y_true)\n",
    "    df_pred['pred'] = y_pred\n",
    "    df_pred = df_pred.sort_values('pred').reset_index(drop=True)\n",
    "\n",
    "\n",
    "    min_gini = np.inf\n",
    "    threshold = 0\n",
    "    for i in range(len(df_pred)):\n",
    "        \n",
    "        neg = df_pred.iloc[:i+1]\n",
    "        pos = df_pred.iloc[i:]\n",
    "\n",
    "        p_neg = sum(neg[y_true.name]) / len(neg)\n",
    "        gini_neg = 1 - ( p_neg ** 2 + ( 1 - p_neg ) ** 2 )\n",
    "\n",
    "        p_pos = sum(pos[y_true.name]) / len(pos)\n",
    "        gini_pos = 1 - ( p_pos ** 2 + ( 1 - p_pos ) ** 2 )\n",
    "\n",
    "        gini_split = (len(neg) / len(df_pred) * gini_neg) + (len(pos) / len(df_pred) * gini_pos)\n",
    "\n",
    "        if min_gini > gini_split:\n",
    "            min_gini = gini_split\n",
    "            threshold = df_pred.iloc[i]['pred']\n",
    "            threshold_idx = i\n",
    "        # print(i, gini_split, df_pred.iloc[i]['pred'])\n",
    "\n",
    "    print('~~~~~~~~~~~~~~~~~~~~~~~~~~~~~~~~~~~~~~~~~~~~~~~')\n",
    "    print('Best paramater')\n",
    "    print(threshold_idx, min_gini, threshold)\n",
    "    print('~~~~~~~~~~~~~~~~~~~~~~~~~~~~~~~~~~~~~~~~~~~~~~~')\n",
    "\n",
    "    print('AUC : ', roc_auc_score(y_true.values, y_pred))\n",
    "\n",
    "    recall = df_pred.iloc[threshold_idx + 1:][y_true.name].sum() / df_pred[y_true.name].sum()\n",
    "    print('recall : ', recall)\n",
    "\n",
    "    precision = df_pred.iloc[threshold_idx + 1:][y_true.name].mean()\n",
    "    print('precision :', precision)\n",
    "\n",
    "    g_mean = np.sqrt(recall * precision)\n",
    "    print('g_mean : ', g_mean)\n",
    "\n",
    "    RS = recall / precision\n",
    "    print('RS : ', RS)\n",
    "    return threshold"
   ]
  },
  {
   "cell_type": "code",
   "execution_count": 110,
   "metadata": {},
   "outputs": [
    {
     "name": "stderr",
     "output_type": "stream",
     "text": [
      " 10%|█         | 1/10 [00:00<00:06,  1.35it/s]"
     ]
    },
    {
     "name": "stdout",
     "output_type": "stream",
     "text": [
      "~~~~~~~~~~~~~~~~~~~~~~~~~~~~~~~~~~~~~~~~~~~~~~~\n",
      "Best paramater\n",
      "48 0.02007691007437465 0.015\n",
      "~~~~~~~~~~~~~~~~~~~~~~~~~~~~~~~~~~~~~~~~~~~~~~~\n",
      "AUC :  0.9890626853084192\n",
      "recall :  0.9897610921501706\n",
      "precision : 0.9955860716037274\n",
      "g_mean :  0.9926693092666878\n",
      "RS :  0.9941491955143832\n"
     ]
    },
    {
     "name": "stderr",
     "output_type": "stream",
     "text": [
      " 20%|██        | 2/10 [00:01<00:05,  1.38it/s]"
     ]
    },
    {
     "name": "stdout",
     "output_type": "stream",
     "text": [
      "~~~~~~~~~~~~~~~~~~~~~~~~~~~~~~~~~~~~~~~~~~~~~~~\n",
      "Best paramater\n",
      "56 0.015364299261821035 0.175\n",
      "~~~~~~~~~~~~~~~~~~~~~~~~~~~~~~~~~~~~~~~~~~~~~~~\n",
      "AUC :  0.9949544966484931\n",
      "recall :  0.9926506614404703\n",
      "precision : 0.9975381585425899\n",
      "g_mean :  0.9950914093134412\n",
      "RS :  0.9951004409603135\n"
     ]
    },
    {
     "name": "stderr",
     "output_type": "stream",
     "text": [
      " 30%|███       | 3/10 [00:02<00:06,  1.15it/s]"
     ]
    },
    {
     "name": "stdout",
     "output_type": "stream",
     "text": [
      "~~~~~~~~~~~~~~~~~~~~~~~~~~~~~~~~~~~~~~~~~~~~~~~\n",
      "Best paramater\n",
      "42 0.018219244814686765 0.067\n",
      "~~~~~~~~~~~~~~~~~~~~~~~~~~~~~~~~~~~~~~~~~~~~~~~\n",
      "AUC :  0.993328857421875\n",
      "recall :  0.99365234375\n",
      "precision : 0.9951100244498777\n",
      "g_mean :  0.9943809169949617\n",
      "RS :  0.99853515625\n"
     ]
    },
    {
     "name": "stderr",
     "output_type": "stream",
     "text": [
      " 40%|████      | 4/10 [00:03<00:05,  1.12it/s]"
     ]
    },
    {
     "name": "stdout",
     "output_type": "stream",
     "text": [
      "~~~~~~~~~~~~~~~~~~~~~~~~~~~~~~~~~~~~~~~~~~~~~~~\n",
      "Best paramater\n",
      "61 0.02304292496239585 1.0717866048011941\n",
      "~~~~~~~~~~~~~~~~~~~~~~~~~~~~~~~~~~~~~~~~~~~~~~~\n",
      "AUC :  0.9860134994085311\n",
      "recall :  0.9824646858256211\n",
      "precision : 0.9955577492596249\n",
      "g_mean :  0.9889895506766591\n",
      "RS :  0.9868485143692157\n"
     ]
    },
    {
     "name": "stderr",
     "output_type": "stream",
     "text": [
      " 50%|█████     | 5/10 [00:04<00:04,  1.06it/s]"
     ]
    },
    {
     "name": "stdout",
     "output_type": "stream",
     "text": [
      "~~~~~~~~~~~~~~~~~~~~~~~~~~~~~~~~~~~~~~~~~~~~~~~\n",
      "Best paramater\n",
      "51 0.018231453376316424 0.0225\n",
      "~~~~~~~~~~~~~~~~~~~~~~~~~~~~~~~~~~~~~~~~~~~~~~~\n",
      "AUC :  0.9902893066406249\n",
      "recall :  0.99072265625\n",
      "precision : 0.9965618860510805\n",
      "g_mean :  0.9936379817951991\n",
      "RS :  0.994140625\n"
     ]
    },
    {
     "name": "stderr",
     "output_type": "stream",
     "text": [
      " 60%|██████    | 6/10 [00:05<00:03,  1.13it/s]"
     ]
    },
    {
     "name": "stdout",
     "output_type": "stream",
     "text": [
      "~~~~~~~~~~~~~~~~~~~~~~~~~~~~~~~~~~~~~~~~~~~~~~~\n",
      "Best paramater\n",
      "27 0.01690078229756005 0.165\n",
      "~~~~~~~~~~~~~~~~~~~~~~~~~~~~~~~~~~~~~~~~~~~~~~~\n",
      "AUC :  0.9875136794747081\n",
      "recall :  0.9961089494163424\n",
      "precision : 0.9941747572815534\n",
      "g_mean :  0.9951413834284932\n",
      "RS :  1.0019455252918288\n"
     ]
    },
    {
     "name": "stderr",
     "output_type": "stream",
     "text": [
      " 70%|███████   | 7/10 [00:06<00:02,  1.19it/s]"
     ]
    },
    {
     "name": "stdout",
     "output_type": "stream",
     "text": [
      "~~~~~~~~~~~~~~~~~~~~~~~~~~~~~~~~~~~~~~~~~~~~~~~\n",
      "Best paramater\n",
      "35 0.024529914171019736 0.05\n",
      "~~~~~~~~~~~~~~~~~~~~~~~~~~~~~~~~~~~~~~~~~~~~~~~\n",
      "AUC :  0.984364569961489\n",
      "recall :  0.9926829268292683\n",
      "precision : 0.9917153996101364\n",
      "g_mean :  0.9921990452860996\n",
      "RS :  1.0009756097560976\n"
     ]
    },
    {
     "name": "stderr",
     "output_type": "stream",
     "text": [
      " 80%|████████  | 8/10 [00:06<00:01,  1.23it/s]"
     ]
    },
    {
     "name": "stdout",
     "output_type": "stream",
     "text": [
      "~~~~~~~~~~~~~~~~~~~~~~~~~~~~~~~~~~~~~~~~~~~~~~~\n",
      "Best paramater\n",
      "17 0.018187259894025993 0.0145\n",
      "~~~~~~~~~~~~~~~~~~~~~~~~~~~~~~~~~~~~~~~~~~~~~~~\n",
      "AUC :  0.9903871072238418\n",
      "recall :  0.9980563654033042\n",
      "precision : 0.9922705314009662\n",
      "g_mean :  0.9951592435720293\n",
      "RS :  1.0058309037900874\n"
     ]
    },
    {
     "name": "stderr",
     "output_type": "stream",
     "text": [
      " 90%|█████████ | 9/10 [00:07<00:00,  1.26it/s]"
     ]
    },
    {
     "name": "stdout",
     "output_type": "stream",
     "text": [
      "~~~~~~~~~~~~~~~~~~~~~~~~~~~~~~~~~~~~~~~~~~~~~~~\n",
      "Best paramater\n",
      "42 0.015754330432137892 0.015\n",
      "~~~~~~~~~~~~~~~~~~~~~~~~~~~~~~~~~~~~~~~~~~~~~~~\n",
      "AUC :  0.9903398309470415\n",
      "recall :  0.9912493923189111\n",
      "precision : 0.9970660146699266\n",
      "g_mean :  0.9941534494952996\n",
      "RS :  0.9941662615459408\n"
     ]
    },
    {
     "name": "stderr",
     "output_type": "stream",
     "text": [
      "100%|██████████| 10/10 [00:08<00:00,  1.20it/s]"
     ]
    },
    {
     "name": "stdout",
     "output_type": "stream",
     "text": [
      "~~~~~~~~~~~~~~~~~~~~~~~~~~~~~~~~~~~~~~~~~~~~~~~\n",
      "Best paramater\n",
      "37 0.016529496036194895 0.046\n",
      "~~~~~~~~~~~~~~~~~~~~~~~~~~~~~~~~~~~~~~~~~~~~~~~\n",
      "AUC :  0.9948347969068356\n",
      "recall :  0.9960918417195896\n",
      "precision : 0.9946341463414634\n",
      "g_mean :  0.9953627271836434\n",
      "RS :  1.0014655593551538\n"
     ]
    },
    {
     "name": "stderr",
     "output_type": "stream",
     "text": [
      "\n"
     ]
    }
   ],
   "source": [
    "\n",
    "# K:再標本化の回数 SIZE:再標本化されたもののサンプルサイズ\n",
    "K = n_estimators\n",
    "SIZE = int(len(X) * max_samples)\n",
    "\n",
    "# 予測に必要なパラメータ\n",
    "select_columns = [0] * K\n",
    "result_scaler = [0] * K\n",
    "result_inv_C = [0] * K\n",
    "threshold = [0] * K\n",
    "\n",
    "for i in tqdm(range(K)):\n",
    "    # bootstrap sampling\n",
    "    resampled_data_x, resampled_data_y = resample(X_train, y_train, n_samples = SIZE)\n",
    "    random_s = random.sample(list(resampled_data_x.columns), 7)\n",
    "    resampled_data_x = resampled_data_x[random_s]\n",
    "\n",
    "    result_scaler[i], result_inv_C[i], select_columns[i] = fit_MTS(resampled_data_x, resampled_data_y)\n",
    "\n",
    "    if result_scaler[i] != 0:\n",
    "        y_pred = predict_MTS(resampled_data_x, result_scaler[i], result_inv_C[i], select_columns[i])\n",
    "    else:\n",
    "        y_pred = resampled_data_x[select_columns[i]]\n",
    "\n",
    "    threshold[i] = determine_threshold(resampled_data_y, y_pred)\n",
    "    "
   ]
  },
  {
   "cell_type": "code",
   "execution_count": 111,
   "metadata": {},
   "outputs": [
    {
     "name": "stdout",
     "output_type": "stream",
     "text": [
      "[5, 1, 3, Int64Index([5, 1], dtype='int64'), 6, 1, 2, 4, 5, 3]\n",
      "[0, 0, 0, StandardScaler(), 0, 0, 0, 0, 0, 0]\n",
      "[0, 0, 0, array([[ 8.19243491, -7.69139938],\n",
      "       [-7.69139938,  8.19243491]]), 0, 0, 0, 0, 0, 0]\n",
      "[0.015, 0.175, 0.067, 1.0717866048011941, 0.0225, 0.165, 0.05, 0.0145, 0.015, 0.046]\n"
     ]
    }
   ],
   "source": [
    "print(select_columns)\n",
    "print(result_scaler)\n",
    "print(result_inv_C)\n",
    "print(threshold)"
   ]
  },
  {
   "cell_type": "markdown",
   "metadata": {},
   "source": [
    "## とりあえずあとは予測だけ\n",
    "- 新しいデータをそれぞれの弱学習器に入れる\n",
    "- 学習時に用いた変数を用いてマハラノビス距離を計算する\n",
    "- 学習時に求めた閾値を超えたらTrue，超えなかったらFalseを各弱学習器で出力\n",
    "- それらを集計（投票）して各データの出力を求める"
   ]
  },
  {
   "cell_type": "code",
   "execution_count": 112,
   "metadata": {},
   "outputs": [],
   "source": [
    "def predict_MTSBag(X, scaler, inv_C, select_columns, threshold):\n",
    "    result = np.ndarray((K, len(X_test)), dtype=bool)\n",
    "    for i in range(K):\n",
    "        if scaler[i] != 0:\n",
    "            Z = scaler[i].transform(X[select_columns[i]])\n",
    "            MD = cal_MD(Z, inv_C[i])\n",
    "            result[i] = MD > threshold[i]\n",
    "        else:\n",
    "            result[i] = X[select_columns[i]] > threshold[i]\n",
    "    return result.sum(axis=0) > (K/2)"
   ]
  },
  {
   "cell_type": "code",
   "execution_count": 113,
   "metadata": {},
   "outputs": [
    {
     "name": "stdout",
     "output_type": "stream",
     "text": [
      "[[  9   4]\n",
      " [  7 816]]\n",
      "0.9868421052631579\n",
      "0.9951219512195122\n",
      "0.991494532199271\n",
      "g_mean :  0.9933065858563589\n",
      "RS :  0.9963547995139733\n"
     ]
    }
   ],
   "source": [
    "y_pred = predict_MTSBag(X_test, result_scaler, result_inv_C, select_columns, threshold)\n",
    "\n",
    "from sklearn.metrics import confusion_matrix\n",
    "print(confusion_matrix(y_true=y_test, y_pred=y_pred))\n",
    "\n",
    "from sklearn.metrics import accuracy_score\n",
    "print(accuracy_score(y_test, y_pred))\n",
    "\n",
    "from sklearn.metrics import precision_score\n",
    "print(precision_score(y_test, y_pred))\n",
    "\n",
    "from sklearn.metrics import recall_score\n",
    "print(recall_score(y_test, y_pred))\n",
    "\n",
    "g_mean = np.sqrt(recall_score(y_test, y_pred) * precision_score(y_test, y_pred))\n",
    "print('g_mean : ', g_mean)\n",
    "\n",
    "RS = recall_score(y_test, y_pred) / precision_score(y_test, y_pred)\n",
    "print('RS : ', RS)\n",
    "\n"
   ]
  },
  {
   "cell_type": "code",
   "execution_count": null,
   "metadata": {},
   "outputs": [],
   "source": []
  },
  {
   "cell_type": "code",
   "execution_count": 114,
   "metadata": {},
   "outputs": [],
   "source": [
    "import lightgbm\n",
    "clf = lightgbm.LGBMClassifier()"
   ]
  },
  {
   "cell_type": "code",
   "execution_count": 115,
   "metadata": {},
   "outputs": [
    {
     "name": "stdout",
     "output_type": "stream",
     "text": [
      "[[  5   8]\n",
      " [  7 816]]\n",
      "0.9820574162679426\n",
      "0.9902912621359223\n",
      "0.991494532199271\n",
      "g_mean :  0.9908927145218507\n",
      "RS :  1.0012150668286757\n"
     ]
    }
   ],
   "source": [
    "clf.fit(X_train, y_train)\n",
    "y_pred = clf.predict(X_test)\n",
    "\n",
    "from sklearn.metrics import confusion_matrix\n",
    "print(confusion_matrix(y_true=y_test, y_pred=y_pred))\n",
    "\n",
    "from sklearn.metrics import accuracy_score\n",
    "print(accuracy_score(y_test, y_pred))\n",
    "\n",
    "from sklearn.metrics import precision_score\n",
    "print(precision_score(y_test, y_pred))\n",
    "\n",
    "from sklearn.metrics import recall_score\n",
    "print(recall_score(y_test, y_pred))\n",
    "\n",
    "g_mean = np.sqrt(recall_score(y_test, y_pred) * precision_score(y_test, y_pred))\n",
    "print('g_mean : ', g_mean)\n",
    "\n",
    "RS = recall_score(y_test, y_pred) / precision_score(y_test, y_pred)\n",
    "print('RS : ', RS)\n",
    "\n",
    "\n"
   ]
  },
  {
   "cell_type": "code",
   "execution_count": null,
   "metadata": {},
   "outputs": [],
   "source": []
  }
 ],
 "metadata": {
  "interpreter": {
   "hash": "c7e6621f5c0e725993c5f5dd1734f3da8dc8c958ed2c46496e37b878d46070df"
  },
  "kernelspec": {
   "display_name": "Python 3.8.10 64-bit ('convenient': conda)",
   "language": "python",
   "name": "python3"
  },
  "language_info": {
   "codemirror_mode": {
    "name": "ipython",
    "version": 3
   },
   "file_extension": ".py",
   "mimetype": "text/x-python",
   "name": "python",
   "nbconvert_exporter": "python",
   "pygments_lexer": "ipython3",
   "version": "3.8.5"
  },
  "orig_nbformat": 4
 },
 "nbformat": 4,
 "nbformat_minor": 2
}
