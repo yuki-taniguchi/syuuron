{
 "cells": [
  {
   "cell_type": "code",
   "execution_count": 77,
   "metadata": {},
   "outputs": [
    {
     "name": "stdout",
     "output_type": "stream",
     "text": [
      "ライブラリインポート中\n"
     ]
    }
   ],
   "source": [
    "import time\n",
    "print('ライブラリインポート中')\n",
    "\n",
    "import pandas as pd\n",
    "import numpy as np\n",
    "import random\n",
    "from tqdm import tqdm\n",
    "\n",
    "from sklearn.utils import resample\n",
    "from sklearn.model_selection import train_test_split\n",
    "\n",
    "# 自作関数\n",
    "from dataload.data_load import data_load\n",
    "from func.my_func \\\n",
    "import \\\n",
    "    fit_MTS, predict_MD, determine_threshold, predict_MTSBag_ImpAgg, make_result_df, fit_WMTS, cal_WMD_by_reduced_model, predict_WMTS, predict_WMTSBag_ImpAgg\n"
   ]
  },
  {
   "cell_type": "code",
   "execution_count": 73,
   "metadata": {},
   "outputs": [],
   "source": [
    "\n",
    "ex_name = input('実験名は?')\n",
    "\n",
    "n_experiment = 10\n",
    "data_list = [\n",
    "    'yeast', \n",
    "    # 'wine', \n",
    "    # 'abalone', \n",
    "    # 'car',\n",
    "    # 'cancer', \n",
    "    # 'letter'\n",
    "    ]\n",
    "\n"
   ]
  },
  {
   "cell_type": "code",
   "execution_count": 75,
   "metadata": {},
   "outputs": [
    {
     "name": "stdout",
     "output_type": "stream",
     "text": [
      "ImpAggWMTSBag開始\n",
      "yeast\n"
     ]
    },
    {
     "name": "stderr",
     "output_type": "stream",
     "text": [
      "100%|██████████| 10/10 [00:20<00:00,  2.06s/it]\n"
     ]
    }
   ],
   "source": [
    "print('ImpAggWMTSBag開始')\n",
    "\n",
    "for data in data_list:\n",
    "    print(data)\n",
    "    result_df = pd.DataFrame(\n",
    "                        columns=['AUC', 'accuracy', 'recall', 'Specificity', 'precision', 'gmeans', 'RS'],\n",
    "                        index=range(n_experiment))\n",
    "    for m in tqdm(range(n_experiment)):\n",
    "        \n",
    "        X, y = data_load(data)\n",
    "\n",
    "        # パラメータ\n",
    "        n_estimators = 10\n",
    "        max_samples = 0.5\n",
    "\n",
    "        X_train, X_test, y_train, y_test = train_test_split(X, y, test_size=0.2)\n",
    "\n",
    "        # 実行するところ\n",
    "\n",
    "        # n_estimators:再標本化の回数 SIZE:再標本化されたもののサンプルサイズ\n",
    "        SIZE = int(len(X) * max_samples)\n",
    "\n",
    "        # 予測に必要なパラメータ\n",
    "        select_columns = [0] * n_estimators\n",
    "        select_columns_weight = [0] * n_estimators\n",
    "        result_scaler = [0] * n_estimators\n",
    "        result_inv_C = [0] * n_estimators\n",
    "        threshold = [0] * n_estimators\n",
    "\n",
    "        for i in range(n_estimators):\n",
    "            # bootstrap sampling\n",
    "            resampled_data_x, resampled_data_y = resample(X_train, y_train, n_samples = SIZE)\n",
    "            random_s = random.sample(\n",
    "                list(resampled_data_x.columns), \n",
    "                len(resampled_data_x.columns) \n",
    "                if len(resampled_data_x.columns) < 7 \n",
    "                else 7\n",
    "                )\n",
    "            resampled_data_x = resampled_data_x[random_s]\n",
    "\n",
    "            result_scaler[i], result_inv_C[i], select_columns[i], select_columns_weight[i] = fit_WMTS(resampled_data_x, resampled_data_y)\n",
    "\n",
    "            y_train_pred = cal_WMD_by_reduced_model(resampled_data_x, result_scaler[i], result_inv_C[i], select_columns[i], select_columns_weight[i])\n",
    "\n",
    "            threshold[i] = determine_threshold(resampled_data_y, y_train_pred)\n",
    "\n",
    "        y_proba, y_pred = predict_WMTSBag_ImpAgg(X_test, result_scaler, result_inv_C, select_columns, select_columns_weight, threshold, n_estimators)\n",
    "\n",
    "        result_df = make_result_df(result_df, y_test, y_pred, y_proba, m)\n",
    "        \n",
    "    result_df.to_csv(f'../data/output/{ex_name}_WMTSBagImpAgg_{data}_result.csv')\n"
   ]
  },
  {
   "cell_type": "code",
   "execution_count": null,
   "metadata": {},
   "outputs": [],
   "source": []
  },
  {
   "cell_type": "code",
   "execution_count": null,
   "metadata": {},
   "outputs": [
    {
     "data": {
      "text/plain": [
       "False"
      ]
     },
     "execution_count": 31,
     "metadata": {},
     "output_type": "execute_result"
    }
   ],
   "source": [
    "len(result_df[result_df['AUC'] == result_df['AUC'][0]].index) > 1"
   ]
  },
  {
   "cell_type": "code",
   "execution_count": 68,
   "metadata": {},
   "outputs": [
    {
     "data": {
      "text/plain": [
       "0.9205479452054794"
      ]
     },
     "execution_count": 68,
     "metadata": {},
     "output_type": "execute_result"
    }
   ],
   "source": [
    "from sklearn.metrics import confusion_matrix\n",
    "from sklearn.metrics import roc_auc_score\n",
    "\n",
    "cm = confusion_matrix(y_test, y_pred)\n",
    "TP, FN, FP, TN = cm.flatten()\n",
    "roc_auc_score(y_test, y_proba)"
   ]
  },
  {
   "cell_type": "code",
   "execution_count": 69,
   "metadata": {},
   "outputs": [
    {
     "data": {
      "text/plain": [
       "array([0.17483187, 0.12402485, 0.18881119, 0.17944629, 0.34992831,\n",
       "       0.07950776, 0.27002816, 0.11423349, 0.4582275 , 0.1141836 ,\n",
       "       0.30734513, 0.49476473, 0.1781003 , 0.11980799, 0.38362883,\n",
       "       0.03034891, 0.19711983, 0.14708265, 0.25974746, 0.1264457 ,\n",
       "       1.46075009, 0.27871552, 0.22900926, 0.36731715, 0.51571788,\n",
       "       0.23775436, 0.16737374, 0.35084833, 0.32693325, 0.05503451,\n",
       "       0.19786325, 0.22581229, 0.12874193, 0.17654064, 0.17981204,\n",
       "       0.10149967, 0.13904069, 0.15504195, 0.47572963, 0.11886727,\n",
       "       0.04459809, 0.23003013, 0.29271107, 2.43354869, 0.59485759,\n",
       "       0.1619871 , 0.19398663, 0.03793534, 0.54012819, 0.25814027,\n",
       "       0.14383702, 0.14794486, 0.20091374, 0.25019248, 0.24617997,\n",
       "       0.0518975 , 0.49699354, 0.09747043, 0.30799711, 2.43354869,\n",
       "       1.09265473, 0.23280754, 0.07451769, 0.27454767, 0.15907243,\n",
       "       0.66430329, 0.18672013, 0.13780283, 0.16237033, 0.04585642,\n",
       "       0.3051003 , 0.20363563, 0.17283571, 0.2587322 , 0.15677548,\n",
       "       0.11396083, 0.10710114, 0.44265696, 0.12270259, 0.06049067,\n",
       "       0.52180215, 0.02852165, 0.38691014, 0.18402046, 1.04714697,\n",
       "       0.29677328, 0.22160398, 0.25120654, 0.11558909, 0.32814503,\n",
       "       0.38061397, 0.30967645, 0.52368623, 0.15126299, 0.18091826,\n",
       "       0.41502406, 0.30063377, 0.53960086, 0.1665308 , 0.14644315,\n",
       "       0.21282492, 0.2528946 , 0.16130836, 0.07481111, 0.54445256,\n",
       "       0.22453516, 0.99375719, 0.02792817, 0.20481506, 0.22894958,\n",
       "       0.24592773, 0.21526797, 0.27097232, 0.13018418, 0.2705089 ,\n",
       "       0.24384657, 0.28406864, 0.32555048, 0.07469969, 0.33335242,\n",
       "       0.35149253, 0.73746815, 0.40668116, 0.22795507, 0.16778283,\n",
       "       0.10158511, 0.10098979, 0.36297464, 0.05740587, 0.43502181,\n",
       "       0.16019239, 0.31049398, 0.38731239, 0.42054058, 0.29182776,\n",
       "       0.37674402, 0.04588283, 0.2531468 , 0.22600572, 0.24113406,\n",
       "       0.22386059, 0.17339622, 0.15114573, 0.13008735, 0.34561542,\n",
       "       0.02727985, 0.04288075, 0.19827264, 0.52361071, 0.09365695,\n",
       "       0.08560276, 0.02565872, 0.13374958, 0.29261589, 0.1939722 ,\n",
       "       0.20268039, 0.13169165, 0.13493004, 0.29459895, 0.20787301,\n",
       "       0.2555877 , 0.02795527, 0.31073257, 0.16080881, 0.30705187,\n",
       "       0.20272481, 0.55609809, 1.17307222, 0.33436388, 0.25860327,\n",
       "       0.05868726, 0.20669116, 0.08494655, 1.09440258, 0.90831274,\n",
       "       0.20924785, 0.1676208 , 0.19569676, 0.38739753, 0.426565  ,\n",
       "       0.26019117, 0.24680899, 0.26794055, 0.16305509, 0.15743619,\n",
       "       0.1721857 , 0.11523986, 0.05001335, 0.71070373, 0.39717147,\n",
       "       0.13958383, 0.34564174, 0.27364654, 0.08768822, 0.11222843,\n",
       "       0.0173407 , 0.17158807, 0.51403609, 0.1943358 , 0.37442813,\n",
       "       0.297619  , 0.13410232, 0.11979589, 0.41202375, 0.04569098,\n",
       "       0.17380316, 0.13880899, 0.28090828, 0.16068517, 0.09392711,\n",
       "       0.11084051, 0.24570444, 0.22007314, 0.18608738, 0.19759574,\n",
       "       0.4589805 , 0.40009135, 0.94407693, 0.28612969, 0.40880837,\n",
       "       0.50557937, 0.43665319, 0.18227763, 0.13113727, 0.17494525,\n",
       "       1.26443896, 0.13392664, 0.15625325, 0.39355621, 0.08145676,\n",
       "       0.12568478, 0.23566203, 0.29976981, 0.04740205, 0.16415133,\n",
       "       0.20829035, 0.21410256, 0.16769195, 0.0894236 , 0.38370035,\n",
       "       0.11963226, 0.29760064, 0.06230067, 0.12826528, 0.16541512,\n",
       "       0.37251443, 0.28987514, 0.5022295 , 0.36360795, 0.25421925,\n",
       "       0.0515994 , 0.18543568, 0.06736498, 0.25488312, 0.21012376,\n",
       "       1.14001439, 0.25772044, 0.21323561, 0.23080865, 0.23853124,\n",
       "       0.13661457, 0.15440795, 0.12115741, 0.2122647 , 0.15150241,\n",
       "       0.31785489, 0.19556842, 0.1563036 , 0.57591225, 0.26530514,\n",
       "       0.14124929, 0.32054364, 0.37594783, 0.19065707, 0.3571028 ,\n",
       "       0.20237428, 0.27222896, 0.41093176, 0.20132394, 0.40594526,\n",
       "       0.23033094, 0.12568478, 0.21107955, 0.05130962, 0.26798396,\n",
       "       0.06460589, 0.55689408, 0.16566342, 0.4367224 , 0.21868884,\n",
       "       0.23841602, 0.02087522, 0.48694292, 0.54806928, 0.15503105,\n",
       "       0.3296401 , 0.09754498])"
      ]
     },
     "execution_count": 69,
     "metadata": {},
     "output_type": "execute_result"
    }
   ],
   "source": [
    "y_proba"
   ]
  },
  {
   "cell_type": "code",
   "execution_count": 70,
   "metadata": {},
   "outputs": [
    {
     "data": {
      "text/plain": [
       "(array([0.17483187, 0.12402485, 0.18881119, 0.17944629, 0.34992831,\n",
       "        0.07950776, 0.27002816, 0.11423349, 0.4582275 , 0.1141836 ,\n",
       "        0.30734513, 0.49476473, 0.1781003 , 0.11980799, 0.38362883,\n",
       "        0.03034891, 0.19711983, 0.14708265, 0.25974746, 0.1264457 ,\n",
       "        1.46075009, 0.27871552, 0.22900926, 0.36731715, 0.51571788,\n",
       "        0.23775436, 0.16737374, 0.35084833, 0.32693325, 0.05503451,\n",
       "        0.19786325, 0.22581229, 0.12874193, 0.17654064, 0.17981204,\n",
       "        0.10149967, 0.13904069, 0.15504195, 0.47572963, 0.11886727,\n",
       "        0.04459809, 0.23003013, 0.29271107, 2.43354869, 0.59485759,\n",
       "        0.1619871 , 0.19398663, 0.03793534, 0.54012819, 0.25814027,\n",
       "        0.14383702, 0.14794486, 0.20091374, 0.25019248, 0.24617997,\n",
       "        0.0518975 , 0.49699354, 0.09747043, 0.30799711, 2.43354869,\n",
       "        1.09265473, 0.23280754, 0.07451769, 0.27454767, 0.15907243,\n",
       "        0.66430329, 0.18672013, 0.13780283, 0.16237033, 0.04585642,\n",
       "        0.3051003 , 0.20363563, 0.17283571, 0.2587322 , 0.15677548,\n",
       "        0.11396083, 0.10710114, 0.44265696, 0.12270259, 0.06049067,\n",
       "        0.52180215, 0.02852165, 0.38691014, 0.18402046, 1.04714697,\n",
       "        0.29677328, 0.22160398, 0.25120654, 0.11558909, 0.32814503,\n",
       "        0.38061397, 0.30967645, 0.52368623, 0.15126299, 0.18091826,\n",
       "        0.41502406, 0.30063377, 0.53960086, 0.1665308 , 0.14644315,\n",
       "        0.21282492, 0.2528946 , 0.16130836, 0.07481111, 0.54445256,\n",
       "        0.22453516, 0.99375719, 0.02792817, 0.20481506, 0.22894958,\n",
       "        0.24592773, 0.21526797, 0.27097232, 0.13018418, 0.2705089 ,\n",
       "        0.24384657, 0.28406864, 0.32555048, 0.07469969, 0.33335242,\n",
       "        0.35149253, 0.73746815, 0.40668116, 0.22795507, 0.16778283,\n",
       "        0.10158511, 0.10098979, 0.36297464, 0.05740587, 0.43502181,\n",
       "        0.16019239, 0.31049398, 0.38731239, 0.42054058, 0.29182776,\n",
       "        0.37674402, 0.04588283, 0.2531468 , 0.22600572, 0.24113406,\n",
       "        0.22386059, 0.17339622, 0.15114573, 0.13008735, 0.34561542,\n",
       "        0.02727985, 0.04288075, 0.19827264, 0.52361071, 0.09365695,\n",
       "        0.08560276, 0.02565872, 0.13374958, 0.29261589, 0.1939722 ,\n",
       "        0.20268039, 0.13169165, 0.13493004, 0.29459895, 0.20787301,\n",
       "        0.2555877 , 0.02795527, 0.31073257, 0.16080881, 0.30705187,\n",
       "        0.20272481, 0.55609809, 1.17307222, 0.33436388, 0.25860327,\n",
       "        0.05868726, 0.20669116, 0.08494655, 1.09440258, 0.90831274,\n",
       "        0.20924785, 0.1676208 , 0.19569676, 0.38739753, 0.426565  ,\n",
       "        0.26019117, 0.24680899, 0.26794055, 0.16305509, 0.15743619,\n",
       "        0.1721857 , 0.11523986, 0.05001335, 0.71070373, 0.39717147,\n",
       "        0.13958383, 0.34564174, 0.27364654, 0.08768822, 0.11222843,\n",
       "        0.0173407 , 0.17158807, 0.51403609, 0.1943358 , 0.37442813,\n",
       "        0.297619  , 0.13410232, 0.11979589, 0.41202375, 0.04569098,\n",
       "        0.17380316, 0.13880899, 0.28090828, 0.16068517, 0.09392711,\n",
       "        0.11084051, 0.24570444, 0.22007314, 0.18608738, 0.19759574,\n",
       "        0.4589805 , 0.40009135, 0.94407693, 0.28612969, 0.40880837,\n",
       "        0.50557937, 0.43665319, 0.18227763, 0.13113727, 0.17494525,\n",
       "        1.26443896, 0.13392664, 0.15625325, 0.39355621, 0.08145676,\n",
       "        0.12568478, 0.23566203, 0.29976981, 0.04740205, 0.16415133,\n",
       "        0.20829035, 0.21410256, 0.16769195, 0.0894236 , 0.38370035,\n",
       "        0.11963226, 0.29760064, 0.06230067, 0.12826528, 0.16541512,\n",
       "        0.37251443, 0.28987514, 0.5022295 , 0.36360795, 0.25421925,\n",
       "        0.0515994 , 0.18543568, 0.06736498, 0.25488312, 0.21012376,\n",
       "        1.14001439, 0.25772044, 0.21323561, 0.23080865, 0.23853124,\n",
       "        0.13661457, 0.15440795, 0.12115741, 0.2122647 , 0.15150241,\n",
       "        0.31785489, 0.19556842, 0.1563036 , 0.57591225, 0.26530514,\n",
       "        0.14124929, 0.32054364, 0.37594783, 0.19065707, 0.3571028 ,\n",
       "        0.20237428, 0.27222896, 0.41093176, 0.20132394, 0.40594526,\n",
       "        0.23033094, 0.12568478, 0.21107955, 0.05130962, 0.26798396,\n",
       "        0.06460589, 0.55689408, 0.16566342, 0.4367224 , 0.21868884,\n",
       "        0.23841602, 0.02087522, 0.48694292, 0.54806928, 0.15503105,\n",
       "        0.3296401 , 0.09754498]),\n",
       " array([ True,  True,  True,  True,  True,  True,  True,  True,  True,\n",
       "         True,  True,  True,  True,  True,  True, False,  True,  True,\n",
       "         True,  True,  True,  True,  True,  True,  True,  True,  True,\n",
       "         True,  True,  True,  True,  True,  True,  True,  True,  True,\n",
       "         True,  True,  True,  True,  True,  True,  True,  True,  True,\n",
       "         True,  True, False,  True,  True,  True,  True,  True,  True,\n",
       "         True, False,  True,  True,  True,  True,  True,  True,  True,\n",
       "         True,  True,  True,  True,  True,  True, False,  True,  True,\n",
       "         True,  True, False,  True,  True,  True,  True,  True,  True,\n",
       "        False,  True,  True,  True,  True,  True,  True,  True,  True,\n",
       "         True,  True,  True,  True,  True,  True,  True,  True,  True,\n",
       "         True,  True,  True,  True,  True,  True,  True,  True, False,\n",
       "         True,  True,  True,  True,  True,  True,  True,  True,  True,\n",
       "         True, False,  True,  True,  True,  True,  True,  True,  True,\n",
       "         True,  True,  True,  True,  True,  True,  True,  True,  True,\n",
       "         True,  True,  True,  True,  True,  True,  True,  True,  True,\n",
       "         True, False,  True,  True,  True,  True,  True, False,  True,\n",
       "         True,  True,  True,  True,  True,  True,  True,  True, False,\n",
       "         True,  True,  True,  True,  True,  True,  True,  True,  True,\n",
       "         True,  True,  True,  True,  True,  True,  True,  True,  True,\n",
       "         True,  True,  True,  True,  True,  True,  True,  True,  True,\n",
       "         True,  True,  True,  True,  True,  True, False,  True,  True,\n",
       "         True,  True,  True,  True,  True,  True,  True,  True,  True,\n",
       "         True,  True,  True,  True,  True,  True,  True,  True,  True,\n",
       "         True,  True,  True,  True,  True,  True,  True,  True,  True,\n",
       "         True,  True,  True,  True,  True,  True,  True,  True,  True,\n",
       "         True,  True,  True,  True,  True,  True,  True,  True, False,\n",
       "         True,  True,  True,  True,  True,  True,  True, False,  True,\n",
       "         True,  True,  True,  True,  True,  True,  True,  True,  True,\n",
       "         True,  True,  True,  True,  True,  True,  True,  True,  True,\n",
       "         True,  True,  True,  True,  True,  True,  True,  True,  True,\n",
       "         True,  True,  True,  True, False,  True,  True,  True,  True,\n",
       "         True,  True,  True, False,  True,  True,  True,  True,  True]))"
      ]
     },
     "execution_count": 70,
     "metadata": {},
     "output_type": "execute_result"
    }
   ],
   "source": [
    "predict_WMTSBag_ImpAgg(X_test, result_scaler, result_inv_C, select_columns, select_columns_weight, threshold, n_estimators)"
   ]
  },
  {
   "cell_type": "code",
   "execution_count": 76,
   "metadata": {},
   "outputs": [
    {
     "data": {
      "text/plain": [
       "[array([0.261357861489966, 0.45402495979609986, 0.16918779776909812,\n",
       "        0.11542938094483605], dtype=object),\n",
       " array([0.4582723435704514, 0.04821038909984904, 0.197842630121967,\n",
       "        0.08404286089334381, 0.206824183627352, 0.004807592687036565],\n",
       "       dtype=object),\n",
       " array([0.3744403039166167, 0.1181704942029445, 0.41462218079070956,\n",
       "        0.09276702108972919], dtype=object),\n",
       " array([0.40344968853743973, 0.11206446296934415, 0.20466839951818486,\n",
       "        0.27981744897503125], dtype=object),\n",
       " array([0.3062846818967557, 0.49314881682121947, 0.06822648470927944,\n",
       "        0.13234001657274533], dtype=object),\n",
       " array([0.409572606717388, 0.18098185527031527, 0.24648241849037486,\n",
       "        0.1629631195219218], dtype=object),\n",
       " array([0.21849107944920218, 0.3653805125074631, 0.28550787283342904,\n",
       "        0.13062053520990557], dtype=object),\n",
       " array([0.36244350233508416, 0.07449999105633008, 0.12917502027731437,\n",
       "        0.3846703221609805, 0.04921116417029081], dtype=object),\n",
       " array([0.35426733477692085, 0.31194282259808487, 0.26881648011530723,\n",
       "        0.06497336250968702], dtype=object),\n",
       " array([0.24854878866595553, 0.37483840155397624, 0.12732577891505523,\n",
       "        0.24928703086501305], dtype=object)]"
      ]
     },
     "execution_count": 76,
     "metadata": {},
     "output_type": "execute_result"
    }
   ],
   "source": [
    "select_columns_weight"
   ]
  },
  {
   "cell_type": "code",
   "execution_count": null,
   "metadata": {},
   "outputs": [],
   "source": []
  }
 ],
 "metadata": {
  "interpreter": {
   "hash": "c7e6621f5c0e725993c5f5dd1734f3da8dc8c958ed2c46496e37b878d46070df"
  },
  "kernelspec": {
   "display_name": "Python 3.8.10 ('convenient')",
   "language": "python",
   "name": "python3"
  },
  "language_info": {
   "codemirror_mode": {
    "name": "ipython",
    "version": 3
   },
   "file_extension": ".py",
   "mimetype": "text/x-python",
   "name": "python",
   "nbconvert_exporter": "python",
   "pygments_lexer": "ipython3",
   "version": "3.8.10"
  },
  "orig_nbformat": 4
 },
 "nbformat": 4,
 "nbformat_minor": 2
}
