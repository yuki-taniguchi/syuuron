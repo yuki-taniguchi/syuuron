{
 "cells": [
  {
   "cell_type": "code",
   "execution_count": 13,
   "metadata": {},
   "outputs": [],
   "source": [
    "import time\n",
    "import os\n",
    "from multiprocessing import Pool"
   ]
  },
  {
   "cell_type": "code",
   "execution_count": 6,
   "metadata": {},
   "outputs": [],
   "source": [
    "def function(x):\n",
    "    \"\"\"実行したい処理\"\"\"\n",
    "    time.sleep(0.1)\n",
    "    return x\n",
    "\n",
    "def multi(n):\n",
    "    \"\"\"マルチプロセス\"\"\"\n",
    "    p = Pool(4) # プロセス数\n",
    "    result = p.map(function, range(n)) # 関数を並列で呼び出す\n",
    "    p.close()\n",
    "    return result\n",
    "\n",
    "def single(n):\n",
    "    \"\"\"シングルプロセス\"\"\"\n",
    "    result = [function(x) for x in range(n)]\n",
    "    return result"
   ]
  },
  {
   "cell_type": "code",
   "execution_count": 4,
   "metadata": {},
   "outputs": [],
   "source": [
    "loop = 200"
   ]
  },
  {
   "cell_type": "code",
   "execution_count": 4,
   "metadata": {},
   "outputs": [
    {
     "name": "stdout",
     "output_type": "stream",
     "text": [
      "[0, 1, 2, 3, 4, 5, 6, 7, 8, 9]\n",
      "Wall time: 3.13 s\n"
     ]
    }
   ],
   "source": [
    "%%time\n",
    "ret = single(loop)\n",
    "print(ret[:10])"
   ]
  },
  {
   "cell_type": "code",
   "execution_count": 5,
   "metadata": {},
   "outputs": [],
   "source": [
    "%%time\n",
    "ret = multi(loop)\n",
    "print(ret[:10])"
   ]
  },
  {
   "cell_type": "code",
   "execution_count": 21,
   "metadata": {},
   "outputs": [],
   "source": [
    "from multiprocessing import Process\n",
    "\n",
    "def function(x):\n",
    "    \"\"\"実行したい処理\"\"\"\n",
    "    time.sleep(1)\n",
    "    return x\n",
    "\n",
    "p = Process(target=function, args=(1,))\n",
    "p.start()\n",
    "p.join()"
   ]
  },
  {
   "cell_type": "code",
   "execution_count": 22,
   "metadata": {},
   "outputs": [
    {
     "data": {
      "text/plain": [
       "1"
      ]
     },
     "execution_count": 22,
     "metadata": {},
     "output_type": "execute_result"
    }
   ],
   "source": [
    "function(1)"
   ]
  },
  {
   "cell_type": "code",
   "execution_count": 23,
   "metadata": {},
   "outputs": [
    {
     "data": {
      "text/plain": [
       "<Process name='Process-10' pid=17740 parent=8096 stopped exitcode=1>"
      ]
     },
     "execution_count": 23,
     "metadata": {},
     "output_type": "execute_result"
    }
   ],
   "source": [
    "p"
   ]
  },
  {
   "cell_type": "code",
   "execution_count": 35,
   "metadata": {},
   "outputs": [],
   "source": [
    "def task(_n):\n",
    "    s = 0\n",
    "    for i in range(1,_n+1):\n",
    "        s+=i\n",
    "        time.sleep(1)\n",
    "    return s"
   ]
  },
  {
   "cell_type": "code",
   "execution_count": 36,
   "metadata": {},
   "outputs": [
    {
     "name": "stdout",
     "output_type": "stream",
     "text": [
      "処理時間:55.433s\n"
     ]
    }
   ],
   "source": [
    "import numpy as np\n",
    "import time\n",
    "\n",
    "ns = list(np.arange(1,11)) #1〜10までの数字のリストを作成\n",
    "\n",
    "start = time.time() #処理開始時間\n",
    "\n",
    "#========計算処理========\n",
    "sms_single = []\n",
    "for n in ns:\n",
    "    sms_single.append(task(n))\n",
    "#=======================\n",
    "    \n",
    "end = time.time() #処理終了時間\n",
    "delta = end - start #処理時間\n",
    "print('処理時間:{}s'.format(round(delta,3)))"
   ]
  },
  {
   "cell_type": "code",
   "execution_count": 37,
   "metadata": {},
   "outputs": [
    {
     "name": "stdout",
     "output_type": "stream",
     "text": [
      "処理時間:10.074s\n"
     ]
    }
   ],
   "source": [
    "import numpy as np\n",
    "import time\n",
    "from concurrent.futures import ThreadPoolExecutor\n",
    "\n",
    "ns = list(np.arange(1,11)) \n",
    "\n",
    "start = time.time()\n",
    "\n",
    "#========計算処理========\n",
    "with ThreadPoolExecutor(12) as e:\n",
    "    ret = e.map(task, ns)\n",
    "sms_multi = [r for r in ret]\n",
    "#=======================\n",
    "  \n",
    "end = time.time()\n",
    "delta = end - start\n",
    "print('処理時間:{}s'.format(round(delta,3)))  "
   ]
  },
  {
   "cell_type": "code",
   "execution_count": 33,
   "metadata": {},
   "outputs": [
    {
     "name": "stdout",
     "output_type": "stream",
     "text": [
      "処理時間:1.089s\n"
     ]
    }
   ],
   "source": [
    "import numpy as np\n",
    "import time\n",
    "from concurrent.futures import ThreadPoolExecutor\n",
    "\n",
    "ns = list(np.arange(1,11)) \n",
    "\n",
    "start = time.time()\n",
    "\n",
    "#========計算処理========\n",
    "with ThreadPoolExecutor(12) as e:\n",
    "    ret = e.map(task, ns)\n",
    "sms_multi = [r for r in ret]\n",
    "#=======================\n",
    "  \n",
    "end = time.time()\n",
    "delta = end - start\n",
    "print('処理時間:{}s'.format(round(delta,3)))  "
   ]
  },
  {
   "cell_type": "code",
   "execution_count": 32,
   "metadata": {},
   "outputs": [
    {
     "name": "stdout",
     "output_type": "stream",
     "text": [
      "処理時間:1.11s\n"
     ]
    }
   ],
   "source": [
    "import numpy as np\n",
    "import time\n",
    "from concurrent.futures import ThreadPoolExecutor\n",
    "\n",
    "ns = list(np.arange(1,11)) \n",
    "\n",
    "start = time.time()\n",
    "\n",
    "#========計算処理========\n",
    "with ThreadPoolExecutor(12) as e:\n",
    "    ret = e.map(task, ns)\n",
    "sms_multi = [r for r in ret]\n",
    "#=======================\n",
    "  \n",
    "end = time.time()\n",
    "delta = end - start\n",
    "print('処理時間:{}s'.format(round(delta,3)))  "
   ]
  },
  {
   "cell_type": "code",
   "execution_count": null,
   "metadata": {},
   "outputs": [],
   "source": []
  }
 ],
 "metadata": {
  "interpreter": {
   "hash": "c7e6621f5c0e725993c5f5dd1734f3da8dc8c958ed2c46496e37b878d46070df"
  },
  "kernelspec": {
   "display_name": "Python 3.8.10 ('convenient')",
   "language": "python",
   "name": "python3"
  },
  "language_info": {
   "codemirror_mode": {
    "name": "ipython",
    "version": 3
   },
   "file_extension": ".py",
   "mimetype": "text/x-python",
   "name": "python",
   "nbconvert_exporter": "python",
   "pygments_lexer": "ipython3",
   "version": "3.8.10"
  },
  "orig_nbformat": 4
 },
 "nbformat": 4,
 "nbformat_minor": 2
}
