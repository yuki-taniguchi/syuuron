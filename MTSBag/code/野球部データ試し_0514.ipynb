{
 "cells": [
  {
   "cell_type": "code",
   "execution_count": 2,
   "metadata": {},
   "outputs": [],
   "source": [
    "import time\n",
    "\n",
    "import pandas as pd\n",
    "import numpy as np\n",
    "import random\n",
    "from tqdm import tqdm\n",
    "\n",
    "from sklearn.utils import resample\n",
    "from sklearn.model_selection import train_test_split\n",
    "\n",
    "# 自作関数\n",
    "from dataload.data_load import data_load\n",
    "from func.my_func import *"
   ]
  },
  {
   "cell_type": "code",
   "execution_count": 6,
   "metadata": {},
   "outputs": [],
   "source": [
    "INPUT_DIR = '../data/'\n",
    "\n",
    "df = pd.read_csv(INPUT_DIR + '1504_player_df.csv')\n",
    "X = df.drop([\n",
    "    'TargetDate',\n",
    "    'y_bin',\n",
    "    'y_num'\n",
    "    ], axis=1)\n",
    "y = df['y_bin']"
   ]
  },
  {
   "cell_type": "code",
   "execution_count": 8,
   "metadata": {},
   "outputs": [
    {
     "data": {
      "text/plain": [
       "0     0\n",
       "1     1\n",
       "2     0\n",
       "3     0\n",
       "4     0\n",
       "5     0\n",
       "6     0\n",
       "7     0\n",
       "8     0\n",
       "9     0\n",
       "10    0\n",
       "11    0\n",
       "12    0\n",
       "13    0\n",
       "14    0\n",
       "15    0\n",
       "16    0\n",
       "17    0\n",
       "18    0\n",
       "19    0\n",
       "20    0\n",
       "21    0\n",
       "22    1\n",
       "23    0\n",
       "24    0\n",
       "25    0\n",
       "26    0\n",
       "27    0\n",
       "28    0\n",
       "29    0\n",
       "30    0\n",
       "31    0\n",
       "32    0\n",
       "33    0\n",
       "34    0\n",
       "35    1\n",
       "36    0\n",
       "37    0\n",
       "38    0\n",
       "39    0\n",
       "40    0\n",
       "41    0\n",
       "42    1\n",
       "43    0\n",
       "44    0\n",
       "45    0\n",
       "46    0\n",
       "47    0\n",
       "48    0\n",
       "Name: y_bin, dtype: int64"
      ]
     },
     "execution_count": 8,
     "metadata": {},
     "output_type": "execute_result"
    }
   ],
   "source": [
    "y"
   ]
  },
  {
   "cell_type": "code",
   "execution_count": 9,
   "metadata": {},
   "outputs": [],
   "source": [
    "n_experiment = 10\n",
    "ex_name = '0514'\n",
    "data = 'id1504'"
   ]
  },
  {
   "cell_type": "code",
   "execution_count": 12,
   "metadata": {},
   "outputs": [
    {
     "name": "stdout",
     "output_type": "stream",
     "text": [
      "MTS開始！\n"
     ]
    },
    {
     "name": "stderr",
     "output_type": "stream",
     "text": [
      "  0%|          | 0/10 [00:00<?, ?it/s]c:\\Users\\baseb\\Documents\\github\\修論\\SMOTEMTSBag\\MTSBag\\code\\func\\my_func.py:574: RuntimeWarning: divide by zero encountered in double_scalars\n",
      "  result_df['RS'][m] = (TP / (TP + FN)) / (TN / (TN + FP))\n",
      "c:\\Users\\baseb\\Documents\\github\\修論\\SMOTEMTSBag\\MTSBag\\code\\func\\my_func.py:574: RuntimeWarning: divide by zero encountered in double_scalars\n",
      "  result_df['RS'][m] = (TP / (TP + FN)) / (TN / (TN + FP))\n",
      " 30%|███       | 3/10 [00:00<00:00, 25.85it/s]c:\\Users\\baseb\\Documents\\github\\修論\\SMOTEMTSBag\\MTSBag\\code\\func\\my_func.py:574: RuntimeWarning: divide by zero encountered in double_scalars\n",
      "  result_df['RS'][m] = (TP / (TP + FN)) / (TN / (TN + FP))\n",
      "c:\\Users\\baseb\\Documents\\github\\修論\\SMOTEMTSBag\\MTSBag\\code\\func\\my_func.py:571: RuntimeWarning: invalid value encountered in longlong_scalars\n",
      "  result_df['precision'][m] = TP / (TP + FP)\n",
      "c:\\Users\\baseb\\Documents\\github\\修論\\SMOTEMTSBag\\MTSBag\\code\\func\\my_func.py:574: RuntimeWarning: divide by zero encountered in double_scalars\n",
      "  result_df['RS'][m] = (TP / (TP + FN)) / (TN / (TN + FP))\n",
      " 70%|███████   | 7/10 [00:00<00:00, 29.16it/s]c:\\Users\\baseb\\Documents\\github\\修論\\SMOTEMTSBag\\MTSBag\\code\\func\\my_func.py:574: RuntimeWarning: divide by zero encountered in double_scalars\n",
      "  result_df['RS'][m] = (TP / (TP + FN)) / (TN / (TN + FP))\n",
      "c:\\Users\\baseb\\Documents\\github\\修論\\SMOTEMTSBag\\MTSBag\\code\\func\\my_func.py:574: RuntimeWarning: divide by zero encountered in double_scalars\n",
      "  result_df['RS'][m] = (TP / (TP + FN)) / (TN / (TN + FP))\n",
      "100%|██████████| 10/10 [00:00<00:00, 28.82it/s]\n"
     ]
    }
   ],
   "source": [
    "print('MTS開始！')\n",
    "\n",
    "\n",
    "result_df = pd.DataFrame(\n",
    "                    columns=['AUC', 'accuracy', 'recall', 'Specificity', 'precision', 'gmeans', 'RS'],\n",
    "                    index=range(n_experiment))\n",
    "for m in tqdm(range(n_experiment)):\n",
    "    # バギング側の話\n",
    "    # ブートストラップサンプリングの個数\n",
    "    n = 10\n",
    "    seed = random.randint(0, n)\n",
    "\n",
    "    # 使用する7つの変数をランダムに取得する\n",
    "    # バギングをする際はそれぞれのサブサンプルで7つの変数を選択する．\n",
    "    random.seed(seed)\n",
    "    random_s = random.sample(list(X.columns), len(X.columns) if len(X.columns) < 7 else 7)\n",
    "    X = X[random_s]\n",
    "\n",
    "    X_train, X_test, y_train, y_test = train_test_split(X, y, test_size=0.2, stratify=y)\n",
    "\n",
    "    result_scaler, result_inv_C, select_columns = fit_MTS(X_train, y_train)\n",
    "\n",
    "    y_train_pred = predict_MD(X_train, result_scaler, result_inv_C, select_columns)\n",
    "\n",
    "    threshold = determine_threshold(y_train, y_train_pred)\n",
    "\n",
    "    y_proba = predict_MD(X_test, result_scaler, result_inv_C, select_columns)\n",
    "    y_pred = y_proba > threshold\n",
    "\n",
    "    result_df = make_result_df(result_df, y_test, y_pred, y_proba, m)\n",
    "    \n",
    "result_df.to_csv(f'../data/output/{ex_name}_MTS_{data}_result.csv')"
   ]
  },
  {
   "cell_type": "code",
   "execution_count": null,
   "metadata": {},
   "outputs": [],
   "source": []
  }
 ],
 "metadata": {
  "interpreter": {
   "hash": "c7e6621f5c0e725993c5f5dd1734f3da8dc8c958ed2c46496e37b878d46070df"
  },
  "kernelspec": {
   "display_name": "Python 3.8.10 ('convenient')",
   "language": "python",
   "name": "python3"
  },
  "language_info": {
   "codemirror_mode": {
    "name": "ipython",
    "version": 3
   },
   "file_extension": ".py",
   "mimetype": "text/x-python",
   "name": "python",
   "nbconvert_exporter": "python",
   "pygments_lexer": "ipython3",
   "version": "3.8.10"
  },
  "orig_nbformat": 4
 },
 "nbformat": 4,
 "nbformat_minor": 2
}
