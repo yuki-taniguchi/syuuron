{
 "cells": [
  {
   "cell_type": "markdown",
   "metadata": {},
   "source": [
    "# グラムシュミット法によってマハラノビス距離を計算する関数を作成する\n",
    "## 先生に言われた方法を試す．\n",
    "- Ul = Al - sigma(tlq*Uq)\n",
    "- グラムシュミット法をする際にtqlを保存できれば先生に言われた方法で計算が可能！！！"
   ]
  },
  {
   "cell_type": "code",
   "execution_count": 1,
   "metadata": {},
   "outputs": [],
   "source": [
    "import pandas as pd\n",
    "import math\n",
    "import numpy as np\n",
    "import pandas as pd\n",
    "from sklearn.preprocessing import StandardScaler\n",
    "import matplotlib.pyplot as plt\n",
    "import seaborn as sns\n",
    "import datetime as dt\n",
    "from scipy.stats import chi2\n",
    "import matplotlib.dates as mdates\n",
    "import random\n",
    "from sklearn.model_selection import train_test_split"
   ]
  },
  {
   "cell_type": "markdown",
   "metadata": {},
   "source": [
    "## データの取得"
   ]
  },
  {
   "cell_type": "code",
   "execution_count": 2,
   "metadata": {},
   "outputs": [],
   "source": [
    "df = pd.read_csv('../data/letter_recognition.csv', header=None)\n",
    "\n",
    "#Aのみを判定するため，Aを１，A以外を0にした．\n",
    "df[0] = df[0].apply(lambda x: 1 if x == 'A' else 0)\n",
    "\n",
    "#Xとyを入力\n",
    "X = df[range(1,17)]\n",
    "y = df[0]\n",
    "\n"
   ]
  },
  {
   "cell_type": "code",
   "execution_count": 3,
   "metadata": {},
   "outputs": [],
   "source": [
    "#バギング側の話\n",
    "#ブートストラップサンプリングの個数\n",
    "n = 10\n",
    "seed = random.randint(0, n)\n",
    "\n",
    "#使用する7つの変数をランダムに取得する\n",
    "random.seed(1)\n",
    "random_s = random.sample(list(X.columns), 7)\n",
    "use_X = X[random_s]\n",
    "\n",
    "X_train, X_test, y_train, y_test = train_test_split(use_X, y, test_size=0.2)\n"
   ]
  },
  {
   "cell_type": "code",
   "execution_count": 4,
   "metadata": {},
   "outputs": [],
   "source": [
    "normal_idx = y_train[y_train == 0].index.to_list()\n",
    "anomaly_idx = y_train[y_train == 1].index.to_list()\n",
    "\n",
    "#通常状態の説明変数と目的変数を定義\n",
    "normal_X = X_train.loc[normal_idx]\n",
    "normal_y = y_train.loc[normal_idx]\n",
    "anomaly_X = X_train.loc[anomaly_idx]\n",
    "anomaly_y = y_train.loc[anomaly_idx]"
   ]
  },
  {
   "cell_type": "code",
   "execution_count": 5,
   "metadata": {},
   "outputs": [],
   "source": [
    "#各説明変数ごとに標準化\n",
    "def transform_standard(fit_X, transform_X):\n",
    "    scaler = StandardScaler()\n",
    "    scaler.fit(fit_X)\n",
    "    return scaler.transform(transform_X)\n",
    "\n",
    "#共分散行列の逆行列\n",
    "def inv_cov(x):\n",
    "    #標準化後のベクトルを入力する\n",
    "    #標準化した後なので相関行列と分散共分散行列は一致する\n",
    "    cov = np.cov(x.T)\n",
    "    return np.linalg.inv(cov)\n",
    "\n",
    "#マハラノビス汎距離\n",
    "def cal_MD(Z, inv_C, k):\n",
    "    MD = []\n",
    "    for i in range(len(Z)):\n",
    "        _a = np.dot(Z[i], inv_C)\n",
    "        _MD = np.dot(_a, Z[i].T)\n",
    "        _MD = _MD / k\n",
    "        MD.append(_MD)\n",
    "    return MD\n"
   ]
  },
  {
   "cell_type": "code",
   "execution_count": 6,
   "metadata": {},
   "outputs": [],
   "source": [
    "#標準化\n",
    "normal_Z = transform_standard(normal_X, normal_X)\n",
    "anomaly_Z = transform_standard(normal_X, anomaly_X) #異常データも正常データの平均と分散で標準化\n",
    "\n",
    "#共分散行列の逆行列\n",
    "inv_C = inv_cov(normal_Z)\n",
    "\n",
    "#マハラノビス距離の計算\n",
    "normal_MD = cal_MD(normal_Z, inv_C, len(use_X.columns))\n",
    "anomaly_MD = cal_MD(anomaly_Z, inv_C, len(use_X.columns))\n"
   ]
  },
  {
   "cell_type": "code",
   "execution_count": 7,
   "metadata": {},
   "outputs": [
    {
     "data": {
      "text/html": [
       "<div>\n",
       "<style scoped>\n",
       "    .dataframe tbody tr th:only-of-type {\n",
       "        vertical-align: middle;\n",
       "    }\n",
       "\n",
       "    .dataframe tbody tr th {\n",
       "        vertical-align: top;\n",
       "    }\n",
       "\n",
       "    .dataframe thead th {\n",
       "        text-align: right;\n",
       "    }\n",
       "</style>\n",
       "<table border=\"1\" class=\"dataframe\">\n",
       "  <thead>\n",
       "    <tr style=\"text-align: right;\">\n",
       "      <th></th>\n",
       "      <th>5</th>\n",
       "      <th>10</th>\n",
       "      <th>14</th>\n",
       "      <th>13</th>\n",
       "      <th>2</th>\n",
       "      <th>16</th>\n",
       "      <th>12</th>\n",
       "    </tr>\n",
       "  </thead>\n",
       "  <tbody>\n",
       "    <tr>\n",
       "      <th>8954</th>\n",
       "      <td>3</td>\n",
       "      <td>6</td>\n",
       "      <td>8</td>\n",
       "      <td>3</td>\n",
       "      <td>9</td>\n",
       "      <td>11</td>\n",
       "      <td>7</td>\n",
       "    </tr>\n",
       "    <tr>\n",
       "      <th>886</th>\n",
       "      <td>4</td>\n",
       "      <td>7</td>\n",
       "      <td>6</td>\n",
       "      <td>9</td>\n",
       "      <td>5</td>\n",
       "      <td>8</td>\n",
       "      <td>8</td>\n",
       "    </tr>\n",
       "    <tr>\n",
       "      <th>12818</th>\n",
       "      <td>6</td>\n",
       "      <td>11</td>\n",
       "      <td>8</td>\n",
       "      <td>3</td>\n",
       "      <td>9</td>\n",
       "      <td>12</td>\n",
       "      <td>8</td>\n",
       "    </tr>\n",
       "    <tr>\n",
       "      <th>19146</th>\n",
       "      <td>4</td>\n",
       "      <td>15</td>\n",
       "      <td>7</td>\n",
       "      <td>0</td>\n",
       "      <td>10</td>\n",
       "      <td>7</td>\n",
       "      <td>13</td>\n",
       "    </tr>\n",
       "    <tr>\n",
       "      <th>12605</th>\n",
       "      <td>2</td>\n",
       "      <td>9</td>\n",
       "      <td>8</td>\n",
       "      <td>2</td>\n",
       "      <td>4</td>\n",
       "      <td>8</td>\n",
       "      <td>8</td>\n",
       "    </tr>\n",
       "  </tbody>\n",
       "</table>\n",
       "</div>"
      ],
      "text/plain": [
       "       5   10  14  13  2   16  12\n",
       "8954    3   6   8   3   9  11   7\n",
       "886     4   7   6   9   5   8   8\n",
       "12818   6  11   8   3   9  12   8\n",
       "19146   4  15   7   0  10   7  13\n",
       "12605   2   9   8   2   4   8   8"
      ]
     },
     "execution_count": 7,
     "metadata": {},
     "output_type": "execute_result"
    }
   ],
   "source": [
    "normal_X.head()"
   ]
  },
  {
   "cell_type": "code",
   "execution_count": 12,
   "metadata": {},
   "outputs": [
    {
     "data": {
      "text/plain": [
       "(7, 15377)"
      ]
     },
     "execution_count": 12,
     "metadata": {},
     "output_type": "execute_result"
    }
   ],
   "source": [
    "normal_A = normal_Z.T\n",
    "# グラムシュミットの直交化\n",
    "# tをトレーニングデータで求めた！！\n",
    "def fit_gram_schmidt(normal_A):\n",
    "    normal_U = np.zeros(normal_A.shape)\n",
    "    t = np.zeros((normal_A.shape[0], normal_A.shape[0]))\n",
    "    for l in range(normal_A.shape[0]):\n",
    "        sigma = 0 \n",
    "        for q in range(l):\n",
    "            t[l][q] = np.dot(normal_A[l], normal_U[q]) / np.dot(normal_U[q], normal_U[q])\n",
    "            sigma +=  t[l][q] * normal_U[q]\n",
    "        normal_U[l] = normal_A[l] - sigma\n",
    "    return normal_U, t\n",
    "normal_U, t = fit_gram_schmidt(normal_A)"
   ]
  },
  {
   "cell_type": "code",
   "execution_count": 66,
   "metadata": {},
   "outputs": [
    {
     "data": {
      "text/plain": [
       "array([0.94059372, 1.75037816, 1.61109921, ..., 0.4535942 , 1.15994396,\n",
       "       1.00223367])"
      ]
     },
     "execution_count": 66,
     "metadata": {},
     "output_type": "execute_result"
    }
   ],
   "source": [
    "#マハラノビス汎距離\n",
    "def cal_MD(Z, inv_C):\n",
    "    '''\n",
    "    Z:標準化したベクトル\n",
    "    inv_C:標準化後の共分散行列\n",
    "    '''\n",
    "    MD = np.zeros(len(Z))\n",
    "    for i in range(len(Z)):\n",
    "        _a = np.dot(Z[i], inv_C)\n",
    "        _MD = np.dot(_a, Z[i].T)\n",
    "        _MD = _MD / Z.shape[1]\n",
    "        MD[i] = _MD\n",
    "    return MD\n",
    "cal_MD(normal_Z, inv_C)"
   ]
  },
  {
   "cell_type": "code",
   "execution_count": 67,
   "metadata": {},
   "outputs": [
    {
     "data": {
      "text/plain": [
       "array([0.94059372, 1.75037816, 1.61109921, ..., 0.4535942 , 1.15994396,\n",
       "       1.00223367])"
      ]
     },
     "execution_count": 67,
     "metadata": {},
     "output_type": "execute_result"
    }
   ],
   "source": [
    "#グラムシュミット法によるマハラノビス汎距離\n",
    "normal_gram_vec, _ = np.linalg.qr(normal_Z)\n",
    "normal_ips = np.diag(np.cov(normal_gram_vec.T))\n",
    "def gram_schmidt_cal_MD(gram_vec, ips):\n",
    "    '''\n",
    "    Z:標準化したベクトル\n",
    "    '''\n",
    "    \n",
    "    k = gram_vec.shape[1]\n",
    "    MD = np.zeros(gram_vec.shape[0])\n",
    "    \n",
    "    for i, one_gram_vec in enumerate(gram_vec):\n",
    "        _MD = 0\n",
    "        for q, u in enumerate(one_gram_vec):\n",
    "            _MD += u**2 / ips[q]\n",
    "        _MD = _MD / k\n",
    "        MD[i] = _MD\n",
    "    return MD\n",
    "\n",
    "gram_schmidt_cal_MD(normal_gram_vec, normal_ips)"
   ]
  },
  {
   "cell_type": "code",
   "execution_count": 68,
   "metadata": {},
   "outputs": [
    {
     "data": {
      "text/plain": [
       "array([0.94059372, 1.75037816, 1.61109921, ..., 0.4535942 , 1.15994396,\n",
       "       1.00223367])"
      ]
     },
     "execution_count": 68,
     "metadata": {},
     "output_type": "execute_result"
    }
   ],
   "source": [
    "normal_ips = np.diag(np.cov(normal_U))\n",
    "gram_schmidt_cal_MD(normal_U.T, normal_ips)\n"
   ]
  },
  {
   "cell_type": "markdown",
   "metadata": {},
   "source": [
    "## 異常データでの逆行列MDとGramschmidtMDの比較"
   ]
  },
  {
   "cell_type": "code",
   "execution_count": 70,
   "metadata": {},
   "outputs": [
    {
     "data": {
      "text/html": [
       "<div>\n",
       "<style scoped>\n",
       "    .dataframe tbody tr th:only-of-type {\n",
       "        vertical-align: middle;\n",
       "    }\n",
       "\n",
       "    .dataframe tbody tr th {\n",
       "        vertical-align: top;\n",
       "    }\n",
       "\n",
       "    .dataframe thead th {\n",
       "        text-align: right;\n",
       "    }\n",
       "</style>\n",
       "<table border=\"1\" class=\"dataframe\">\n",
       "  <thead>\n",
       "    <tr style=\"text-align: right;\">\n",
       "      <th></th>\n",
       "      <th>InvMD</th>\n",
       "      <th>gramMD_one_by_one</th>\n",
       "      <th>gramMD_anomaly_only</th>\n",
       "      <th>gramMD_all_sample</th>\n",
       "    </tr>\n",
       "  </thead>\n",
       "  <tbody>\n",
       "    <tr>\n",
       "      <th>327</th>\n",
       "      <td>0.328947</td>\n",
       "      <td>0.328919</td>\n",
       "      <td>0.366876</td>\n",
       "      <td>0.317889</td>\n",
       "    </tr>\n",
       "    <tr>\n",
       "      <th>234</th>\n",
       "      <td>0.436457</td>\n",
       "      <td>0.436399</td>\n",
       "      <td>0.627702</td>\n",
       "      <td>0.423556</td>\n",
       "    </tr>\n",
       "    <tr>\n",
       "      <th>10671</th>\n",
       "      <td>1.170488</td>\n",
       "      <td>1.169940</td>\n",
       "      <td>1.696205</td>\n",
       "      <td>1.121944</td>\n",
       "    </tr>\n",
       "    <tr>\n",
       "      <th>3045</th>\n",
       "      <td>1.412758</td>\n",
       "      <td>1.411942</td>\n",
       "      <td>1.658791</td>\n",
       "      <td>1.368622</td>\n",
       "    </tr>\n",
       "    <tr>\n",
       "      <th>1699</th>\n",
       "      <td>0.480384</td>\n",
       "      <td>0.480310</td>\n",
       "      <td>0.786520</td>\n",
       "      <td>0.471267</td>\n",
       "    </tr>\n",
       "    <tr>\n",
       "      <th>...</th>\n",
       "      <td>...</td>\n",
       "      <td>...</td>\n",
       "      <td>...</td>\n",
       "      <td>...</td>\n",
       "    </tr>\n",
       "    <tr>\n",
       "      <th>15175</th>\n",
       "      <td>0.806054</td>\n",
       "      <td>0.805811</td>\n",
       "      <td>1.239578</td>\n",
       "      <td>0.795417</td>\n",
       "    </tr>\n",
       "    <tr>\n",
       "      <th>19853</th>\n",
       "      <td>0.670865</td>\n",
       "      <td>0.670704</td>\n",
       "      <td>1.208708</td>\n",
       "      <td>0.659148</td>\n",
       "    </tr>\n",
       "    <tr>\n",
       "      <th>19597</th>\n",
       "      <td>4.870502</td>\n",
       "      <td>4.860043</td>\n",
       "      <td>8.320051</td>\n",
       "      <td>4.679555</td>\n",
       "    </tr>\n",
       "    <tr>\n",
       "      <th>10247</th>\n",
       "      <td>1.236171</td>\n",
       "      <td>1.235556</td>\n",
       "      <td>2.252303</td>\n",
       "      <td>1.187392</td>\n",
       "    </tr>\n",
       "    <tr>\n",
       "      <th>13463</th>\n",
       "      <td>0.417152</td>\n",
       "      <td>0.417100</td>\n",
       "      <td>0.481164</td>\n",
       "      <td>0.411676</td>\n",
       "    </tr>\n",
       "  </tbody>\n",
       "</table>\n",
       "<p>623 rows × 4 columns</p>\n",
       "</div>"
      ],
      "text/plain": [
       "          InvMD  gramMD_one_by_one  gramMD_anomaly_only  gramMD_all_sample\n",
       "327    0.328947           0.328919             0.366876           0.317889\n",
       "234    0.436457           0.436399             0.627702           0.423556\n",
       "10671  1.170488           1.169940             1.696205           1.121944\n",
       "3045   1.412758           1.411942             1.658791           1.368622\n",
       "1699   0.480384           0.480310             0.786520           0.471267\n",
       "...         ...                ...                  ...                ...\n",
       "15175  0.806054           0.805811             1.239578           0.795417\n",
       "19853  0.670865           0.670704             1.208708           0.659148\n",
       "19597  4.870502           4.860043             8.320051           4.679555\n",
       "10247  1.236171           1.235556             2.252303           1.187392\n",
       "13463  0.417152           0.417100             0.481164           0.411676\n",
       "\n",
       "[623 rows x 4 columns]"
      ]
     },
     "execution_count": 70,
     "metadata": {},
     "output_type": "execute_result"
    }
   ],
   "source": [
    "conpare_df = pd.DataFrame(cal_MD(anomaly_Z, inv_C), index=anomaly_idx, columns=['InvMD'])\n",
    "\n",
    "def create_gramMD_one_by_one():\n",
    "    MD = []\n",
    "    for i in range(len(anomaly_X)):\n",
    "        sample = normal_X.reset_index(drop=True)\n",
    "        sample = sample.append(anomaly_X.iloc[i]).reset_index(drop=True)\n",
    "        sample_Z = transform_standard(normal_X, sample)\n",
    "        anomaly_gram_vec, _ = np.linalg.qr(sample_Z)\n",
    "        anomaly_ips = np.diag(np.cov(anomaly_gram_vec.T))\n",
    "        MD.append(gram_schmidt_cal_MD(anomaly_gram_vec, anomaly_ips)[-1])\n",
    "    return pd.DataFrame(MD, index=anomaly_idx, columns=['gramMD_one_by_one'])\n",
    "conpare_df = pd.concat([conpare_df, create_gramMD_one_by_one()], axis=1)\n",
    "\n",
    "conpare_df = conpare_df[['InvMD', 'gramMD_one_by_one']]\n",
    "def create_gramMD_anomaly_only():\n",
    "    sample_Z = transform_standard(normal_X, anomaly_X)\n",
    "    anomaly_gram_vec, _ = np.linalg.qr(sample_Z)\n",
    "    anomaly_ips = np.diag(np.cov(anomaly_gram_vec.T))\n",
    "    return pd.DataFrame(gram_schmidt_cal_MD(anomaly_gram_vec, anomaly_ips), index=anomaly_idx, columns=['gramMD_anomaly_only'])\n",
    "    \n",
    "conpare_df = pd.concat([conpare_df, create_gramMD_anomaly_only()], axis=1)\n",
    "\n",
    "def create_gramMD_all_sample():\n",
    "    sample_Z = transform_standard(normal_X, X_train)\n",
    "    anomaly_gram_vec, _ = np.linalg.qr(sample_Z)\n",
    "    anomaly_ips = np.diag(np.cov(anomaly_gram_vec.T))\n",
    "    return pd.DataFrame(gram_schmidt_cal_MD(anomaly_gram_vec, anomaly_ips), index=X_train.index, columns=['gramMD_all_sample']).loc[anomaly_idx]\n",
    "\n",
    "conpare_df = pd.concat([conpare_df, create_gramMD_all_sample()], axis=1)\n",
    "conpare_df"
   ]
  },
  {
   "cell_type": "code",
   "execution_count": 74,
   "metadata": {},
   "outputs": [
    {
     "data": {
      "text/html": [
       "<div>\n",
       "<style scoped>\n",
       "    .dataframe tbody tr th:only-of-type {\n",
       "        vertical-align: middle;\n",
       "    }\n",
       "\n",
       "    .dataframe tbody tr th {\n",
       "        vertical-align: top;\n",
       "    }\n",
       "\n",
       "    .dataframe thead th {\n",
       "        text-align: right;\n",
       "    }\n",
       "</style>\n",
       "<table border=\"1\" class=\"dataframe\">\n",
       "  <thead>\n",
       "    <tr style=\"text-align: right;\">\n",
       "      <th></th>\n",
       "      <th>InvMD</th>\n",
       "      <th>gramMD_one_by_one</th>\n",
       "      <th>gramMD_anomaly_only</th>\n",
       "      <th>gramMD_all_sample</th>\n",
       "      <th>gram</th>\n",
       "    </tr>\n",
       "  </thead>\n",
       "  <tbody>\n",
       "    <tr>\n",
       "      <th>327</th>\n",
       "      <td>0.328947</td>\n",
       "      <td>0.328919</td>\n",
       "      <td>0.366876</td>\n",
       "      <td>0.317889</td>\n",
       "      <td>0.328947</td>\n",
       "    </tr>\n",
       "    <tr>\n",
       "      <th>234</th>\n",
       "      <td>0.436457</td>\n",
       "      <td>0.436399</td>\n",
       "      <td>0.627702</td>\n",
       "      <td>0.423556</td>\n",
       "      <td>0.436457</td>\n",
       "    </tr>\n",
       "    <tr>\n",
       "      <th>10671</th>\n",
       "      <td>1.170488</td>\n",
       "      <td>1.169940</td>\n",
       "      <td>1.696205</td>\n",
       "      <td>1.121944</td>\n",
       "      <td>1.170488</td>\n",
       "    </tr>\n",
       "    <tr>\n",
       "      <th>3045</th>\n",
       "      <td>1.412758</td>\n",
       "      <td>1.411942</td>\n",
       "      <td>1.658791</td>\n",
       "      <td>1.368622</td>\n",
       "      <td>1.412758</td>\n",
       "    </tr>\n",
       "    <tr>\n",
       "      <th>1699</th>\n",
       "      <td>0.480384</td>\n",
       "      <td>0.480310</td>\n",
       "      <td>0.786520</td>\n",
       "      <td>0.471267</td>\n",
       "      <td>0.480384</td>\n",
       "    </tr>\n",
       "    <tr>\n",
       "      <th>...</th>\n",
       "      <td>...</td>\n",
       "      <td>...</td>\n",
       "      <td>...</td>\n",
       "      <td>...</td>\n",
       "      <td>...</td>\n",
       "    </tr>\n",
       "    <tr>\n",
       "      <th>15175</th>\n",
       "      <td>0.806054</td>\n",
       "      <td>0.805811</td>\n",
       "      <td>1.239578</td>\n",
       "      <td>0.795417</td>\n",
       "      <td>0.806054</td>\n",
       "    </tr>\n",
       "    <tr>\n",
       "      <th>19853</th>\n",
       "      <td>0.670865</td>\n",
       "      <td>0.670704</td>\n",
       "      <td>1.208708</td>\n",
       "      <td>0.659148</td>\n",
       "      <td>0.670865</td>\n",
       "    </tr>\n",
       "    <tr>\n",
       "      <th>19597</th>\n",
       "      <td>4.870502</td>\n",
       "      <td>4.860043</td>\n",
       "      <td>8.320051</td>\n",
       "      <td>4.679555</td>\n",
       "      <td>4.870502</td>\n",
       "    </tr>\n",
       "    <tr>\n",
       "      <th>10247</th>\n",
       "      <td>1.236171</td>\n",
       "      <td>1.235556</td>\n",
       "      <td>2.252303</td>\n",
       "      <td>1.187392</td>\n",
       "      <td>1.236171</td>\n",
       "    </tr>\n",
       "    <tr>\n",
       "      <th>13463</th>\n",
       "      <td>0.417152</td>\n",
       "      <td>0.417100</td>\n",
       "      <td>0.481164</td>\n",
       "      <td>0.411676</td>\n",
       "      <td>0.417152</td>\n",
       "    </tr>\n",
       "  </tbody>\n",
       "</table>\n",
       "<p>623 rows × 5 columns</p>\n",
       "</div>"
      ],
      "text/plain": [
       "          InvMD  gramMD_one_by_one  gramMD_anomaly_only  gramMD_all_sample  \\\n",
       "327    0.328947           0.328919             0.366876           0.317889   \n",
       "234    0.436457           0.436399             0.627702           0.423556   \n",
       "10671  1.170488           1.169940             1.696205           1.121944   \n",
       "3045   1.412758           1.411942             1.658791           1.368622   \n",
       "1699   0.480384           0.480310             0.786520           0.471267   \n",
       "...         ...                ...                  ...                ...   \n",
       "15175  0.806054           0.805811             1.239578           0.795417   \n",
       "19853  0.670865           0.670704             1.208708           0.659148   \n",
       "19597  4.870502           4.860043             8.320051           4.679555   \n",
       "10247  1.236171           1.235556             2.252303           1.187392   \n",
       "13463  0.417152           0.417100             0.481164           0.411676   \n",
       "\n",
       "           gram  \n",
       "327    0.328947  \n",
       "234    0.436457  \n",
       "10671  1.170488  \n",
       "3045   1.412758  \n",
       "1699   0.480384  \n",
       "...         ...  \n",
       "15175  0.806054  \n",
       "19853  0.670865  \n",
       "19597  4.870502  \n",
       "10247  1.236171  \n",
       "13463  0.417152  \n",
       "\n",
       "[623 rows x 5 columns]"
      ]
     },
     "execution_count": 74,
     "metadata": {},
     "output_type": "execute_result"
    }
   ],
   "source": [
    "anomaly_A = anomaly_Z.T\n",
    "anomaly_U = np.zeros(anomaly_A.shape)\n",
    "for l in range(anomaly_A.shape[0]):\n",
    "    sigma = 0 \n",
    "    for q in range(l):\n",
    "        sigma +=  t[l][q] * anomaly_U[q]\n",
    "    anomaly_U[l] = anomaly_A[l] - sigma\n",
    "pd.concat([conpare_df, pd.DataFrame(gram_schmidt_cal_MD(anomaly_U.T, normal_ips), index=anomaly_idx, columns=['gram'])], axis=1)"
   ]
  },
  {
   "cell_type": "markdown",
   "metadata": {},
   "source": [
    "# できた！！！"
   ]
  },
  {
   "cell_type": "markdown",
   "metadata": {},
   "source": [
    "## やったこと\n",
    "- 今までの逆行列MDとグラムシュミットMDが異常データにおいてどのくらい差があるかを検証した．\n",
    "    - gramMD_one_by_one: 通常データに異常データを一つだけくっつけて直交化を行いGramschmidtMDを求める方法 \n",
    "    - gramMD_anomaly_only: 異常データだけで直交化を行いGramschmidtMDを求める方法 \n",
    "    - gramMD_all_sample: 通常データに異常データをすべてくっつけて直交化を行いGramschmidtMDを求める方法"
   ]
  },
  {
   "cell_type": "markdown",
   "metadata": {},
   "source": [
    "## 結果"
   ]
  },
  {
   "cell_type": "code",
   "execution_count": null,
   "metadata": {},
   "outputs": [
    {
     "data": {
      "text/html": [
       "<div>\n",
       "<style scoped>\n",
       "    .dataframe tbody tr th:only-of-type {\n",
       "        vertical-align: middle;\n",
       "    }\n",
       "\n",
       "    .dataframe tbody tr th {\n",
       "        vertical-align: top;\n",
       "    }\n",
       "\n",
       "    .dataframe thead th {\n",
       "        text-align: right;\n",
       "    }\n",
       "</style>\n",
       "<table border=\"1\" class=\"dataframe\">\n",
       "  <thead>\n",
       "    <tr style=\"text-align: right;\">\n",
       "      <th></th>\n",
       "      <th>InvMD</th>\n",
       "      <th>gramMD_one_by_one</th>\n",
       "      <th>gramMD_anomaly_only</th>\n",
       "      <th>gramMD_all_sample</th>\n",
       "    </tr>\n",
       "  </thead>\n",
       "  <tbody>\n",
       "    <tr>\n",
       "      <th>19620</th>\n",
       "      <td>2.277088</td>\n",
       "      <td>2.274877</td>\n",
       "      <td>2.795716</td>\n",
       "      <td>2.186991</td>\n",
       "    </tr>\n",
       "    <tr>\n",
       "      <th>10569</th>\n",
       "      <td>0.780341</td>\n",
       "      <td>0.780115</td>\n",
       "      <td>2.797163</td>\n",
       "      <td>0.791389</td>\n",
       "    </tr>\n",
       "    <tr>\n",
       "      <th>4225</th>\n",
       "      <td>1.086459</td>\n",
       "      <td>1.085993</td>\n",
       "      <td>0.947095</td>\n",
       "      <td>1.057798</td>\n",
       "    </tr>\n",
       "    <tr>\n",
       "      <th>13702</th>\n",
       "      <td>0.742296</td>\n",
       "      <td>0.742094</td>\n",
       "      <td>0.751413</td>\n",
       "      <td>0.730570</td>\n",
       "    </tr>\n",
       "    <tr>\n",
       "      <th>19597</th>\n",
       "      <td>4.860878</td>\n",
       "      <td>4.850460</td>\n",
       "      <td>8.147387</td>\n",
       "      <td>4.663684</td>\n",
       "    </tr>\n",
       "    <tr>\n",
       "      <th>...</th>\n",
       "      <td>...</td>\n",
       "      <td>...</td>\n",
       "      <td>...</td>\n",
       "      <td>...</td>\n",
       "    </tr>\n",
       "    <tr>\n",
       "      <th>18377</th>\n",
       "      <td>0.905111</td>\n",
       "      <td>0.904798</td>\n",
       "      <td>1.588327</td>\n",
       "      <td>0.884619</td>\n",
       "    </tr>\n",
       "    <tr>\n",
       "      <th>19888</th>\n",
       "      <td>0.513390</td>\n",
       "      <td>0.513304</td>\n",
       "      <td>0.854800</td>\n",
       "      <td>0.506159</td>\n",
       "    </tr>\n",
       "    <tr>\n",
       "      <th>3025</th>\n",
       "      <td>0.703537</td>\n",
       "      <td>0.703358</td>\n",
       "      <td>0.883006</td>\n",
       "      <td>0.674589</td>\n",
       "    </tr>\n",
       "    <tr>\n",
       "      <th>9063</th>\n",
       "      <td>1.104459</td>\n",
       "      <td>1.103976</td>\n",
       "      <td>0.850638</td>\n",
       "      <td>1.053029</td>\n",
       "    </tr>\n",
       "    <tr>\n",
       "      <th>4429</th>\n",
       "      <td>0.596678</td>\n",
       "      <td>0.596555</td>\n",
       "      <td>1.827667</td>\n",
       "      <td>0.601182</td>\n",
       "    </tr>\n",
       "  </tbody>\n",
       "</table>\n",
       "<p>624 rows × 4 columns</p>\n",
       "</div>"
      ],
      "text/plain": [
       "          InvMD  gramMD_one_by_one  gramMD_anomaly_only  gramMD_all_sample\n",
       "19620  2.277088           2.274877             2.795716           2.186991\n",
       "10569  0.780341           0.780115             2.797163           0.791389\n",
       "4225   1.086459           1.085993             0.947095           1.057798\n",
       "13702  0.742296           0.742094             0.751413           0.730570\n",
       "19597  4.860878           4.850460             8.147387           4.663684\n",
       "...         ...                ...                  ...                ...\n",
       "18377  0.905111           0.904798             1.588327           0.884619\n",
       "19888  0.513390           0.513304             0.854800           0.506159\n",
       "3025   0.703537           0.703358             0.883006           0.674589\n",
       "9063   1.104459           1.103976             0.850638           1.053029\n",
       "4429   0.596678           0.596555             1.827667           0.601182\n",
       "\n",
       "[624 rows x 4 columns]"
      ]
     },
     "execution_count": 111,
     "metadata": {},
     "output_type": "execute_result"
    }
   ],
   "source": [
    "conpare_df"
   ]
  },
  {
   "cell_type": "markdown",
   "metadata": {},
   "source": [
    "#### RMSE"
   ]
  },
  {
   "cell_type": "code",
   "execution_count": null,
   "metadata": {},
   "outputs": [
    {
     "name": "stdout",
     "output_type": "stream",
     "text": [
      "gramMD_one_by_one: 0.0012169326516005816\n",
      "gramMD_anomaly_only: 0.6993212728913734\n",
      "gramMD_all_sample: 0.039443899340899154\n"
     ]
    }
   ],
   "source": [
    "from sklearn.metrics import mean_squared_error\n",
    "print('gramMD_one_by_one:', np.sqrt(mean_squared_error(conpare_df['InvMD'], conpare_df['gramMD_one_by_one'])))\n",
    "print('gramMD_anomaly_only:', np.sqrt(mean_squared_error(conpare_df['InvMD'], conpare_df['gramMD_anomaly_only'])))\n",
    "print('gramMD_all_sample:', np.sqrt(mean_squared_error(conpare_df['InvMD'], conpare_df['gramMD_all_sample'])))"
   ]
  },
  {
   "cell_type": "markdown",
   "metadata": {},
   "source": [
    "#### 計算時間"
   ]
  },
  {
   "cell_type": "code",
   "execution_count": null,
   "metadata": {},
   "outputs": [
    {
     "name": "stdout",
     "output_type": "stream",
     "text": [
      "gramMD_one_by_one: 1m 03s\n",
      "gramMD_anomaly_only: 0.8s\n",
      "gramMD_all_sample: 0.1s\n"
     ]
    }
   ],
   "source": [
    "print('gramMD_one_by_one:', '1m 03s')\n",
    "print('gramMD_anomaly_only:', '0.8s')\n",
    "print('gramMD_all_sample:', '0.1s')"
   ]
  },
  {
   "cell_type": "code",
   "execution_count": null,
   "metadata": {},
   "outputs": [
    {
     "data": {
      "text/plain": [
       "16000"
      ]
     },
     "execution_count": 109,
     "metadata": {},
     "output_type": "execute_result"
    }
   ],
   "source": [
    "len(X_train)"
   ]
  },
  {
   "cell_type": "code",
   "execution_count": null,
   "metadata": {},
   "outputs": [
    {
     "data": {
      "text/plain": [
       "4000"
      ]
     },
     "execution_count": 110,
     "metadata": {},
     "output_type": "execute_result"
    }
   ],
   "source": [
    "len(X_test)"
   ]
  },
  {
   "cell_type": "markdown",
   "metadata": {},
   "source": [
    "# できた！！！！！"
   ]
  },
  {
   "cell_type": "code",
   "execution_count": null,
   "metadata": {},
   "outputs": [],
   "source": []
  },
  {
   "cell_type": "code",
   "execution_count": null,
   "metadata": {},
   "outputs": [
    {
     "data": {
      "text/plain": [
       "array([[ True,  True,  True,  True,  True,  True,  True],\n",
       "       [ True,  True,  True, False, False, False, False],\n",
       "       [ True, False, False,  True,  True, False, False],\n",
       "       [ True, False, False, False, False,  True,  True],\n",
       "       [False,  True, False,  True, False,  True, False],\n",
       "       [False,  True, False, False,  True, False,  True],\n",
       "       [False, False,  True,  True, False, False,  True],\n",
       "       [False, False,  True, False,  True,  True, False]])"
      ]
     },
     "execution_count": 34,
     "metadata": {},
     "output_type": "execute_result"
    }
   ],
   "source": [
    "#L8直行表\n",
    "l8 = np.array([\n",
    "    [1,1,1,1,1,1,1],\n",
    "    [1,1,1,2,2,2,2],\n",
    "    [1,2,2,1,1,2,2],\n",
    "    [1,2,2,2,2,1,1],\n",
    "    [2,1,2,1,2,1,2],\n",
    "    [2,1,2,2,1,2,1],\n",
    "    [2,2,1,1,2,2,1],\n",
    "    [2,2,1,2,1,1,2]\n",
    "    ])\n",
    "l8 = (l8 == 1)\n",
    "l8"
   ]
  },
  {
   "cell_type": "code",
   "execution_count": null,
   "metadata": {},
   "outputs": [
    {
     "data": {
      "text/plain": [
       "array([[0.54897735, 0.80594764, 0.25822561, ..., 0.81127319, 1.34173595,\n",
       "        1.12818194],\n",
       "       [0.81414475, 1.66691331, 0.81414475, ..., 1.17608226, 0.72392134,\n",
       "        3.02201274],\n",
       "       [0.78876927, 0.34304566, 0.16598893, ..., 0.3258575 , 0.24768548,\n",
       "        1.7340828 ],\n",
       "       ...,\n",
       "       [0.33831351, 0.30805763, 0.11758412, ..., 1.10111187, 0.24692022,\n",
       "        2.20757785],\n",
       "       [0.31521762, 0.9182262 , 0.43578507, ..., 0.37073917, 0.74006328,\n",
       "        1.04321135],\n",
       "       [0.48867644, 1.11251288, 0.36091576, ..., 1.24554322, 2.67686101,\n",
       "        3.2350077 ]])"
      ]
     },
     "execution_count": 35,
     "metadata": {},
     "output_type": "execute_result"
    }
   ],
   "source": [
    "#異常データのマハラノビス距離\n",
    "result = np.zeros((l8.shape[0], anomaly_Z.shape[0]))\n",
    "for i, l8_row in enumerate(l8):\n",
    "    result[i] = cal_MD(anomaly_Z[:, l8_row], inv_C[l8_row][:,l8_row])\n",
    "result\n"
   ]
  },
  {
   "cell_type": "code",
   "execution_count": null,
   "metadata": {},
   "outputs": [
    {
     "data": {
      "text/plain": [
       "array([[16.39907068, 13.18763491,  6.47958334, ..., 18.24982226,\n",
       "        50.79338466, 21.38352322],\n",
       "       [ 9.43740552, 20.90304841,  9.43740552, ..., 37.0755016 ,\n",
       "        16.4307721 , 32.49439143],\n",
       "       [24.94408966, 12.37357899,  7.20399173, ...,  8.50702906,\n",
       "        18.3343913 , 43.59116868],\n",
       "       ...,\n",
       "       [ 9.66673412, 16.73425211,  5.76037926, ..., 34.17653701,\n",
       "        16.73557682, 39.58413969],\n",
       "       [ 3.65433844, 11.4164381 ,  6.70474677, ...,  5.4139151 ,\n",
       "        21.75214394, 12.53635637],\n",
       "       [ 4.86159423, 10.49390799,  3.72307593, ..., 22.83763947,\n",
       "        58.70907407, 45.4223399 ]])"
      ]
     },
     "execution_count": 36,
     "metadata": {},
     "output_type": "execute_result"
    }
   ],
   "source": [
    "#異常データのマハラノビス距離\n",
    "result = np.zeros((l8.shape[0], anomaly_Z.shape[0]))\n",
    "\n",
    "for i, l8_row in enumerate(l8):\n",
    "    _gram_vec, _ = np.linalg.qr(anomaly_Z[:, l8_row])\n",
    "    result[i] = gram_schmidt_cal_MD(_gram_vec, normal_ips[l8_row])\n",
    "result\n"
   ]
  },
  {
   "cell_type": "code",
   "execution_count": null,
   "metadata": {},
   "outputs": [
    {
     "data": {
      "text/plain": [
       "array([11.87847325, 11.75508921, 10.78825781,  8.59781842,  9.72059755,\n",
       "        9.9537332 ,  9.3703629 , 10.79446388])"
      ]
     },
     "execution_count": 37,
     "metadata": {},
     "output_type": "execute_result"
    }
   ],
   "source": [
    " #SN比\n",
    "sn = np.zeros(l8.shape[0])\n",
    "for idx, row in enumerate(result):\n",
    "    sum_MD = 0\n",
    "    for i in range(len(row)):\n",
    "        sum_MD += 1 / row[i]\n",
    "    sn[idx] = -10 * math.log10(sum_MD / len(row))\n",
    "sn"
   ]
  },
  {
   "cell_type": "code",
   "execution_count": null,
   "metadata": {},
   "outputs": [
    {
     "data": {
      "text/html": [
       "<div>\n",
       "<style scoped>\n",
       "    .dataframe tbody tr th:only-of-type {\n",
       "        vertical-align: middle;\n",
       "    }\n",
       "\n",
       "    .dataframe tbody tr th {\n",
       "        vertical-align: top;\n",
       "    }\n",
       "\n",
       "    .dataframe thead th {\n",
       "        text-align: right;\n",
       "    }\n",
       "</style>\n",
       "<table border=\"1\" class=\"dataframe\">\n",
       "  <thead>\n",
       "    <tr style=\"text-align: right;\">\n",
       "      <th></th>\n",
       "      <th>5</th>\n",
       "      <th>10</th>\n",
       "      <th>14</th>\n",
       "      <th>13</th>\n",
       "      <th>2</th>\n",
       "      <th>16</th>\n",
       "      <th>12</th>\n",
       "    </tr>\n",
       "  </thead>\n",
       "  <tbody>\n",
       "    <tr>\n",
       "      <th>9877</th>\n",
       "      <td>1</td>\n",
       "      <td>7</td>\n",
       "      <td>7</td>\n",
       "      <td>2</td>\n",
       "      <td>0</td>\n",
       "      <td>9</td>\n",
       "      <td>8</td>\n",
       "    </tr>\n",
       "    <tr>\n",
       "      <th>8430</th>\n",
       "      <td>4</td>\n",
       "      <td>6</td>\n",
       "      <td>8</td>\n",
       "      <td>2</td>\n",
       "      <td>7</td>\n",
       "      <td>8</td>\n",
       "      <td>6</td>\n",
       "    </tr>\n",
       "    <tr>\n",
       "      <th>322</th>\n",
       "      <td>5</td>\n",
       "      <td>11</td>\n",
       "      <td>6</td>\n",
       "      <td>4</td>\n",
       "      <td>10</td>\n",
       "      <td>9</td>\n",
       "      <td>7</td>\n",
       "    </tr>\n",
       "    <tr>\n",
       "      <th>14003</th>\n",
       "      <td>3</td>\n",
       "      <td>14</td>\n",
       "      <td>9</td>\n",
       "      <td>2</td>\n",
       "      <td>10</td>\n",
       "      <td>11</td>\n",
       "      <td>6</td>\n",
       "    </tr>\n",
       "    <tr>\n",
       "      <th>3407</th>\n",
       "      <td>3</td>\n",
       "      <td>12</td>\n",
       "      <td>9</td>\n",
       "      <td>2</td>\n",
       "      <td>13</td>\n",
       "      <td>6</td>\n",
       "      <td>5</td>\n",
       "    </tr>\n",
       "    <tr>\n",
       "      <th>...</th>\n",
       "      <td>...</td>\n",
       "      <td>...</td>\n",
       "      <td>...</td>\n",
       "      <td>...</td>\n",
       "      <td>...</td>\n",
       "      <td>...</td>\n",
       "      <td>...</td>\n",
       "    </tr>\n",
       "    <tr>\n",
       "      <th>450</th>\n",
       "      <td>2</td>\n",
       "      <td>10</td>\n",
       "      <td>9</td>\n",
       "      <td>5</td>\n",
       "      <td>4</td>\n",
       "      <td>7</td>\n",
       "      <td>6</td>\n",
       "    </tr>\n",
       "    <tr>\n",
       "      <th>18925</th>\n",
       "      <td>0</td>\n",
       "      <td>7</td>\n",
       "      <td>10</td>\n",
       "      <td>3</td>\n",
       "      <td>0</td>\n",
       "      <td>8</td>\n",
       "      <td>8</td>\n",
       "    </tr>\n",
       "    <tr>\n",
       "      <th>5789</th>\n",
       "      <td>8</td>\n",
       "      <td>6</td>\n",
       "      <td>8</td>\n",
       "      <td>8</td>\n",
       "      <td>8</td>\n",
       "      <td>6</td>\n",
       "      <td>8</td>\n",
       "    </tr>\n",
       "    <tr>\n",
       "      <th>1555</th>\n",
       "      <td>1</td>\n",
       "      <td>7</td>\n",
       "      <td>8</td>\n",
       "      <td>2</td>\n",
       "      <td>3</td>\n",
       "      <td>8</td>\n",
       "      <td>7</td>\n",
       "    </tr>\n",
       "    <tr>\n",
       "      <th>16340</th>\n",
       "      <td>1</td>\n",
       "      <td>7</td>\n",
       "      <td>8</td>\n",
       "      <td>0</td>\n",
       "      <td>10</td>\n",
       "      <td>8</td>\n",
       "      <td>8</td>\n",
       "    </tr>\n",
       "  </tbody>\n",
       "</table>\n",
       "<p>16000 rows × 7 columns</p>\n",
       "</div>"
      ],
      "text/plain": [
       "       5   10  14  13  2   16  12\n",
       "9877    1   7   7   2   0   9   8\n",
       "8430    4   6   8   2   7   8   6\n",
       "322     5  11   6   4  10   9   7\n",
       "14003   3  14   9   2  10  11   6\n",
       "3407    3  12   9   2  13   6   5\n",
       "...    ..  ..  ..  ..  ..  ..  ..\n",
       "450     2  10   9   5   4   7   6\n",
       "18925   0   7  10   3   0   8   8\n",
       "5789    8   6   8   8   8   6   8\n",
       "1555    1   7   8   2   3   8   7\n",
       "16340   1   7   8   0  10   8   8\n",
       "\n",
       "[16000 rows x 7 columns]"
      ]
     },
     "execution_count": 38,
     "metadata": {},
     "output_type": "execute_result"
    }
   ],
   "source": [
    "X_train"
   ]
  },
  {
   "cell_type": "code",
   "execution_count": null,
   "metadata": {},
   "outputs": [
    {
     "data": {
      "text/html": [
       "<div>\n",
       "<style scoped>\n",
       "    .dataframe tbody tr th:only-of-type {\n",
       "        vertical-align: middle;\n",
       "    }\n",
       "\n",
       "    .dataframe tbody tr th {\n",
       "        vertical-align: top;\n",
       "    }\n",
       "\n",
       "    .dataframe thead th {\n",
       "        text-align: right;\n",
       "    }\n",
       "</style>\n",
       "<table border=\"1\" class=\"dataframe\">\n",
       "  <thead>\n",
       "    <tr style=\"text-align: right;\">\n",
       "      <th></th>\n",
       "      <th>SN比</th>\n",
       "    </tr>\n",
       "  </thead>\n",
       "  <tbody>\n",
       "    <tr>\n",
       "      <th>5</th>\n",
       "      <td>3.180481</td>\n",
       "    </tr>\n",
       "    <tr>\n",
       "      <th>10</th>\n",
       "      <td>3.75699</td>\n",
       "    </tr>\n",
       "    <tr>\n",
       "      <th>14</th>\n",
       "      <td>4.737982</td>\n",
       "    </tr>\n",
       "    <tr>\n",
       "      <th>13</th>\n",
       "      <td>0.656587</td>\n",
       "    </tr>\n",
       "    <tr>\n",
       "      <th>2</th>\n",
       "      <td>3.97106</td>\n",
       "    </tr>\n",
       "    <tr>\n",
       "      <th>16</th>\n",
       "      <td>-0.87609</td>\n",
       "    </tr>\n",
       "    <tr>\n",
       "      <th>12</th>\n",
       "      <td>-3.258021</td>\n",
       "    </tr>\n",
       "  </tbody>\n",
       "</table>\n",
       "</div>"
      ],
      "text/plain": [
       "         SN比\n",
       "5   3.180481\n",
       "10   3.75699\n",
       "14  4.737982\n",
       "13  0.656587\n",
       "2    3.97106\n",
       "16  -0.87609\n",
       "12 -3.258021"
      ]
     },
     "execution_count": 39,
     "metadata": {},
     "output_type": "execute_result"
    }
   ],
   "source": [
    "# SN比を利用し，不要と思われる変数を削除する\n",
    "#変数選択\n",
    "df_sn = pd.DataFrame(index=X_train.columns, columns=['SN比'])\n",
    "for i, clm in enumerate(X_train.columns):\n",
    "    df_sn.loc[df_sn.index == clm, 'SN比'] = sum(sn[l8.T[i]]) - sum(sn[~l8.T[i]])\n",
    "#使用した変数を保存\n",
    "select_columns = df_sn[df_sn['SN比'] > 0].index\n",
    "df_sn\n",
    "    "
   ]
  },
  {
   "cell_type": "code",
   "execution_count": null,
   "metadata": {},
   "outputs": [
    {
     "data": {
      "text/html": [
       "<div>\n",
       "<style scoped>\n",
       "    .dataframe tbody tr th:only-of-type {\n",
       "        vertical-align: middle;\n",
       "    }\n",
       "\n",
       "    .dataframe tbody tr th {\n",
       "        vertical-align: top;\n",
       "    }\n",
       "\n",
       "    .dataframe thead th {\n",
       "        text-align: right;\n",
       "    }\n",
       "</style>\n",
       "<table border=\"1\" class=\"dataframe\">\n",
       "  <thead>\n",
       "    <tr style=\"text-align: right;\">\n",
       "      <th></th>\n",
       "      <th>SN比</th>\n",
       "    </tr>\n",
       "  </thead>\n",
       "  <tbody>\n",
       "    <tr>\n",
       "      <th>5</th>\n",
       "      <td>3.180481</td>\n",
       "    </tr>\n",
       "    <tr>\n",
       "      <th>10</th>\n",
       "      <td>3.75699</td>\n",
       "    </tr>\n",
       "    <tr>\n",
       "      <th>14</th>\n",
       "      <td>4.737982</td>\n",
       "    </tr>\n",
       "    <tr>\n",
       "      <th>13</th>\n",
       "      <td>0.656587</td>\n",
       "    </tr>\n",
       "    <tr>\n",
       "      <th>2</th>\n",
       "      <td>3.97106</td>\n",
       "    </tr>\n",
       "  </tbody>\n",
       "</table>\n",
       "</div>"
      ],
      "text/plain": [
       "         SN比\n",
       "5   3.180481\n",
       "10   3.75699\n",
       "14  4.737982\n",
       "13  0.656587\n",
       "2    3.97106"
      ]
     },
     "execution_count": 40,
     "metadata": {},
     "output_type": "execute_result"
    }
   ],
   "source": [
    "df_sn.loc[select_columns]"
   ]
  },
  {
   "cell_type": "code",
   "execution_count": null,
   "metadata": {},
   "outputs": [
    {
     "data": {
      "text/plain": [
       "array([[0.19508443552654312],\n",
       "       [0.23044636152888157],\n",
       "       [0.2906184784888307],\n",
       "       [0.040273739076915734],\n",
       "       [0.24357698537882888]], dtype=object)"
      ]
     },
     "execution_count": 41,
     "metadata": {},
     "output_type": "execute_result"
    }
   ],
   "source": [
    "weight = (df_sn[df_sn['SN比'] > 0] / df_sn[df_sn['SN比'] > 0].sum()).values\n",
    "weight"
   ]
  },
  {
   "cell_type": "code",
   "execution_count": null,
   "metadata": {},
   "outputs": [],
   "source": [
    "weight[0] = weight[0] * 2 + 5"
   ]
  },
  {
   "cell_type": "code",
   "execution_count": null,
   "metadata": {},
   "outputs": [
    {
     "data": {
      "text/plain": [
       "array([[5.390168871053087],\n",
       "       [0.23044636152888157],\n",
       "       [0.2906184784888307],\n",
       "       [0.040273739076915734],\n",
       "       [0.24357698537882888]], dtype=object)"
      ]
     },
     "execution_count": 43,
     "metadata": {},
     "output_type": "execute_result"
    }
   ],
   "source": [
    "weight"
   ]
  },
  {
   "cell_type": "code",
   "execution_count": null,
   "metadata": {},
   "outputs": [
    {
     "data": {
      "text/plain": [
       "array([15.780337742106173], dtype=object)"
      ]
     },
     "execution_count": 44,
     "metadata": {},
     "output_type": "execute_result"
    }
   ],
   "source": [
    "weight[0] * 2 + 5"
   ]
  },
  {
   "cell_type": "code",
   "execution_count": null,
   "metadata": {},
   "outputs": [
    {
     "data": {
      "text/plain": [
       "Int64Index([5, 10, 14, 13, 2], dtype='int64')"
      ]
     },
     "execution_count": 45,
     "metadata": {},
     "output_type": "execute_result"
    }
   ],
   "source": [
    "select_columns"
   ]
  },
  {
   "cell_type": "markdown",
   "metadata": {},
   "source": [
    "## このSN比を重みとして加重マハラノビス距離を計算する"
   ]
  },
  {
   "cell_type": "code",
   "execution_count": null,
   "metadata": {},
   "outputs": [
    {
     "name": "stderr",
     "output_type": "stream",
     "text": [
      "<ipython-input-46-3d78827ea5f0>:2: UserWarning: Boolean Series key will be reindexed to match DataFrame index.\n",
      "  result_scaler.fit(X_train[select_columns][y == 0])\n",
      "<ipython-input-46-3d78827ea5f0>:3: UserWarning: Boolean Series key will be reindexed to match DataFrame index.\n",
      "  result_Z = result_scaler.transform(X_train[select_columns][y == 0])\n"
     ]
    },
    {
     "data": {
      "text/plain": [
       "array([[-1.14824355, -0.5155805 , -0.94884703, -0.44846422, -2.1298689 ],\n",
       "       [ 0.21215746, -0.91363479, -0.28023823, -0.44846422, -0.01223632],\n",
       "       [ 0.66562446,  1.07663663, -1.61745583,  0.39931897,  0.8953205 ],\n",
       "       ...,\n",
       "       [ 2.02602547, -0.91363479, -0.28023823,  2.09488534,  0.29028262],\n",
       "       [-1.14824355, -0.5155805 , -0.28023823, -0.44846422, -1.22231208],\n",
       "       [-1.14824355, -0.5155805 , -0.28023823, -1.29624741,  0.8953205 ]])"
      ]
     },
     "execution_count": 46,
     "metadata": {},
     "output_type": "execute_result"
    }
   ],
   "source": [
    "result_scaler = StandardScaler()\n",
    "result_scaler.fit(X_train[select_columns][y == 0])\n",
    "result_Z = result_scaler.transform(X_train[select_columns][y == 0])\n",
    "result_Z"
   ]
  },
  {
   "cell_type": "code",
   "execution_count": null,
   "metadata": {},
   "outputs": [
    {
     "data": {
      "text/plain": [
       "array([[5.390168871053087],\n",
       "       [0.23044636152888157],\n",
       "       [0.2906184784888307],\n",
       "       [0.040273739076915734],\n",
       "       [0.24357698537882888]], dtype=object)"
      ]
     },
     "execution_count": 47,
     "metadata": {},
     "output_type": "execute_result"
    }
   ],
   "source": [
    "weight"
   ]
  },
  {
   "cell_type": "code",
   "execution_count": null,
   "metadata": {},
   "outputs": [
    {
     "data": {
      "text/plain": [
       "array([10.73647859,  2.90167245,  3.14508558, ...,  2.17492582,\n",
       "        2.96060483,  2.60504555])"
      ]
     },
     "execution_count": 48,
     "metadata": {},
     "output_type": "execute_result"
    }
   ],
   "source": [
    "#グラムシュミット法による加重マハラノビス汎距離\n",
    "def weighted_gram_schmidt_cal_MD(Z, weight, ips):\n",
    "    '''\n",
    "    Z:標準化したベクトル\n",
    "    '''\n",
    "    gram_vec, _ = np.linalg.qr(Z)\n",
    "    k = gram_vec.shape[1]\n",
    "    MD = np.zeros(len(Z))\n",
    "    \n",
    "    for i, one_gram_vec in enumerate(gram_vec):\n",
    "        _MD = 0\n",
    "        for q, u in enumerate(one_gram_vec):\n",
    "            _MD += weight[q] * (u**2 / ips[q])\n",
    "        _MD = _MD / k\n",
    "        MD[i] = _MD\n",
    "    return MD\n",
    "Z = result_scaler.transform(X_test[select_columns])\n",
    "MD = weighted_gram_schmidt_cal_MD(Z, weight, normal_ips)\n",
    "MD"
   ]
  },
  {
   "cell_type": "code",
   "execution_count": null,
   "metadata": {},
   "outputs": [],
   "source": []
  },
  {
   "cell_type": "code",
   "execution_count": null,
   "metadata": {},
   "outputs": [
    {
     "name": "stdout",
     "output_type": "stream",
     "text": [
      "0.5420499930636176\n",
      "0.5439766645492446\n"
     ]
    }
   ],
   "source": [
    "from sklearn.metrics import roc_auc_score\n",
    "print(roc_auc_score(y_test.values, weighted_gram_schmidt_cal_MD(Z, weight, normal_ips)))\n",
    "print(roc_auc_score(y_test.values, gram_schmidt_cal_MD(Z, normal_ips)))"
   ]
  },
  {
   "cell_type": "code",
   "execution_count": null,
   "metadata": {},
   "outputs": [],
   "source": []
  },
  {
   "cell_type": "code",
   "execution_count": null,
   "metadata": {},
   "outputs": [],
   "source": [
    "from sklearn.linear_model import LogisticRegression\n",
    "from sklearn.metrics import confusion_matrix"
   ]
  },
  {
   "cell_type": "code",
   "execution_count": null,
   "metadata": {},
   "outputs": [
    {
     "data": {
      "text/plain": [
       "0.8606407757065982"
      ]
     },
     "execution_count": 51,
     "metadata": {},
     "output_type": "execute_result"
    }
   ],
   "source": [
    "clf = LogisticRegression(solver=\"liblinear\", random_state=0).fit(use_X, y)\n",
    "roc_auc_score(y_test, clf.predict_proba(X_test)[:, 1])"
   ]
  },
  {
   "cell_type": "code",
   "execution_count": null,
   "metadata": {},
   "outputs": [
    {
     "data": {
      "text/plain": [
       "array([[3847,   11],\n",
       "       [ 136,    6]], dtype=int64)"
      ]
     },
     "execution_count": 52,
     "metadata": {},
     "output_type": "execute_result"
    }
   ],
   "source": [
    "confusion_matrix(y_test, clf.predict(X_test))"
   ]
  },
  {
   "cell_type": "code",
   "execution_count": null,
   "metadata": {},
   "outputs": [],
   "source": []
  },
  {
   "cell_type": "code",
   "execution_count": null,
   "metadata": {},
   "outputs": [],
   "source": []
  },
  {
   "cell_type": "code",
   "execution_count": null,
   "metadata": {},
   "outputs": [],
   "source": []
  },
  {
   "cell_type": "code",
   "execution_count": null,
   "metadata": {},
   "outputs": [],
   "source": []
  },
  {
   "cell_type": "code",
   "execution_count": null,
   "metadata": {},
   "outputs": [],
   "source": []
  },
  {
   "cell_type": "code",
   "execution_count": null,
   "metadata": {},
   "outputs": [],
   "source": []
  },
  {
   "cell_type": "code",
   "execution_count": null,
   "metadata": {},
   "outputs": [],
   "source": []
  },
  {
   "cell_type": "code",
   "execution_count": null,
   "metadata": {},
   "outputs": [],
   "source": []
  },
  {
   "cell_type": "code",
   "execution_count": null,
   "metadata": {},
   "outputs": [],
   "source": []
  },
  {
   "cell_type": "code",
   "execution_count": null,
   "metadata": {},
   "outputs": [],
   "source": []
  },
  {
   "cell_type": "code",
   "execution_count": null,
   "metadata": {},
   "outputs": [],
   "source": []
  },
  {
   "cell_type": "code",
   "execution_count": null,
   "metadata": {},
   "outputs": [],
   "source": []
  }
 ],
 "metadata": {
  "interpreter": {
   "hash": "c7e6621f5c0e725993c5f5dd1734f3da8dc8c958ed2c46496e37b878d46070df"
  },
  "kernelspec": {
   "display_name": "Python 3.8.10 64-bit ('convenient': conda)",
   "language": "python",
   "name": "python3"
  },
  "language_info": {
   "codemirror_mode": {
    "name": "ipython",
    "version": 3
   },
   "file_extension": ".py",
   "mimetype": "text/x-python",
   "name": "python",
   "nbconvert_exporter": "python",
   "pygments_lexer": "ipython3",
   "version": "3.8.10"
  },
  "orig_nbformat": 4
 },
 "nbformat": 4,
 "nbformat_minor": 2
}
