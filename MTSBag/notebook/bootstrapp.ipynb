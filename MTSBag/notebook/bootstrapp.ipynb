{
 "cells": [
  {
   "cell_type": "code",
   "execution_count": 3,
   "metadata": {},
   "outputs": [],
   "source": [
    "from sklearn.utils import resample\n",
    "import pandas as pd"
   ]
  },
  {
   "cell_type": "code",
   "execution_count": 11,
   "metadata": {},
   "outputs": [],
   "source": [
    "n_estimators = 10\n",
    "max_samples = 0.5"
   ]
  },
  {
   "cell_type": "code",
   "execution_count": 13,
   "metadata": {},
   "outputs": [],
   "source": [
    "df = pd.read_csv('../data/letter_recognition.csv', header=None)\n",
    "\n",
    "#Aのみを判定するため，Aを１，A以外を0にした．\n",
    "df[0] = df[0].apply(lambda x: 0 if x == 'A' else 1)\n",
    "\n",
    "#Xとyを入力\n",
    "X = df[range(1,17)]\n",
    "y = df[0]\n",
    "\n",
    "# K:再標本化の回数 SIZE:再標本化されたもののサンプルサイズ\n",
    "K = n_estimators\n",
    "SIZE = int(len(X) * max_samples)\n",
    "\n",
    "sub_X = []\n",
    "sub_y = []\n",
    "# bootstrap sampling\n",
    "for i in range(K):\n",
    "    resampled_data_x, resampled_data_y = resample(X,y, \n",
    "                                                   n_samples = SIZE)\n",
    "    sub_X.append(resampled_data_x)\n",
    "    sub_y.append(resampled_data_y)"
   ]
  },
  {
   "cell_type": "code",
   "execution_count": 14,
   "metadata": {},
   "outputs": [
    {
     "data": {
      "text/plain": [
       "8097     1\n",
       "16110    1\n",
       "14475    1\n",
       "1597     1\n",
       "16927    1\n",
       "        ..\n",
       "3577     1\n",
       "18133    1\n",
       "10788    1\n",
       "7783     1\n",
       "7738     1\n",
       "Name: 0, Length: 10000, dtype: int64"
      ]
     },
     "execution_count": 14,
     "metadata": {},
     "output_type": "execute_result"
    }
   ],
   "source": [
    "sub_y[0]"
   ]
  },
  {
   "cell_type": "code",
   "execution_count": null,
   "metadata": {},
   "outputs": [],
   "source": []
  }
 ],
 "metadata": {
  "interpreter": {
   "hash": "c7e6621f5c0e725993c5f5dd1734f3da8dc8c958ed2c46496e37b878d46070df"
  },
  "kernelspec": {
   "display_name": "Python 3.8.10 64-bit ('convenient': conda)",
   "language": "python",
   "name": "python3"
  },
  "language_info": {
   "codemirror_mode": {
    "name": "ipython",
    "version": 3
   },
   "file_extension": ".py",
   "mimetype": "text/x-python",
   "name": "python",
   "nbconvert_exporter": "python",
   "pygments_lexer": "ipython3",
   "version": "3.8.10"
  },
  "orig_nbformat": 4
 },
 "nbformat": 4,
 "nbformat_minor": 2
}
