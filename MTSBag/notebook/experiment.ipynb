{
 "cells": [
  {
   "cell_type": "code",
   "execution_count": 6,
   "metadata": {},
   "outputs": [],
   "source": [
    "import pandas as pd\n",
    "import numpy as np\n",
    "\n",
    "import math\n",
    "import random\n",
    "from tqdm import tqdm\n",
    "from sklearn.utils import resample\n",
    "\n",
    "from sklearn.preprocessing import StandardScaler\n",
    "from sklearn.preprocessing import scale\n",
    "\n",
    "from sklearn.model_selection import train_test_split\n",
    "from sklearn.metrics import roc_auc_score\n",
    "from sklearn.metrics import accuracy_score\n",
    "from sklearn.metrics import precision_score\n",
    "from sklearn.metrics import recall_score\n",
    "from sklearn.metrics import confusion_matrix\n",
    "\n",
    "\n",
    "import tensorflow as tf\n"
   ]
  },
  {
   "cell_type": "markdown",
   "metadata": {},
   "source": [
    "## 変数が7個以下の時エラー出る"
   ]
  },
  {
   "cell_type": "markdown",
   "metadata": {},
   "source": [
    "# データロード"
   ]
  },
  {
   "cell_type": "code",
   "execution_count": 7,
   "metadata": {},
   "outputs": [],
   "source": [
    "n_experiment = 10\n",
    "data_list = ['yeast', 'wine', 'abalone', 'car', 'cancer', 'letter']\n",
    "\n",
    "def data_load(select_data):\n",
    "    if select_data == 'letter':\n",
    "        # データの取得\n",
    "        df = pd.read_csv('../data/letter_recognition.csv', header=None)\n",
    "\n",
    "        # Aのみを判定するため，Aを0，A以外を1にした．\n",
    "        # 少数派のAを正常，その他を異常データと定義\n",
    "        df[0] = df[0].apply(lambda x: 0 if x == 'A' else 1)\n",
    "\n",
    "        #Xとyを入力\n",
    "        X = df[range(1,17)]\n",
    "        y = df[0]\n",
    "\n",
    "    elif select_data == 'wine':\n",
    "\n",
    "        dataset_url = \"https://archive.ics.uci.edu/ml/machine-learning-databases/wine/wine.data\"\n",
    "\n",
    "        # ファイルのダウンロード\n",
    "        dataset_path = tf.keras.utils.get_file('wine.data', dataset_url)\n",
    "\n",
    "        # print(dataset_path)\n",
    "\n",
    "        column_names = ['Alcohol',\n",
    "        'Malic acid',\n",
    "        'Ash',\n",
    "        'Alcalinity of ash',\n",
    "        'Magnesium',\n",
    "        'Total phenols',\n",
    "        'Flavanoids',\n",
    "        'Nonflavanoid phenols',\n",
    "        'Proanthocyanins',\n",
    "        'Color intensity',\n",
    "        'Hue',\n",
    "        'OD280/OD315 of diluted wines',\n",
    "        'Proline' \n",
    "        ]\n",
    "\n",
    "        raw_data = pd.read_csv(dataset_path, names=column_names)\n",
    "        raw_data['y'] = raw_data.index\n",
    "        raw_data = raw_data.reset_index(drop=True)\n",
    "\n",
    "        raw_data['y'] = raw_data['y'].apply(lambda x: 0 if x == 3 else 1)\n",
    "\n",
    "        X = raw_data.drop('y', axis=1)\n",
    "        y = raw_data['y']\n",
    "    \n",
    "    elif select_data == 'abalone':\n",
    "\n",
    "        dataset_url = \"https://archive.ics.uci.edu/ml/machine-learning-databases/abalone/abalone.data\"\n",
    "\n",
    "        # ファイルのダウンロード\n",
    "        dataset_path = tf.keras.utils.get_file('abalone.data', dataset_url)\n",
    "\n",
    "        # print(dataset_path)\n",
    "\n",
    "        raw_data = pd.read_csv(dataset_path, names=range(8)).reset_index(drop=True)\n",
    "\n",
    "        raw_data[7] = raw_data[7].apply(lambda x: 1 if x > 4 else 0)\n",
    "\n",
    "\n",
    "        X = raw_data.drop(7, axis=1)\n",
    "        y = raw_data[7]\n",
    "        \n",
    "    elif select_data == 'car':\n",
    "        dataset_url = \"https://archive.ics.uci.edu/ml/machine-learning-databases/car/car.data\"\n",
    "\n",
    "        # ファイルのダウンロード\n",
    "        dataset_path = tf.keras.utils.get_file('car.data', dataset_url)\n",
    "\n",
    "        # print(dataset_path)\n",
    "\n",
    "        raw_data = pd.read_csv(dataset_path, names=range(7))\n",
    "        # .reset_index(drop=True)\n",
    "\n",
    "        trans_dict1 = {'vhigh':3, 'high':2, 'med':1, 'low':0}\n",
    "        trans_dict2 = {'big':2, 'med':1, 'small':0}\n",
    "        trans_dict3 = {'high':2, 'med':1, 'low':0}\n",
    "\n",
    "\n",
    "        raw_data[0] = raw_data[0].apply(lambda x: trans_dict1[x])\n",
    "        raw_data[1] = raw_data[1].apply(lambda x: trans_dict1[x])\n",
    "        raw_data[2] = raw_data[2].apply(lambda x: 5 if x == '5more' else int(x))\n",
    "        raw_data[3] = raw_data[3].apply(lambda x: 6 if x == 'more' else int(x))\n",
    "        raw_data[4] = raw_data[4].apply(lambda x: trans_dict2[x])\n",
    "        raw_data[5] = raw_data[5].apply(lambda x: trans_dict3[x])\n",
    "        raw_data[6] = raw_data[6].apply(lambda x: 0 if x == 'good' else 1)\n",
    "        raw_data[7] = np.random.randint(0, 10, len(raw_data))\n",
    "\n",
    "\n",
    "        X = raw_data.drop(6, axis=1)\n",
    "        y = raw_data[6]\n",
    "\n",
    "    elif select_data == 'yeast':\n",
    "        raw_data = pd.read_csv('../data/yeast.csv', names=range(9)).reset_index(drop=True)\n",
    "\n",
    "        raw_data[8] = raw_data[8].apply(lambda x: 0 if x == 'ME2' else 1)\n",
    "\n",
    "        X = raw_data.drop(8, axis=1)\n",
    "        y = raw_data[8]\n",
    "\n",
    "    elif select_data == 'cancer':\n",
    "        dataset_url = \"https://archive.ics.uci.edu/ml/machine-learning-databases/breast-cancer-wisconsin/breast-cancer-wisconsin.data\"\n",
    "\n",
    "        # ファイルのダウンロード\n",
    "        dataset_path = tf.keras.utils.get_file('breast-cancer-wisconsin.data', dataset_url)\n",
    "\n",
    "        # print(dataset_path)\n",
    "\n",
    "        raw_data = pd.read_csv(dataset_path,\n",
    "        names=range(10)\n",
    "        ).reset_index(drop=True)\n",
    "\n",
    "        raw_data[5] = raw_data[5].apply(lambda x: 0 if x == '?' else int(x))\n",
    "        raw_data[9] = raw_data[9].apply(lambda x: 0 if x == 4 else 1)\n",
    "\n",
    "\n",
    "        X = raw_data.drop(9, axis=1)\n",
    "        y = raw_data[9]\n",
    "\n",
    "    else:\n",
    "        print('そのデータはありません')\n",
    "    \n",
    "    return X, y"
   ]
  },
  {
   "cell_type": "markdown",
   "metadata": {},
   "source": [
    "# 関数定義"
   ]
  },
  {
   "cell_type": "code",
   "execution_count": 8,
   "metadata": {},
   "outputs": [],
   "source": [
    " # 必要な関数の定義\n",
    "\n",
    "# 共分散行列の逆行列\n",
    "def inv_cov(Z):\n",
    "    #標準化後のベクトルを入力する\n",
    "    #標準化した後なので相関行列と分散共分散行列は一致する\n",
    "    c = np.cov(Z.T)\n",
    "    return np.linalg.pinv(c)\n",
    "\n",
    "#マハラノビス汎距離\n",
    "def cal_MD(Z, inv_C):\n",
    "    '''\n",
    "    Z:標準化したベクトル\n",
    "    inv_C:標準化後の共分散行列\n",
    "    '''\n",
    "    MD = np.zeros(len(Z))\n",
    "    for i in range(len(Z)):\n",
    "        _a = np.dot(Z[i], inv_C)\n",
    "        _MD = np.dot(_a, Z[i].T)\n",
    "        _MD = _MD / Z.shape[1]\n",
    "        MD[i] = _MD\n",
    "    return MD\n",
    "\n",
    "# MTSを実行\n",
    "def fit_MTS(X, y):\n",
    "    \n",
    "    # 正常データのみを使用して標準化\n",
    "    scaler = StandardScaler()\n",
    "    scaler.fit(X[y == 0])\n",
    "    normal_Z = scaler.transform(X[y == 0])\n",
    "    anomaly_Z = scaler.transform(X[y == 1])\n",
    "\n",
    "    # 正常データのみを使用して共分散行列を計算\n",
    "    inv_C = inv_cov(normal_Z)\n",
    "\n",
    "    # いったん飛ばす，削除の基準は？削除しない方法もあるっぽい？\n",
    "        #１度目の仮のマハラノビス距離を計算\n",
    "        # MD_1st = cal_MD(normal_Z, inv_C)\n",
    "        # もしもマハラノビス距離が余りにも大きいサンプルがあれば任意で削除する\n",
    "        # 削除後のデータを使用して標準化と共分散行列を計算\n",
    "\n",
    "    # 異常データと直交表を用いてSN比を計算\n",
    "    #L8直行表\n",
    "    l8 = np.array([\n",
    "        [1,1,1,1,1,1,1],\n",
    "        [1,1,1,2,2,2,2],\n",
    "        [1,2,2,1,1,2,2],\n",
    "        [1,2,2,2,2,1,1],\n",
    "        [2,1,2,1,2,1,2],\n",
    "        [2,1,2,2,1,2,1],\n",
    "        [2,2,1,1,2,2,1],\n",
    "        [2,2,1,2,1,1,2]\n",
    "        ])\n",
    "    l8 = (l8 == 1)\n",
    "\n",
    "    #異常データのマハラノビス距離\n",
    "    result = np.zeros((l8.shape[0], anomaly_Z.shape[0]))\n",
    "    for i, l8_row in enumerate(l8):\n",
    "        result[i] = cal_MD(anomaly_Z[:, l8_row], inv_C[l8_row][:,l8_row])\n",
    "\n",
    "    #SN比\n",
    "    sn = np.zeros(l8.shape[0])\n",
    "    for idx, row in enumerate(result):\n",
    "        sum_MD = 0\n",
    "        for i in range(len(row)):\n",
    "            sum_MD += 1 / row[i]\n",
    "        sn[idx] = -10 * math.log10(sum_MD / len(row))\n",
    "        \n",
    "    # SN比を利用し，不要と思われる変数を削除する\n",
    "    #変数選択\n",
    "    df_sn = pd.DataFrame(index=X.columns, columns=['SN比','残す'])\n",
    "    for i, clm in enumerate(X.columns):\n",
    "        df_sn.loc[df_sn.index == clm, 'SN比'] = sum(sn[l8.T[i]]) - sum(sn[~l8.T[i]])\n",
    "        df_sn.loc[df_sn.index == clm, '残す'] = sum(sn[l8.T[i]]) - sum(sn[~l8.T[i]]) > 0\n",
    "    #使用した変数を保存\n",
    "    select_columns = df_sn[df_sn['残す']].index\n",
    "    \n",
    "    if len(select_columns) > 1:\n",
    "        # 選択変数でのスケーラーと共分散行列を計算\n",
    "        result_scaler = StandardScaler()\n",
    "        result_scaler.fit(X[select_columns][y == 0])\n",
    "        result_Z = result_scaler.transform(X[select_columns][y == 0])\n",
    "        result_inv_C = inv_cov(result_Z)\n",
    "    else:\n",
    "        select_columns = df_sn['SN比'].astype(float).idxmax()\n",
    "        result_scaler = 0\n",
    "        result_inv_C = 0\n",
    "\n",
    "    # 単位空間のスケーラーと共分散行列と選択した変数を出力\n",
    "    return result_scaler, result_inv_C, select_columns\n",
    "\n",
    "# 新しいデータのマハラノビス距離を計算する\n",
    "def predict_MTS(X, scaler, inv_C, select_columns):\n",
    "    Z = scaler.transform(X[select_columns])\n",
    "    MD = cal_MD(Z, inv_C)\n",
    "    return MD\n",
    "\n",
    "# 閾値をジニ係数が最小になるように決定する\n",
    "def determine_threshold(y_true, y_pred):\n",
    "    df_pred = pd.DataFrame(y_true)\n",
    "    df_pred['pred'] = y_pred\n",
    "    df_pred = df_pred.sort_values('pred').reset_index(drop=True)\n",
    "\n",
    "    min_gini = np.inf\n",
    "    threshold = 0\n",
    "    for i in range(len(df_pred)):\n",
    "        \n",
    "        neg = df_pred.iloc[:i+1]\n",
    "        pos = df_pred.iloc[i:]\n",
    "\n",
    "        p_neg = sum(neg[y_true.name]) / len(neg)\n",
    "        gini_neg = 1 - ( p_neg ** 2 + ( 1 - p_neg ) ** 2 )\n",
    "\n",
    "        p_pos = sum(pos[y_true.name]) / len(pos)\n",
    "        gini_pos = 1 - ( p_pos ** 2 + ( 1 - p_pos ) ** 2 )\n",
    "\n",
    "        gini_split = (len(neg) / len(df_pred) * gini_neg) + (len(pos) / len(df_pred) * gini_pos)\n",
    "\n",
    "        if min_gini > gini_split:\n",
    "            min_gini = gini_split\n",
    "            threshold = df_pred.iloc[i]['pred']\n",
    "            threshold_idx = i\n",
    "\n",
    "    return threshold\n",
    "\n",
    "def predict_MTSBag(X, scaler, inv_C, select_columns, threshold):\n",
    "    result = np.ndarray((K, len(X_test)), dtype=bool)\n",
    "    for i in range(K):\n",
    "        if scaler[i] != 0:\n",
    "            Z = scaler[i].transform(X[select_columns[i]])\n",
    "            MD = cal_MD(Z, inv_C[i])\n",
    "            result[i] = MD > threshold[i]\n",
    "        else:\n",
    "            result[i] = X[select_columns[i]] > threshold[i]\n",
    "    return result.sum(axis=0) / K, result.sum(axis=0) > (K/2)\n",
    "\n",
    "def make_result_df(result_df, y_test, y_pred, y_proba):\n",
    "    cm = confusion_matrix(y_test, y_pred)\n",
    "    TP, FN, FP, TN = cm.flatten()\n",
    "    result_df['AUC'][m] = roc_auc_score(y_test, y_proba)\n",
    "    result_df['accuracy'][m] = (TP + TN ) / (TP + FP + TN + FN)\n",
    "    result_df['recall'][m] = TP / (TP + FN)\n",
    "    result_df['precision'][m] = TP / (TP + FP)\n",
    "    result_df['Specificity'][m] = TN / (TN + FP)\n",
    "    result_df['gmeans'][m] = np.sqrt((TN / (TN + FP)) * (TP / (TP + FN)))\n",
    "    result_df['RS'][m] = (TP / (TP + FN)) / (TN / (TN + FP))\n",
    "    return result_df"
   ]
  },
  {
   "cell_type": "markdown",
   "metadata": {},
   "source": [
    "# MTS"
   ]
  },
  {
   "cell_type": "code",
   "execution_count": 9,
   "metadata": {},
   "outputs": [
    {
     "name": "stdout",
     "output_type": "stream",
     "text": [
      "yeast\n"
     ]
    },
    {
     "name": "stderr",
     "output_type": "stream",
     "text": [
      "100%|██████████| 10/10 [00:03<00:00,  2.88it/s]\n"
     ]
    },
    {
     "name": "stdout",
     "output_type": "stream",
     "text": [
      "wine\n"
     ]
    },
    {
     "name": "stderr",
     "output_type": "stream",
     "text": [
      "100%|██████████| 10/10 [00:00<00:00, 19.01it/s]\n"
     ]
    },
    {
     "name": "stdout",
     "output_type": "stream",
     "text": [
      "abalone\n"
     ]
    },
    {
     "name": "stderr",
     "output_type": "stream",
     "text": [
      "100%|██████████| 10/10 [00:14<00:00,  1.45s/it]\n"
     ]
    },
    {
     "name": "stdout",
     "output_type": "stream",
     "text": [
      "car\n"
     ]
    },
    {
     "name": "stderr",
     "output_type": "stream",
     "text": [
      "100%|██████████| 10/10 [00:04<00:00,  2.31it/s]\n"
     ]
    },
    {
     "name": "stdout",
     "output_type": "stream",
     "text": [
      "cancer\n"
     ]
    },
    {
     "name": "stderr",
     "output_type": "stream",
     "text": [
      " 60%|██████    | 6/10 [00:01<00:00,  5.89it/s]<ipython-input-8-dca1c1d64527>:146: RuntimeWarning: divide by zero encountered in double_scalars\n",
      "  result_df['RS'][m] = (TP / (TP + FN)) / (TN / (TN + FP))\n",
      "100%|██████████| 10/10 [00:01<00:00,  5.93it/s]\n"
     ]
    },
    {
     "name": "stdout",
     "output_type": "stream",
     "text": [
      "letter\n"
     ]
    },
    {
     "name": "stderr",
     "output_type": "stream",
     "text": [
      "100%|██████████| 10/10 [03:31<00:00, 21.20s/it]\n"
     ]
    }
   ],
   "source": [
    "\n",
    "for data in data_list:\n",
    "    print(data)\n",
    "    result_df = pd.DataFrame(\n",
    "                        columns=['AUC', 'accuracy', 'recall', 'Specificity', 'precision', 'gmeans', 'RS'],\n",
    "                        index=range(n_experiment))\n",
    "    for m in tqdm(range(n_experiment)):\n",
    "        \n",
    "        X, y = data_load(data)\n",
    "\n",
    "        # バギング側の話\n",
    "        # ブートストラップサンプリングの個数\n",
    "        n = 10\n",
    "        seed = random.randint(0, n)\n",
    "\n",
    "        # 使用する7つの変数をランダムに取得する\n",
    "        # バギングをする際はそれぞれのサブサンプルで7つの変数を選択する．\n",
    "        random.seed(seed)\n",
    "        random_s = random.sample(list(X.columns), len(X.columns) if len(X.columns) < 7 else 7)\n",
    "        X = X[random_s]\n",
    "\n",
    "        X_train, X_test, y_train, y_test = train_test_split(X, y, test_size=0.2)\n",
    "\n",
    "        result_scaler, result_inv_C, select_columns = fit_MTS(X_train, y_train)\n",
    "\n",
    "        if result_scaler != 0:\n",
    "            y_train_pred = predict_MTS(X_train, result_scaler, result_inv_C, select_columns)\n",
    "        else:\n",
    "            y_train_pred = X_train[select_columns]\n",
    "            \n",
    "        threshold = determine_threshold(y_train, y_train_pred)\n",
    "    \n",
    "        if result_scaler != 0:\n",
    "            Z = result_scaler.transform(X_test[select_columns])\n",
    "            MD = cal_MD(Z, result_inv_C)\n",
    "            y_pred = MD > threshold\n",
    "            y_proba = MD\n",
    "        else:\n",
    "            y_pred = X_test[select_columns] > threshold\n",
    "            y_proba = X_test[select_columns]\n",
    "\n",
    "        result_df = make_result_df(result_df, y_test, y_pred, y_proba)\n",
    "        \n",
    "    result_df.to_csv(f'../data/MTS_{data}_result.csv')\n",
    "\n"
   ]
  },
  {
   "cell_type": "markdown",
   "metadata": {},
   "source": [
    "# MTSBag"
   ]
  },
  {
   "cell_type": "code",
   "execution_count": 10,
   "metadata": {},
   "outputs": [
    {
     "name": "stdout",
     "output_type": "stream",
     "text": [
      "yeast\n"
     ]
    },
    {
     "name": "stderr",
     "output_type": "stream",
     "text": [
      "100%|██████████| 10/10 [00:01<00:00,  5.01it/s]\n",
      " 10%|█         | 1/10 [00:02<00:18,  2.03s/it]<ipython-input-8-dca1c1d64527>:66: RuntimeWarning: divide by zero encountered in double_scalars\n",
      "  sum_MD += 1 / row[i]\n",
      "100%|██████████| 10/10 [00:01<00:00,  5.05it/s]\n",
      "100%|██████████| 10/10 [00:01<00:00,  5.02it/s]\n",
      " 30%|███       | 3/10 [00:06<00:14,  2.02s/it]<ipython-input-8-dca1c1d64527>:66: RuntimeWarning: divide by zero encountered in double_scalars\n",
      "  sum_MD += 1 / row[i]\n",
      "100%|██████████| 10/10 [00:02<00:00,  4.99it/s]\n",
      " 40%|████      | 4/10 [00:08<00:12,  2.03s/it]<ipython-input-8-dca1c1d64527>:66: RuntimeWarning: divide by zero encountered in double_scalars\n",
      "  sum_MD += 1 / row[i]\n",
      "100%|██████████| 10/10 [00:01<00:00,  5.07it/s]\n",
      "100%|██████████| 10/10 [00:01<00:00,  5.06it/s]\n",
      "100%|██████████| 10/10 [00:01<00:00,  5.10it/s]\n",
      "100%|██████████| 10/10 [00:01<00:00,  5.13it/s]\n",
      "100%|██████████| 10/10 [00:01<00:00,  5.11it/s]\n",
      "100%|██████████| 10/10 [00:01<00:00,  5.12it/s]\n",
      "100%|██████████| 10/10 [00:20<00:00,  2.01s/it]\n"
     ]
    },
    {
     "name": "stdout",
     "output_type": "stream",
     "text": [
      "wine\n"
     ]
    },
    {
     "name": "stderr",
     "output_type": "stream",
     "text": [
      "100%|██████████| 10/10 [00:00<00:00, 28.30it/s]\n",
      "100%|██████████| 10/10 [00:00<00:00, 27.82it/s]\n",
      "100%|██████████| 10/10 [00:00<00:00, 27.25it/s]\n",
      "100%|██████████| 10/10 [00:00<00:00, 27.56it/s]\n",
      "100%|██████████| 10/10 [00:00<00:00, 28.15it/s]\n",
      "100%|██████████| 10/10 [00:00<00:00, 27.80it/s]\n",
      "100%|██████████| 10/10 [00:00<00:00, 28.35it/s]\n",
      "100%|██████████| 10/10 [00:00<00:00, 27.01it/s]\n",
      "100%|██████████| 10/10 [00:00<00:00, 27.07it/s]\n",
      "100%|██████████| 10/10 [00:00<00:00, 28.62it/s]\n",
      "100%|██████████| 10/10 [00:03<00:00,  2.59it/s]\n"
     ]
    },
    {
     "name": "stdout",
     "output_type": "stream",
     "text": [
      "abalone\n"
     ]
    },
    {
     "name": "stderr",
     "output_type": "stream",
     "text": [
      "100%|██████████| 10/10 [00:07<00:00,  1.36it/s]\n",
      "100%|██████████| 10/10 [00:07<00:00,  1.37it/s]\n",
      "100%|██████████| 10/10 [00:07<00:00,  1.37it/s]\n",
      "100%|██████████| 10/10 [00:07<00:00,  1.37it/s]\n",
      "100%|██████████| 10/10 [00:07<00:00,  1.37it/s]\n",
      "100%|██████████| 10/10 [00:07<00:00,  1.37it/s]\n",
      "100%|██████████| 10/10 [00:07<00:00,  1.37it/s]\n",
      "100%|██████████| 10/10 [00:07<00:00,  1.37it/s]\n",
      "100%|██████████| 10/10 [00:07<00:00,  1.36it/s]\n",
      "100%|██████████| 10/10 [00:07<00:00,  1.36it/s]\n",
      "100%|██████████| 10/10 [01:13<00:00,  7.34s/it]\n"
     ]
    },
    {
     "name": "stdout",
     "output_type": "stream",
     "text": [
      "car\n"
     ]
    },
    {
     "name": "stderr",
     "output_type": "stream",
     "text": [
      "100%|██████████| 10/10 [00:02<00:00,  4.12it/s]\n",
      "100%|██████████| 10/10 [00:02<00:00,  4.16it/s]\n",
      "100%|██████████| 10/10 [00:02<00:00,  4.17it/s]\n",
      "100%|██████████| 10/10 [00:02<00:00,  4.13it/s]\n",
      "100%|██████████| 10/10 [00:02<00:00,  4.15it/s]\n",
      "100%|██████████| 10/10 [00:02<00:00,  4.16it/s]\n",
      "100%|██████████| 10/10 [00:02<00:00,  4.22it/s]\n",
      "100%|██████████| 10/10 [00:02<00:00,  4.15it/s]\n",
      "100%|██████████| 10/10 [00:02<00:00,  4.16it/s]\n",
      "100%|██████████| 10/10 [00:02<00:00,  4.16it/s]\n",
      "100%|██████████| 10/10 [00:24<00:00,  2.45s/it]\n"
     ]
    },
    {
     "name": "stdout",
     "output_type": "stream",
     "text": [
      "cancer\n"
     ]
    },
    {
     "name": "stderr",
     "output_type": "stream",
     "text": [
      "100%|██████████| 10/10 [00:01<00:00,  9.89it/s]\n",
      "100%|██████████| 10/10 [00:01<00:00,  9.58it/s]\n",
      "100%|██████████| 10/10 [00:01<00:00,  9.80it/s]\n",
      "100%|██████████| 10/10 [00:01<00:00,  9.64it/s]\n",
      "100%|██████████| 10/10 [00:01<00:00,  9.94it/s]\n",
      "100%|██████████| 10/10 [00:01<00:00,  9.57it/s]\n",
      "100%|██████████| 10/10 [00:01<00:00,  9.94it/s]\n",
      "100%|██████████| 10/10 [00:00<00:00, 10.18it/s]\n",
      "100%|██████████| 10/10 [00:01<00:00,  9.76it/s]\n",
      "100%|██████████| 10/10 [00:01<00:00,  9.93it/s]\n",
      "100%|██████████| 10/10 [00:10<00:00,  1.04s/it]\n"
     ]
    },
    {
     "name": "stdout",
     "output_type": "stream",
     "text": [
      "letter\n"
     ]
    },
    {
     "name": "stderr",
     "output_type": "stream",
     "text": [
      "100%|██████████| 10/10 [01:32<00:00,  9.25s/it]\n",
      "100%|██████████| 10/10 [01:31<00:00,  9.14s/it]\n",
      "100%|██████████| 10/10 [01:31<00:00,  9.16s/it]\n",
      "100%|██████████| 10/10 [01:32<00:00,  9.20s/it]\n",
      "100%|██████████| 10/10 [01:31<00:00,  9.11s/it]\n",
      "100%|██████████| 10/10 [01:29<00:00,  8.91s/it]\n",
      "100%|██████████| 10/10 [01:28<00:00,  8.88s/it]\n",
      "100%|██████████| 10/10 [01:31<00:00,  9.18s/it]\n",
      "100%|██████████| 10/10 [01:31<00:00,  9.17s/it]\n",
      "100%|██████████| 10/10 [01:31<00:00,  9.15s/it]\n",
      "100%|██████████| 10/10 [15:13<00:00, 91.33s/it]\n"
     ]
    }
   ],
   "source": [
    "\n",
    "for data in data_list:\n",
    "    print(data)\n",
    "    result_df = pd.DataFrame(\n",
    "                        columns=['AUC', 'accuracy', 'recall', 'Specificity', 'precision', 'gmeans', 'RS'],\n",
    "                        index=range(n_experiment))\n",
    "    for m in tqdm(range(n_experiment)):\n",
    "        \n",
    "        X, y = data_load(data)\n",
    "\n",
    "        # パラメータ\n",
    "        n_estimators = 10\n",
    "        max_samples = 0.5\n",
    "\n",
    "        X_train, X_test, y_train, y_test = train_test_split(X, y, test_size=0.2)\n",
    "\n",
    "        # 実行するところ\n",
    "\n",
    "        # K:再標本化の回数 SIZE:再標本化されたもののサンプルサイズ\n",
    "        K = n_estimators\n",
    "        SIZE = int(len(X) * max_samples)\n",
    "\n",
    "        # 予測に必要なパラメータ\n",
    "        select_columns = [0] * K\n",
    "        result_scaler = [0] * K\n",
    "        result_inv_C = [0] * K\n",
    "        threshold = [0] * K\n",
    "\n",
    "        for i in tqdm(range(K)):\n",
    "            # bootstrap sampling\n",
    "            resampled_data_x, resampled_data_y = resample(X_train, y_train, n_samples = SIZE)\n",
    "            random_s = random.sample(\n",
    "                list(resampled_data_x.columns), \n",
    "                len(resampled_data_x.columns) \n",
    "                if len(resampled_data_x.columns) < 7 \n",
    "                else 7\n",
    "                )\n",
    "            resampled_data_x = resampled_data_x[random_s]\n",
    "\n",
    "            result_scaler[i], result_inv_C[i], select_columns[i] = fit_MTS(resampled_data_x, resampled_data_y)\n",
    "\n",
    "            if result_scaler[i] != 0:\n",
    "                y_pred = predict_MTS(resampled_data_x, result_scaler[i], result_inv_C[i], select_columns[i])\n",
    "            else:\n",
    "                y_pred = resampled_data_x[select_columns[i]]\n",
    "\n",
    "            threshold[i] = determine_threshold(resampled_data_y, y_pred)\n",
    "            \n",
    "\n",
    "        y_proba, y_pred = predict_MTSBag(X_test, result_scaler, result_inv_C, select_columns, threshold)\n",
    "\n",
    "        result_df = make_result_df(result_df, y_test, y_pred, y_proba)\n",
    "        \n",
    "    result_df.to_csv(f'../data/MTS_{data}_result.csv')\n"
   ]
  },
  {
   "cell_type": "markdown",
   "metadata": {},
   "source": [
    "# SMOTEMTSBag"
   ]
  },
  {
   "cell_type": "code",
   "execution_count": 11,
   "metadata": {},
   "outputs": [
    {
     "name": "stdout",
     "output_type": "stream",
     "text": [
      "yeast\n"
     ]
    },
    {
     "name": "stderr",
     "output_type": "stream",
     "text": [
      "100%|██████████| 10/10 [00:24<00:00,  2.44s/it]\n"
     ]
    },
    {
     "name": "stdout",
     "output_type": "stream",
     "text": [
      "wine\n"
     ]
    },
    {
     "name": "stderr",
     "output_type": "stream",
     "text": [
      "100%|██████████| 10/10 [00:05<00:00,  1.93it/s]\n"
     ]
    },
    {
     "name": "stdout",
     "output_type": "stream",
     "text": [
      "abalone\n"
     ]
    },
    {
     "name": "stderr",
     "output_type": "stream",
     "text": [
      "100%|██████████| 10/10 [01:20<00:00,  8.07s/it]\n"
     ]
    },
    {
     "name": "stdout",
     "output_type": "stream",
     "text": [
      "car\n"
     ]
    },
    {
     "name": "stderr",
     "output_type": "stream",
     "text": [
      "100%|██████████| 10/10 [00:29<00:00,  2.92s/it]\n"
     ]
    },
    {
     "name": "stdout",
     "output_type": "stream",
     "text": [
      "cancer\n"
     ]
    },
    {
     "name": "stderr",
     "output_type": "stream",
     "text": [
      "100%|██████████| 10/10 [00:12<00:00,  1.23s/it]\n"
     ]
    },
    {
     "name": "stdout",
     "output_type": "stream",
     "text": [
      "letter\n"
     ]
    },
    {
     "name": "stderr",
     "output_type": "stream",
     "text": [
      "100%|██████████| 10/10 [15:44<00:00, 94.49s/it]\n"
     ]
    }
   ],
   "source": [
    "from imblearn.over_sampling import SMOTE\n",
    "\n",
    "for data in data_list:\n",
    "    print(data)\n",
    "    result_df = pd.DataFrame(\n",
    "                        columns=['AUC', 'accuracy', 'recall', 'Specificity', 'precision', 'gmeans', 'RS'],\n",
    "                        index=range(n_experiment))\n",
    "    for m in tqdm(range(n_experiment)):\n",
    "        \n",
    "        X, y = data_load(data)\n",
    "          \n",
    "        # パラメータ\n",
    "        n_estimators = 10\n",
    "        max_samples = 0.5\n",
    "\n",
    "        # 実行するところ\n",
    "\n",
    "        # K:再標本化の回数 SIZE:再標本化されたもののサンプルサイズ\n",
    "        K = n_estimators\n",
    "        SIZE = int(len(X) * max_samples)\n",
    "\n",
    "        # 予測に必要なパラメータ\n",
    "        select_columns = [0] * K\n",
    "        result_scaler = [0] * K\n",
    "        result_inv_C = [0] * K\n",
    "        threshold = [0] * K\n",
    "\n",
    "        # SMOTEを実行\n",
    "        sampler = SMOTE()\n",
    "        SMOTE_X, SMOTE_y = sampler.fit_resample(X=X_train, y=y_train)\n",
    "        for i in range(K):\n",
    "            # bootstrap sampling\n",
    "            resampled_data_x, resampled_data_y = resample(SMOTE_X, SMOTE_y, n_samples = SIZE)\n",
    "            random_s = random.sample(\n",
    "                list(resampled_data_x.columns), \n",
    "                len(resampled_data_x.columns) \n",
    "                if len(resampled_data_x.columns) < 7 \n",
    "                else 7\n",
    "                )\n",
    "            resampled_data_x = resampled_data_x[random_s]\n",
    "\n",
    "            result_scaler[i], result_inv_C[i], select_columns[i] = fit_MTS(resampled_data_x, resampled_data_y)\n",
    "\n",
    "            if result_scaler[i] != 0:\n",
    "                y_pred = predict_MTS(resampled_data_x, result_scaler[i], result_inv_C[i], select_columns[i])\n",
    "            else:\n",
    "                y_pred = resampled_data_x[select_columns[i]]\n",
    "\n",
    "            threshold[i] = determine_threshold(resampled_data_y, y_pred)\n",
    "            \n",
    "\n",
    "        y_proba, y_pred = predict_MTSBag(X_test, result_scaler, result_inv_C, select_columns, threshold)\n",
    "\n",
    "        result_df = make_result_df(result_df, y_test, y_pred, y_proba)\n",
    "        \n",
    "    result_df.to_csv(f'../data/MTS_{data}_result.csv')\n",
    "\n"
   ]
  },
  {
   "cell_type": "code",
   "execution_count": null,
   "metadata": {},
   "outputs": [],
   "source": []
  },
  {
   "cell_type": "code",
   "execution_count": null,
   "metadata": {},
   "outputs": [],
   "source": []
  }
 ],
 "metadata": {
  "interpreter": {
   "hash": "c7e6621f5c0e725993c5f5dd1734f3da8dc8c958ed2c46496e37b878d46070df"
  },
  "kernelspec": {
   "display_name": "Python 3.8.10 64-bit ('convenient': conda)",
   "language": "python",
   "name": "python3"
  },
  "language_info": {
   "codemirror_mode": {
    "name": "ipython",
    "version": 3
   },
   "file_extension": ".py",
   "mimetype": "text/x-python",
   "name": "python",
   "nbconvert_exporter": "python",
   "pygments_lexer": "ipython3",
   "version": "3.8.10"
  },
  "orig_nbformat": 4
 },
 "nbformat": 4,
 "nbformat_minor": 2
}
